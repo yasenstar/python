{
 "cells": [
  {
   "cell_type": "markdown",
   "id": "47070026",
   "metadata": {},
   "source": [
    "# 8.5 Test Functions for Classes"
   ]
  },
  {
   "cell_type": "code",
   "execution_count": 3,
   "id": "f1642c8b",
   "metadata": {},
   "outputs": [],
   "source": [
    "class Derivative:\n",
    "    def __init__(self, f, h=1E-5):\n",
    "        self.f = f\n",
    "        self.h = float(h)\n",
    "    \n",
    "    def __call__(self, x):\n",
    "        f = self.f\n",
    "        h = self.h\n",
    "        return (f(x+h) - f(x)) / h"
   ]
  },
  {
   "cell_type": "code",
   "execution_count": 15,
   "id": "0af61d4d",
   "metadata": {},
   "outputs": [],
   "source": [
    "def test_Derivative():\n",
    "    # The formula is exact for linear functions, regardless of h\n",
    "    f = lambda x: a*x+b\n",
    "    a = 3.5\n",
    "    b = 8\n",
    "    dfdx = Derivative(f, h= 0.5)\n",
    "    print(dfdx)\n",
    "    diff = abs(dfdx(4.5) - a)\n",
    "    assert diff < 1E-14, 'bug in class Derivative, diff=%s' % diff"
   ]
  },
  {
   "cell_type": "code",
   "execution_count": 9,
   "id": "8f8f894f",
   "metadata": {},
   "outputs": [
    {
     "name": "stdout",
     "output_type": "stream",
     "text": [
      "5\n"
     ]
    }
   ],
   "source": [
    "print(abs(-5))"
   ]
  },
  {
   "cell_type": "code",
   "execution_count": 16,
   "id": "23447018",
   "metadata": {},
   "outputs": [
    {
     "name": "stdout",
     "output_type": "stream",
     "text": [
      "<__main__.Derivative object at 0x000001FFD6737A40>\n"
     ]
    }
   ],
   "source": [
    "test_Derivative()"
   ]
  },
  {
   "cell_type": "code",
   "execution_count": null,
   "id": "24809217",
   "metadata": {},
   "outputs": [],
   "source": []
  }
 ],
 "metadata": {
  "kernelspec": {
   "display_name": "base",
   "language": "python",
   "name": "python3"
  },
  "language_info": {
   "codemirror_mode": {
    "name": "ipython",
    "version": 3
   },
   "file_extension": ".py",
   "mimetype": "text/x-python",
   "name": "python",
   "nbconvert_exporter": "python",
   "pygments_lexer": "ipython3",
   "version": "3.12.7"
  }
 },
 "nbformat": 4,
 "nbformat_minor": 5
}
