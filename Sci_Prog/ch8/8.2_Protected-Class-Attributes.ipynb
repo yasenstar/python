{
 "cells": [
  {
   "cell_type": "markdown",
   "id": "80d6966c",
   "metadata": {},
   "source": [
    "# 8.2 Protected Class Attributes"
   ]
  },
  {
   "cell_type": "code",
   "execution_count": 18,
   "id": "658329db",
   "metadata": {},
   "outputs": [],
   "source": [
    "class BankAccount:\n",
    "    def __init__(self, first_name, last_name, number, balance):\n",
    "        self.first_name = first_name\n",
    "        self.last_name = last_name\n",
    "        self.number = number\n",
    "        self.balance = balance\n",
    "    \n",
    "    def deposit(self, amount):\n",
    "        self.balance += amount\n",
    "    \n",
    "    def withdraw(self, amount):\n",
    "        self.balance -= amount\n",
    "\n",
    "    def name_change(self, new_first, new_last):\n",
    "        self.first_name = new_first\n",
    "        self.last_name = new_last\n",
    "    \n",
    "    def print_info(self):\n",
    "        first = self.first_name\n",
    "        last = self.last_name\n",
    "        number = self.number\n",
    "        bal = self.balance\n",
    "        s = f'{first} {last}, {number}, balance: {bal}'\n",
    "        print(s)"
   ]
  },
  {
   "cell_type": "code",
   "execution_count": 20,
   "id": "31ab777c",
   "metadata": {},
   "outputs": [
    {
     "name": "stdout",
     "output_type": "stream",
     "text": [
      "John Olsson, 19371554951, balance: 20000\n",
      "John Olsson, 19371554951, balance: 21000\n",
      "John Olsson, 19371554951, balance: 20500\n"
     ]
    }
   ],
   "source": [
    "a1 = BankAccount(\n",
    "    \"John\",\n",
    "    \"Olsson\",\n",
    "    \"19371554951\",\n",
    "    20000\n",
    ")\n",
    "a1.print_info()\n",
    "a1.deposit(1000)\n",
    "a1.print_info()\n",
    "a1.withdraw(500)\n",
    "a1.print_info()"
   ]
  },
  {
   "cell_type": "code",
   "execution_count": 15,
   "id": "d405e373",
   "metadata": {},
   "outputs": [
    {
     "name": "stdout",
     "output_type": "stream",
     "text": [
      "Liz Olsson, 19371565761, balance: 30000\n"
     ]
    }
   ],
   "source": [
    "a2 = BankAccount('Liz', 'Olsson', '19371565761', 30000)\n",
    "a2.print_info()\n"
   ]
  },
  {
   "cell_type": "code",
   "execution_count": 17,
   "id": "08ddc150",
   "metadata": {},
   "outputs": [
    {
     "name": "stdout",
     "output_type": "stream",
     "text": [
      "Nobody Olsson, 19371554951, balance: 20500\n"
     ]
    }
   ],
   "source": [
    "a1.first_name = \"Nobody\"\n",
    "a1.print_info()"
   ]
  },
  {
   "cell_type": "code",
   "execution_count": 22,
   "id": "dc5221cb",
   "metadata": {},
   "outputs": [
    {
     "name": "stdout",
     "output_type": "stream",
     "text": [
      "John Olsson, 19371554951, balance: 20500\n"
     ]
    }
   ],
   "source": [
    "a1.name_change('John', 'Olsson')\n",
    "a1.print_info()"
   ]
  },
  {
   "cell_type": "code",
   "execution_count": 25,
   "id": "7dbfbf2c",
   "metadata": {},
   "outputs": [],
   "source": [
    "class BankAccount1:\n",
    "    def __init__(self, first_name, last_name, number, balance):\n",
    "        self._first_name = first_name\n",
    "        self._last_name = last_name\n",
    "        self._number = number\n",
    "        self._balance = balance\n",
    "    \n",
    "    def deposit(self, amount):\n",
    "        self._balance += amount\n",
    "    \n",
    "    def withdraw(self, amount):\n",
    "        self._balance -= amount\n",
    "\n",
    "    def name_change(self, new_first, new_last):\n",
    "        self._first_name = new_first\n",
    "        self._last_name = new_last\n",
    "    \n",
    "    def print_info(self):\n",
    "        first = self._first_name\n",
    "        last = self._last_name\n",
    "        number = self._number\n",
    "        bal = self._balance\n",
    "        s = f'{first} {last}, {number}, balance: {bal}'\n",
    "        print(s)"
   ]
  },
  {
   "cell_type": "code",
   "execution_count": 27,
   "id": "8c43a539",
   "metadata": {},
   "outputs": [
    {
     "name": "stdout",
     "output_type": "stream",
     "text": [
      "Yasen Zhao, 19374232315, balance: 20000\n",
      "Yasen Zhao, 0000000000, balance: 20000\n"
     ]
    }
   ],
   "source": [
    "a3 = BankAccount1('Yasen', 'Zhao', '19374232315', 20000)\n",
    "a3.print_info()\n",
    "a3._number = '0000000000'\n",
    "a3.print_info()"
   ]
  },
  {
   "cell_type": "code",
   "execution_count": null,
   "id": "b79bb070",
   "metadata": {},
   "outputs": [],
   "source": []
  }
 ],
 "metadata": {
  "kernelspec": {
   "display_name": "base",
   "language": "python",
   "name": "python3"
  },
  "language_info": {
   "codemirror_mode": {
    "name": "ipython",
    "version": 3
   },
   "file_extension": ".py",
   "mimetype": "text/x-python",
   "name": "python",
   "nbconvert_exporter": "python",
   "pygments_lexer": "ipython3",
   "version": "3.12.7"
  }
 },
 "nbformat": 4,
 "nbformat_minor": 5
}
