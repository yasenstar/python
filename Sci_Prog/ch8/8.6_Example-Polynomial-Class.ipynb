{
 "cells": [
  {
   "cell_type": "markdown",
   "id": "d3e6b2c6",
   "metadata": {},
   "source": [
    "# 8.6 Example: A Polynomial Class"
   ]
  },
  {
   "cell_type": "code",
   "execution_count": 122,
   "id": "59facfd1",
   "metadata": {},
   "outputs": [],
   "source": [
    "class Polynomial():\n",
    "    def __init__(self, coefficients):\n",
    "        self.coeff = coefficients\n",
    "    \n",
    "    def __str__(self):\n",
    "        s = ''\n",
    "        for i in range(0, len(self.coeff)):\n",
    "            if self.coeff[i] != 0:\n",
    "                s += f' + {self.coeff[i]:g}*x^{i:g}'\n",
    "        # fix layout (many special cases):\n",
    "        s = s.replace('+ -', '- ')\n",
    "        s = s.replace(' 1*', ' ')\n",
    "        s = s.replace('x^0', '1')\n",
    "        s = s.replace('x^1', 'x')\n",
    "        if s[0:3] == ' + ':\n",
    "            s = s[3:]\n",
    "        if s[0:3] == ' - ':\n",
    "            s = '-' + s[3:]\n",
    "        return s\n",
    "\n",
    "    def __call__(self, x):\n",
    "        s = 0\n",
    "        for i in range(len(self.coeff)):\n",
    "            s += self.coeff[i]*x**i\n",
    "        return s\n",
    "\n",
    "    def __add__(self, other):\n",
    "        if (len(self.coeff) > len(other.coeff)):\n",
    "            coeffsum = self.coeff[:]\n",
    "            for i in range (len(other.coeff)):\n",
    "                coeffsum[i] += other.coeff[i]\n",
    "        else:\n",
    "            coeffsum = other.coeff[:]\n",
    "            for i in range (len(self.coeff)):\n",
    "                coeffsum[i] += self.coeff[i]\n",
    "        return Polynomial(coeffsum)\n",
    "\n",
    "    def __mul__(self, other):\n",
    "        M = len(self.coeff) - 1\n",
    "        N = len(other.coeff) - 1\n",
    "        coeff = [0]*(M+N+1)\n",
    "        for i in range(0, M+1):\n",
    "            for j in range(0, N+1):\n",
    "                coeff[i+j] += self.coeff[i] * other.coeff[j]\n",
    "        return Polynomial(coeff)\n",
    "    \n",
    "    def differentiate(self):\n",
    "        for i in range(1, len(self.coeff)):\n",
    "            self.coeff[i-1] = i * self.coeff[i]\n",
    "        del self.coeff[-1]\n",
    "    \n",
    "    def derivative(self):\n",
    "        dpdx = Polynomial(self.coeff[:])\n",
    "        dpdx.differentiate()\n",
    "        return dpdx"
   ]
  },
  {
   "cell_type": "code",
   "execution_count": 123,
   "id": "af0bf847",
   "metadata": {},
   "outputs": [
    {
     "name": "stdout",
     "output_type": "stream",
     "text": [
      "1 - x\n",
      "-9\n"
     ]
    }
   ],
   "source": [
    "p1 = Polynomial([1, -1])\n",
    "print(p1)\n",
    "print(p1(10))"
   ]
  },
  {
   "cell_type": "code",
   "execution_count": 124,
   "id": "3b3db085",
   "metadata": {},
   "outputs": [
    {
     "name": "stdout",
     "output_type": "stream",
     "text": [
      "x - 6*x^4 - x^5\n"
     ]
    }
   ],
   "source": [
    "p2 = Polynomial([0, 1, 0, 0, -6, -1])\n",
    "print(p2)"
   ]
  },
  {
   "cell_type": "code",
   "execution_count": 125,
   "id": "082fa9c1",
   "metadata": {},
   "outputs": [
    {
     "name": "stdout",
     "output_type": "stream",
     "text": [
      "[1, -1]\n",
      "[0, 1, 0, 0, -6, -1]\n",
      "[1, 0, 0, 0, -6, -1]\n",
      "1 - 6*x^4 - x^5\n",
      "-127.0\n"
     ]
    }
   ],
   "source": [
    "p3 = p1 + p2\n",
    "print(p1.coeff)\n",
    "print(p2.coeff)\n",
    "print(p3.coeff)\n",
    "print(p3)\n",
    "print(p3(2.0))"
   ]
  },
  {
   "cell_type": "code",
   "execution_count": 126,
   "id": "acf002be",
   "metadata": {},
   "outputs": [
    {
     "name": "stdout",
     "output_type": "stream",
     "text": [
      "1 - x\n",
      "x - 6*x^4 - x^5\n",
      "x - x^2 - 6*x^4 + 5*x^5 + x^6\n"
     ]
    }
   ],
   "source": [
    "p4 = p1 * p2\n",
    "print(p1)\n",
    "print(p2)\n",
    "print(p4)"
   ]
  },
  {
   "cell_type": "code",
   "execution_count": 127,
   "id": "361bd099",
   "metadata": {},
   "outputs": [
    {
     "name": "stdout",
     "output_type": "stream",
     "text": [
      "None\n",
      "-1\n",
      "None\n",
      "1 - 24*x^3 - 5*x^4\n"
     ]
    }
   ],
   "source": [
    "print(p1.differentiate())\n",
    "print(p1)\n",
    "print(p2.differentiate())\n",
    "print(p2)"
   ]
  },
  {
   "cell_type": "code",
   "execution_count": 128,
   "id": "43cb45d3",
   "metadata": {},
   "outputs": [
    {
     "name": "stdout",
     "output_type": "stream",
     "text": [
      "-72*x^2 - 20*x^3\n"
     ]
    }
   ],
   "source": [
    "print(p2.derivative())"
   ]
  },
  {
   "cell_type": "code",
   "execution_count": null,
   "id": "99aee410",
   "metadata": {},
   "outputs": [],
   "source": []
  }
 ],
 "metadata": {
  "kernelspec": {
   "display_name": "base",
   "language": "python",
   "name": "python3"
  },
  "language_info": {
   "codemirror_mode": {
    "name": "ipython",
    "version": 3
   },
   "file_extension": ".py",
   "mimetype": "text/x-python",
   "name": "python",
   "nbconvert_exporter": "python",
   "pygments_lexer": "ipython3",
   "version": "3.12.7"
  }
 },
 "nbformat": 4,
 "nbformat_minor": 5
}
