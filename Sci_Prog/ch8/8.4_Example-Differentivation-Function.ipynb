{
 "cells": [
  {
   "cell_type": "markdown",
   "id": "2bb23e22",
   "metadata": {},
   "source": [
    "# 8.4 Example: Automatic Differentiation of Functions"
   ]
  },
  {
   "cell_type": "code",
   "execution_count": 1,
   "id": "ec689887",
   "metadata": {},
   "outputs": [],
   "source": [
    "def f(x):\n",
    "    return x**3"
   ]
  },
  {
   "cell_type": "code",
   "execution_count": 7,
   "id": "21d20e02",
   "metadata": {},
   "outputs": [],
   "source": [
    "class Derivative:\n",
    "    def __init__(self, f, h=1E-5):\n",
    "        self.f = f\n",
    "        self.h = float(h)\n",
    "    \n",
    "    def __call__(self, x):\n",
    "        f = self.f\n",
    "        h = self.h\n",
    "        return (f(x+h) - f(x)) / h\n",
    "    "
   ]
  },
  {
   "cell_type": "code",
   "execution_count": 10,
   "id": "df1731ba",
   "metadata": {},
   "outputs": [
    {
     "name": "stdout",
     "output_type": "stream",
     "text": [
      "<__main__.Derivative object at 0x000002E08383B740>\n",
      "12.000060000261213\n",
      "27.000090000228735\n",
      "48.000119998903294\n"
     ]
    }
   ],
   "source": [
    "dfdx = Derivative(f)\n",
    "print(dfdx)\n",
    "print(dfdx(2))\n",
    "print(dfdx(3))\n",
    "print(dfdx(4))"
   ]
  },
  {
   "cell_type": "code",
   "execution_count": 11,
   "id": "f7a20f27",
   "metadata": {},
   "outputs": [
    {
     "name": "stdout",
     "output_type": "stream",
     "text": [
      "-0.9999999999898844\n"
     ]
    }
   ],
   "source": [
    "from math import *\n",
    "df = Derivative(sin)\n",
    "x = pi\n",
    "print(df(x))"
   ]
  },
  {
   "cell_type": "code",
   "execution_count": 12,
   "id": "9e6b03a4",
   "metadata": {},
   "outputs": [
    {
     "name": "stdout",
     "output_type": "stream",
     "text": [
      "-1.0\n"
     ]
    }
   ],
   "source": [
    "print(cos(x))"
   ]
  },
  {
   "cell_type": "code",
   "execution_count": 14,
   "id": "27f68968",
   "metadata": {},
   "outputs": [],
   "source": [
    "def g(t):\n",
    "    return t**3\n"
   ]
  },
  {
   "cell_type": "code",
   "execution_count": 16,
   "id": "0d7da22a",
   "metadata": {},
   "outputs": [
    {
     "name": "stdout",
     "output_type": "stream",
     "text": [
      "3.000030000110953\n"
     ]
    }
   ],
   "source": [
    "dg = Derivative(g)\n",
    "t = 1\n",
    "print(dg(1))"
   ]
  },
  {
   "cell_type": "code",
   "execution_count": 19,
   "id": "3d4c68b7",
   "metadata": {},
   "outputs": [
    {
     "name": "stdout",
     "output_type": "stream",
     "text": [
      "1.0\n",
      "x0:  0 , x1:  -0.3333333333333333\n",
      "0.06227909203955351\n",
      "x0:  -0.3333333333333333 , x1:  -0.31800226162878387\n",
      "0.10237032315669481\n",
      "x0:  -0.31800226162878387 , x1:  -0.29058965217399646\n",
      "0.1748571390983209\n",
      "x0:  -0.29058965217399646 , x1:  -0.235061976422863\n",
      "0.3247392599917953\n",
      "x0:  -0.235061976422863 , x1:  -0.0699033703681366\n",
      "0.7927910687179414\n",
      "x0:  -0.0699033703681366 , x1:  -0.5882273544447649\n",
      "-0.5520914035330915\n",
      "x0:  -0.5882273544447649 , x1:  -0.6459452582926395\n",
      "-0.675831577834568\n",
      "x0:  -0.6459452582926395 , x1:  -0.7083679640908299\n",
      "-0.8017854424476414\n",
      "x0:  -0.7083679640908299 , x1:  -0.7740986762776747\n",
      "-0.9217887602146684\n",
      "x0:  -0.7740986762776747 , x1:  -0.841625970044981\n",
      "-1.0145707589987536\n",
      "x0:  -0.841625970044981 , x1:  -0.9085825995242349\n",
      "-1.0065364757300919\n",
      "x0:  -0.9085825995242349 , x1:  -0.9690263257559272\n",
      "-0.7077473518919919\n",
      "x0:  -0.9690263257559272 , x1:  -1.0083109135656045\n",
      "-0.1122563126394871\n",
      "x0:  -1.0083109135656045 , x1:  -1.014248143714883\n",
      "0.027338231331837992\n",
      "x0:  -1.014248143714883 , x1:  -1.0128124820742335\n",
      "-0.007942258271294467\n",
      "x0:  -1.0128124820742335 , x1:  -1.013230284930354\n",
      "0.002221667962967633\n",
      "x0:  -1.013230284930354 , x1:  -1.0131134724041986\n",
      "-0.0006285254931652773\n",
      "x0:  -1.0131134724041986 , x1:  -1.0131465241085678\n",
      "0.000177257565590061\n",
      "x0:  -1.0131465241085678 , x1:  -1.013137203193142\n",
      "-5.0034875236804055e-05\n",
      "x0:  -1.013137203193142 , x1:  -1.0131398342573799\n",
      "1.4119913214649671e-05\n",
      "x = -1.01314 is an approximate root, f(-1.01314) = 1.41199e-05\n",
      "The method did not converged\n"
     ]
    }
   ],
   "source": [
    "from math import exp\n",
    "\n",
    "def Newton(f, dfdx, x0, max_it=20, tol = 1e-3):\n",
    "    f0 = f(x0)\n",
    "    print(f0)\n",
    "    iter = 0\n",
    "    while abs(f0) > tol and iter < max_it:\n",
    "        x1 = x0 - f0 / dfdx(x0)\n",
    "        print(\"x0: \", x0, \", x1: \",x1)\n",
    "        x0 = x1\n",
    "        f0 = f(x0)\n",
    "        print(f0)\n",
    "        iter += 1\n",
    "    converged = iter < max_it\n",
    "    return x0, converged, iter\n",
    "\n",
    "f = lambda x: x**20 + 4*x + exp(-x)\n",
    "dfdx = lambda x: 20*x + 4 - exp(-x)\n",
    "\n",
    "sol, converged, iter = Newton(f, dfdx, 0, tol=1e-6)\n",
    "\n",
    "print(f\"x = {sol:g} is an approximate root, f({sol:g}) = {f(sol):g}\")\n",
    "\n",
    "if converged:\n",
    "    print(f'Newtons method converged in {iter} iterations')\n",
    "else:\n",
    "    print(f\"The method did not converged\")"
   ]
  },
  {
   "cell_type": "code",
   "execution_count": 21,
   "id": "6e726d20",
   "metadata": {},
   "outputs": [
    {
     "name": "stdout",
     "output_type": "stream",
     "text": [
      "110122.72542268793\n",
      "x0:  1.01 , x1:  0.8994924962540674\n",
      "(-529.3339257959112+9.266773972916933j)\n",
      "x0:  0.8994924962540674 , x1:  (0.9000026540188545+6.663789583335181e-08j)\n",
      "(2.8493014784286363+0.07114514891705533j)\n",
      "x0:  (0.9000026540188545+6.663789583335181e-08j) , x1:  (0.8999999707681572-5.160735737481856e-10j)\n",
      "(-0.032160374303986605-0.0011237396242682093j)\n",
      "x0:  (0.8999999707681572-5.160735737481856e-10j) , x1:  (0.9000000009418753+5.36613959999046e-10j)\n",
      "(0.0010574853025494349+0.0005984756333256662j)\n",
      "x0:  (0.9000000009418753+5.36613959999046e-10j) , x1:  (0.8999999999496026-2.4958769787462854e-11j)\n",
      "(-5.6995414482073716e-05-2.9286720091225008e-05j)\n"
     ]
    },
    {
     "data": {
      "text/plain": [
       "((0.8999999999496026-2.4958769787462854e-11j), True, 5)"
      ]
     },
     "execution_count": 21,
     "metadata": {},
     "output_type": "execute_result"
    }
   ],
   "source": [
    "def f(x):\n",
    "    return 1000000*(x-0.9)**2**(x-1.1)**3\n",
    "dfdx = Derivative(f)\n",
    "xstart = 1.01\n",
    "Newton(f, dfdx, xstart)"
   ]
  },
  {
   "cell_type": "code",
   "execution_count": 23,
   "id": "2a415100",
   "metadata": {},
   "outputs": [
    {
     "name": "stdout",
     "output_type": "stream",
     "text": [
      "Parent constructor\n",
      "<__main__.Parent object at 0x000002E08383B740>\n",
      "Child constructor\n",
      "<__main__.Child object at 0x000002E0838628D0>\n"
     ]
    }
   ],
   "source": [
    "# Quiz\n",
    "class Parent:\n",
    "    def __init__(self):\n",
    "        print(\"Parent constructor\")\n",
    "\n",
    "class Child(Parent):\n",
    "    def __init__(self):\n",
    "        print(\"Child constructor\")\n",
    "\n",
    "p = Parent()\n",
    "print(p)\n",
    "c = Child()\n",
    "print(c)"
   ]
  },
  {
   "cell_type": "code",
   "execution_count": null,
   "id": "7211b601",
   "metadata": {},
   "outputs": [],
   "source": []
  }
 ],
 "metadata": {
  "kernelspec": {
   "display_name": "base",
   "language": "python",
   "name": "python3"
  },
  "language_info": {
   "codemirror_mode": {
    "name": "ipython",
    "version": 3
   },
   "file_extension": ".py",
   "mimetype": "text/x-python",
   "name": "python",
   "nbconvert_exporter": "python",
   "pygments_lexer": "ipython3",
   "version": "3.12.7"
  }
 },
 "nbformat": 4,
 "nbformat_minor": 5
}
