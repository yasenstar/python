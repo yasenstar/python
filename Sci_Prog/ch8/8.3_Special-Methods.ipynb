{
 "cells": [
  {
   "cell_type": "markdown",
   "id": "6adc752f",
   "metadata": {},
   "source": [
    "# 8.3 Special Methods"
   ]
  },
  {
   "cell_type": "markdown",
   "id": "ee10336c",
   "metadata": {},
   "source": [
    "## Calling Special Method"
   ]
  },
  {
   "cell_type": "code",
   "execution_count": 7,
   "id": "1dfa9757",
   "metadata": {},
   "outputs": [
    {
     "name": "stdout",
     "output_type": "stream",
     "text": [
      "<class 'type'>\n"
     ]
    }
   ],
   "source": [
    "from math import exp\n",
    "class Barometric:\n",
    "    def __init__(self, T):\n",
    "        self.T = T          # K\n",
    "        self.g = 9.81       # m/(s*s)\n",
    "        self.R = 8.314      # J/(K*mol)\n",
    "        self.M = 0.02896    # kg/mol\n",
    "        self.p0 = 100.0     #kPa\n",
    "    \n",
    "    def value(self, h):\n",
    "        return self.p0 * exp(-self.M*self.g*h/(self.R*self.T))\n",
    "\n",
    "print(type(Barometric))"
   ]
  },
  {
   "cell_type": "code",
   "execution_count": 8,
   "id": "3272f888",
   "metadata": {},
   "outputs": [
    {
     "data": {
      "text/plain": [
       "96.64062459675785"
      ]
     },
     "execution_count": 8,
     "metadata": {},
     "output_type": "execute_result"
    }
   ],
   "source": [
    "baro = Barometric(T=245)\n",
    "baro.value(245)"
   ]
  },
  {
   "cell_type": "code",
   "execution_count": 9,
   "id": "f27a94c2",
   "metadata": {},
   "outputs": [
    {
     "name": "stdout",
     "output_type": "stream",
     "text": [
      "<class 'type'>\n"
     ]
    }
   ],
   "source": [
    "from math import exp\n",
    "class Barometric2:\n",
    "    def __init__(self, T):\n",
    "        self.T = T          # K\n",
    "        self.g = 9.81       # m/(s*s)\n",
    "        self.R = 8.314      # J/(K*mol)\n",
    "        self.M = 0.02896    # kg/mol\n",
    "        self.p0 = 100.0     #kPa\n",
    "    \n",
    "    def __call__(self, h):\n",
    "        return self.p0 * exp(-self.M*self.g*h/(self.R*self.T))\n",
    "\n",
    "print(type(Barometric2))"
   ]
  },
  {
   "cell_type": "code",
   "execution_count": 11,
   "id": "02415e49",
   "metadata": {},
   "outputs": [
    {
     "data": {
      "text/plain": [
       "96.64062459675785"
      ]
     },
     "execution_count": 11,
     "metadata": {},
     "output_type": "execute_result"
    }
   ],
   "source": [
    "baro2 = Barometric2(245)\n",
    "baro2(245)"
   ]
  },
  {
   "cell_type": "markdown",
   "id": "c1a83be3",
   "metadata": {},
   "source": [
    "## Printing Special Method"
   ]
  },
  {
   "cell_type": "code",
   "execution_count": 12,
   "id": "6e68629a",
   "metadata": {},
   "outputs": [
    {
     "name": "stdout",
     "output_type": "stream",
     "text": [
      "<__main__.Barometric object at 0x000002BBBF98EDE0>\n",
      "<__main__.Barometric2 object at 0x000002BBBF0E3260>\n"
     ]
    }
   ],
   "source": [
    "print(baro)\n",
    "print(baro2)"
   ]
  },
  {
   "cell_type": "code",
   "execution_count": 16,
   "id": "dfaf1fa3",
   "metadata": {},
   "outputs": [
    {
     "name": "stdout",
     "output_type": "stream",
     "text": [
      "<class 'type'>\n"
     ]
    }
   ],
   "source": [
    "from math import exp\n",
    "class Barometric3:\n",
    "    def __init__(self, T):\n",
    "        self.T = T          # K\n",
    "        self.g = 9.81       # m/(s*s)\n",
    "        self.R = 8.314      # J/(K*mol)\n",
    "        self.M = 0.02896    # kg/mol\n",
    "        self.p0 = 100.0     #kPa\n",
    "    \n",
    "    def __call__(self, h):\n",
    "        return self.p0 * exp(-self.M*self.g*h/(self.R*self.T))\n",
    "    \n",
    "    def __str__(self):\n",
    "        return f'This is the Baromatric Calculator\\np0 * exp(-M*g*h/(R*T)); T = {self.T}'\n",
    "\n",
    "print(type(Barometric3))"
   ]
  },
  {
   "cell_type": "code",
   "execution_count": 17,
   "id": "c88fe0c0",
   "metadata": {},
   "outputs": [
    {
     "name": "stdout",
     "output_type": "stream",
     "text": [
      "This is the Baromatric Calculator\n",
      "p0 * exp(-M*g*h/(R*T)); T = 245\n"
     ]
    }
   ],
   "source": [
    "baro3 = Barometric3(245)\n",
    "print(baro3)"
   ]
  },
  {
   "cell_type": "code",
   "execution_count": null,
   "id": "17530ad8",
   "metadata": {},
   "outputs": [],
   "source": []
  }
 ],
 "metadata": {
  "kernelspec": {
   "display_name": "base",
   "language": "python",
   "name": "python3"
  },
  "language_info": {
   "codemirror_mode": {
    "name": "ipython",
    "version": 3
   },
   "file_extension": ".py",
   "mimetype": "text/x-python",
   "name": "python",
   "nbconvert_exporter": "python",
   "pygments_lexer": "ipython3",
   "version": "3.12.7"
  }
 },
 "nbformat": 4,
 "nbformat_minor": 5
}
