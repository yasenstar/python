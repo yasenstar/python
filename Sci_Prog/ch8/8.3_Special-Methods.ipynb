{
 "cells": [
  {
   "cell_type": "markdown",
   "id": "6adc752f",
   "metadata": {},
   "source": [
    "# 8.3 Special Methods"
   ]
  },
  {
   "cell_type": "markdown",
   "id": "ee10336c",
   "metadata": {},
   "source": [
    "## Calling Special Method"
   ]
  },
  {
   "cell_type": "code",
   "execution_count": 7,
   "id": "1dfa9757",
   "metadata": {},
   "outputs": [
    {
     "name": "stdout",
     "output_type": "stream",
     "text": [
      "<class 'type'>\n"
     ]
    }
   ],
   "source": [
    "from math import exp\n",
    "class Barometric:\n",
    "    def __init__(self, T):\n",
    "        self.T = T          # K\n",
    "        self.g = 9.81       # m/(s*s)\n",
    "        self.R = 8.314      # J/(K*mol)\n",
    "        self.M = 0.02896    # kg/mol\n",
    "        self.p0 = 100.0     #kPa\n",
    "    \n",
    "    def value(self, h):\n",
    "        return self.p0 * exp(-self.M*self.g*h/(self.R*self.T))\n",
    "\n",
    "print(type(Barometric))"
   ]
  },
  {
   "cell_type": "code",
   "execution_count": 8,
   "id": "3272f888",
   "metadata": {},
   "outputs": [
    {
     "data": {
      "text/plain": [
       "96.64062459675785"
      ]
     },
     "execution_count": 8,
     "metadata": {},
     "output_type": "execute_result"
    }
   ],
   "source": [
    "baro = Barometric(T=245)\n",
    "baro.value(245)"
   ]
  },
  {
   "cell_type": "code",
   "execution_count": 66,
   "id": "f27a94c2",
   "metadata": {},
   "outputs": [
    {
     "name": "stdout",
     "output_type": "stream",
     "text": [
      "<class 'type'>\n"
     ]
    }
   ],
   "source": [
    "from math import exp\n",
    "class Barometric2:\n",
    "    def __init__(self, T):\n",
    "        self.T = T          # K\n",
    "        self.g = 9.81       # m/(s*s)\n",
    "        self.R = 8.314      # J/(K*mol)\n",
    "        self.M = 0.02896    # kg/mol\n",
    "        self.p0 = 100.0     #kPa\n",
    "    \n",
    "    def __call__(self, h):\n",
    "        return self.p0 * exp(-self.M*self.g*h/(self.R*self.T))\n",
    "\n",
    "print(type(Barometric2))"
   ]
  },
  {
   "cell_type": "code",
   "execution_count": 68,
   "id": "02415e49",
   "metadata": {},
   "outputs": [
    {
     "name": "stdout",
     "output_type": "stream",
     "text": [
      "96.64062459675785\n"
     ]
    },
    {
     "data": {
      "text/plain": [
       "{'T': 245, 'g': 9.81, 'R': 8.314, 'M': 0.02896, 'p0': 100.0}"
      ]
     },
     "execution_count": 68,
     "metadata": {},
     "output_type": "execute_result"
    }
   ],
   "source": [
    "baro2 = Barometric2(245)\n",
    "print(baro2(245))\n",
    "baro2.__dict__"
   ]
  },
  {
   "cell_type": "markdown",
   "id": "c1a83be3",
   "metadata": {},
   "source": [
    "## Printing Special Method"
   ]
  },
  {
   "cell_type": "code",
   "execution_count": 12,
   "id": "6e68629a",
   "metadata": {},
   "outputs": [
    {
     "name": "stdout",
     "output_type": "stream",
     "text": [
      "<__main__.Barometric object at 0x000002BBBF98EDE0>\n",
      "<__main__.Barometric2 object at 0x000002BBBF0E3260>\n"
     ]
    }
   ],
   "source": [
    "print(baro)\n",
    "print(baro2)"
   ]
  },
  {
   "cell_type": "code",
   "execution_count": 16,
   "id": "dfaf1fa3",
   "metadata": {},
   "outputs": [
    {
     "name": "stdout",
     "output_type": "stream",
     "text": [
      "<class 'type'>\n"
     ]
    }
   ],
   "source": [
    "from math import exp\n",
    "class Barometric3:\n",
    "    def __init__(self, T):\n",
    "        self.T = T          # K\n",
    "        self.g = 9.81       # m/(s*s)\n",
    "        self.R = 8.314      # J/(K*mol)\n",
    "        self.M = 0.02896    # kg/mol\n",
    "        self.p0 = 100.0     #kPa\n",
    "    \n",
    "    def __call__(self, h):\n",
    "        return self.p0 * exp(-self.M*self.g*h/(self.R*self.T))\n",
    "    \n",
    "    def __str__(self):\n",
    "        return f'This is the Baromatric Calculator\\np0 * exp(-M*g*h/(R*T)); T = {self.T}'\n",
    "\n",
    "print(type(Barometric3))"
   ]
  },
  {
   "cell_type": "code",
   "execution_count": 17,
   "id": "c88fe0c0",
   "metadata": {},
   "outputs": [
    {
     "name": "stdout",
     "output_type": "stream",
     "text": [
      "This is the Baromatric Calculator\n",
      "p0 * exp(-M*g*h/(R*T)); T = 245\n"
     ]
    }
   ],
   "source": [
    "baro3 = Barometric3(245)\n",
    "print(baro3)"
   ]
  },
  {
   "cell_type": "markdown",
   "id": "78703d38",
   "metadata": {},
   "source": [
    "## Arithmetic Special Methods\n",
    "\n",
    "Sample can be found from: https://realpython.com/python-magic-methods/"
   ]
  },
  {
   "cell_type": "code",
   "execution_count": 33,
   "id": "17530ad8",
   "metadata": {},
   "outputs": [
    {
     "name": "stdout",
     "output_type": "stream",
     "text": [
      "Createing a new instance with 10\n",
      "Createing a new instance with 20\n",
      "Createing a new instance with 100\n",
      "True\n",
      "False\n"
     ]
    }
   ],
   "source": [
    "class ArithmeticOps:\n",
    "    def __init__(self, total):\n",
    "        self._total = total\n",
    "        print(f\"Createing a new instance with {self._total}\")\n",
    "    \n",
    "    def __add__(self, value):\n",
    "        return ArithmeticOps(self._total + value)\n",
    "\n",
    "    def __pow__(self, value):\n",
    "        return ArithmeticOps(self._total ** value)\n",
    "    \n",
    "    def __eq__(self, value):\n",
    "        return self._total == value\n",
    "\n",
    "a = ArithmeticOps(10)\n",
    "\n",
    "a + 10\n",
    "\n",
    "a ** 2\n",
    "\n",
    "print(a == 10)\n",
    "\n",
    "print(a == 200)\n"
   ]
  },
  {
   "cell_type": "markdown",
   "id": "5d9b003f",
   "metadata": {},
   "source": [
    "## The `__repr__` special method"
   ]
  },
  {
   "cell_type": "code",
   "execution_count": 49,
   "id": "7bba1f38",
   "metadata": {},
   "outputs": [
    {
     "name": "stdout",
     "output_type": "stream",
     "text": [
      "<class 'type'>\n",
      "This is the Baromatric Calculator:\n",
      "\tp0 * exp(-M*g*h/(R*T)); T = 271\n",
      "This is the Baromatric Calculator:\n",
      "\tp0 * exp(-M*g*h/(R*T)); T = 271\n",
      "This is the Baromatric Calculator:\n",
      "\tp0 * exp(-M*g*h/(R*T)); T = 271\n",
      "None\n"
     ]
    }
   ],
   "source": [
    "from math import exp\n",
    "class Barometric4:\n",
    "    def __init__(self, T):\n",
    "        self.T = T          # K\n",
    "        self.g = 9.81       # m/(s*s)\n",
    "        self.R = 8.314      # J/(K*mol)\n",
    "        self.M = 0.02896    # kg/mol\n",
    "        self.p0 = 100.0     #kPa\n",
    "    \n",
    "    def __call__(self, h):\n",
    "        return self.p0 * exp(-self.M*self.g*h/(self.R*self.T))\n",
    "    \n",
    "    def __str__(self):\n",
    "        return f'This is the Baromatric Calculator:\\n\\tp0 * exp(-M*g*h/(R*T)); T = {self.T}'\n",
    "    \n",
    "    def __repr__(self):\n",
    "        return f'Barometric4({self.T})'\n",
    "\n",
    "print(type(Barometric4))\n",
    "b = Barometric4(271)\n",
    "print(b)\n",
    "# type(print(b))\n",
    "b1 = print(b)\n",
    "# b2 = eval(print(b))\n",
    "repr(b)\n",
    "b2 = eval(repr(b))\n",
    "print(b2)\n",
    "print(b1)"
   ]
  },
  {
   "cell_type": "markdown",
   "id": "0b889a49",
   "metadata": {},
   "source": [
    "## How to know the contents of a class?"
   ]
  },
  {
   "cell_type": "code",
   "execution_count": 57,
   "id": "7c32c62c",
   "metadata": {},
   "outputs": [
    {
     "name": "stdout",
     "output_type": "stream",
     "text": [
      "<__main__.A object at 0x000002BBBF997F50>\n"
     ]
    },
    {
     "data": {
      "text/plain": [
       "['__class__',\n",
       " '__delattr__',\n",
       " '__dict__',\n",
       " '__dir__',\n",
       " '__doc__',\n",
       " '__eq__',\n",
       " '__format__',\n",
       " '__ge__',\n",
       " '__getattribute__',\n",
       " '__getstate__',\n",
       " '__gt__',\n",
       " '__hash__',\n",
       " '__init__',\n",
       " '__init_subclass__',\n",
       " '__le__',\n",
       " '__lt__',\n",
       " '__module__',\n",
       " '__ne__',\n",
       " '__new__',\n",
       " '__reduce__',\n",
       " '__reduce_ex__',\n",
       " '__repr__',\n",
       " '__setattr__',\n",
       " '__sizeof__',\n",
       " '__str__',\n",
       " '__subclasshook__',\n",
       " '__weakref__',\n",
       " 'v']"
      ]
     },
     "execution_count": 57,
     "metadata": {},
     "output_type": "execute_result"
    }
   ],
   "source": [
    "class A:\n",
    "    \"\"\"A Class for Demo Purposes, thanks.\"\"\"\n",
    "    def __init__(self, value):\n",
    "        self.v = value\n",
    "\n",
    "a = A(2)\n",
    "print(a)\n",
    "dir(a)"
   ]
  },
  {
   "cell_type": "code",
   "execution_count": 58,
   "id": "a1e4d315",
   "metadata": {},
   "outputs": [
    {
     "data": {
      "text/plain": [
       "'A Class for Demo Purposes, thanks.'"
      ]
     },
     "execution_count": 58,
     "metadata": {},
     "output_type": "execute_result"
    }
   ],
   "source": [
    "a.__doc__"
   ]
  },
  {
   "cell_type": "code",
   "execution_count": 59,
   "id": "001a8f92",
   "metadata": {},
   "outputs": [
    {
     "data": {
      "text/plain": [
       "{'v': 2}"
      ]
     },
     "execution_count": 59,
     "metadata": {},
     "output_type": "execute_result"
    }
   ],
   "source": [
    "a.__dict__"
   ]
  },
  {
   "cell_type": "code",
   "execution_count": 60,
   "id": "0b6cfdf2",
   "metadata": {},
   "outputs": [
    {
     "data": {
      "text/plain": [
       "2"
      ]
     },
     "execution_count": 60,
     "metadata": {},
     "output_type": "execute_result"
    }
   ],
   "source": [
    "a.v"
   ]
  },
  {
   "cell_type": "code",
   "execution_count": 61,
   "id": "4105098b",
   "metadata": {},
   "outputs": [
    {
     "data": {
      "text/plain": [
       "'__main__'"
      ]
     },
     "execution_count": 61,
     "metadata": {},
     "output_type": "execute_result"
    }
   ],
   "source": [
    "a.__module__"
   ]
  },
  {
   "cell_type": "code",
   "execution_count": 63,
   "id": "42afca2c",
   "metadata": {},
   "outputs": [
    {
     "name": "stdout",
     "output_type": "stream",
     "text": [
      "{'v': [1, 2]}\n"
     ]
    }
   ],
   "source": [
    "a = A([1,2])\n",
    "print(a.__dict__)"
   ]
  },
  {
   "cell_type": "code",
   "execution_count": 65,
   "id": "d797bdb1",
   "metadata": {},
   "outputs": [
    {
     "data": {
      "text/plain": [
       "{'v': [1, 2], 'myvar': 10}"
      ]
     },
     "execution_count": 65,
     "metadata": {},
     "output_type": "execute_result"
    }
   ],
   "source": [
    "a.myvar = 10\n",
    "a.__dict__"
   ]
  },
  {
   "cell_type": "code",
   "execution_count": 73,
   "id": "3b57b1b6",
   "metadata": {},
   "outputs": [
    {
     "name": "stdout",
     "output_type": "stream",
     "text": [
      "0.8509035245341184\n"
     ]
    },
    {
     "ename": "AttributeError",
     "evalue": "'builtin_function_or_method' object has no attribute '__dict__'",
     "output_type": "error",
     "traceback": [
      "\u001b[1;31m---------------------------------------------------------------------------\u001b[0m",
      "\u001b[1;31mAttributeError\u001b[0m                            Traceback (most recent call last)",
      "Cell \u001b[1;32mIn[73], line 4\u001b[0m\n\u001b[0;32m      2\u001b[0m a \u001b[38;5;241m=\u001b[39m sin(\u001b[38;5;241m45\u001b[39m)\n\u001b[0;32m      3\u001b[0m \u001b[38;5;28mprint\u001b[39m(a)\n\u001b[1;32m----> 4\u001b[0m sin\u001b[38;5;241m.\u001b[39m\u001b[38;5;18m__dict__\u001b[39m\n\u001b[0;32m      5\u001b[0m a\u001b[38;5;241m.\u001b[39m\u001b[38;5;18m__doc__\u001b[39m\n",
      "\u001b[1;31mAttributeError\u001b[0m: 'builtin_function_or_method' object has no attribute '__dict__'"
     ]
    }
   ],
   "source": [
    "from math import sin\n",
    "a = sin(45)\n",
    "print(a)\n",
    "sin.__dict__\n",
    "a.__doc__"
   ]
  },
  {
   "cell_type": "code",
   "execution_count": null,
   "id": "0b196f3b",
   "metadata": {},
   "outputs": [],
   "source": []
  }
 ],
 "metadata": {
  "kernelspec": {
   "display_name": "base",
   "language": "python",
   "name": "python3"
  },
  "language_info": {
   "codemirror_mode": {
    "name": "ipython",
    "version": 3
   },
   "file_extension": ".py",
   "mimetype": "text/x-python",
   "name": "python",
   "nbconvert_exporter": "python",
   "pygments_lexer": "ipython3",
   "version": "3.12.7"
  }
 },
 "nbformat": 4,
 "nbformat_minor": 5
}
