{
 "cells": [
  {
   "cell_type": "markdown",
   "id": "7014291f",
   "metadata": {},
   "source": [
    "# 8.1 Basics of Classes"
   ]
  },
  {
   "cell_type": "code",
   "execution_count": 3,
   "id": "986ada04",
   "metadata": {},
   "outputs": [
    {
     "name": "stdout",
     "output_type": "stream",
     "text": [
      "57.241347350458106\n",
      "56.44852442243491\n"
     ]
    }
   ],
   "source": [
    "from math import exp\n",
    "\n",
    "def barometric1(h, T):\n",
    "    g = 9.81    # m/(s*s)\n",
    "    R = 8.314   # J/(K*mol)\n",
    "    M = 0.02896 # kg/mol\n",
    "    p0 = 100.0  # kPa\n",
    "\n",
    "    return p0 * exp(-M*g*h/(R*T))\n",
    "\n",
    "print(barometric1(4000, 245))\n",
    "print(barometric1(4100, 245))"
   ]
  },
  {
   "cell_type": "code",
   "execution_count": 5,
   "id": "c349f4be",
   "metadata": {},
   "outputs": [
    {
     "name": "stdout",
     "output_type": "stream",
     "text": [
      "57.241347350458106\n",
      "56.44852442243491\n"
     ]
    }
   ],
   "source": [
    "from math import exp\n",
    "\n",
    "T = 245.0\n",
    "\n",
    "def barometric2(h):\n",
    "    g = 9.81    # m/(s*s)\n",
    "    R = 8.314   # J/(K*mol)\n",
    "    M = 0.02896 # kg/mol\n",
    "    p0 = 100.0  # kPa\n",
    "\n",
    "    return p0 * exp(-M*g*h/(R*T))\n",
    "\n",
    "print(barometric2(4000))\n",
    "print(barometric2(4100))"
   ]
  },
  {
   "cell_type": "code",
   "execution_count": 7,
   "id": "cdbf0449",
   "metadata": {},
   "outputs": [
    {
     "name": "stdout",
     "output_type": "stream",
     "text": [
      "<class 'type'>\n"
     ]
    }
   ],
   "source": [
    "class Barometric:\n",
    "    def __init__(self, T):\n",
    "        self.T = T          # K\n",
    "        self.g = 9.81       # m/(s*s)\n",
    "        self.R = 8.314      # J/(K*mol)\n",
    "        self.M = 0.02896    # kg/mol\n",
    "        self.p0 = 100.0     #kPa\n",
    "    \n",
    "    def value(self, h):\n",
    "        return self.p0 * exp(-self.M*self.g*h/(self.R*self.T))\n",
    "\n",
    "print(type(Barometric))"
   ]
  },
  {
   "cell_type": "code",
   "execution_count": 14,
   "id": "db586f31",
   "metadata": {},
   "outputs": [
    {
     "name": "stdout",
     "output_type": "stream",
     "text": [
      "<class '__main__.Barometric'>\n",
      "0.02896\n"
     ]
    }
   ],
   "source": [
    "b1 = Barometric(T=245)\n",
    "print(type(b1))\n",
    "print(b1.M)"
   ]
  },
  {
   "cell_type": "code",
   "execution_count": 10,
   "id": "617bf42d",
   "metadata": {},
   "outputs": [
    {
     "name": "stdout",
     "output_type": "stream",
     "text": [
      "57.241347350458106\n"
     ]
    }
   ],
   "source": [
    "p1 = b1.value(4000)\n",
    "print(p1)"
   ]
  },
  {
   "cell_type": "code",
   "execution_count": 13,
   "id": "663671af",
   "metadata": {},
   "outputs": [
    {
     "name": "stdout",
     "output_type": "stream",
     "text": [
      "<class '__main__.Barometric'>\n",
      "60.612210063326174\n"
     ]
    }
   ],
   "source": [
    "b2 = Barometric(T=273)\n",
    "print(type(b2))\n",
    "p2 = b2.value(4000)\n",
    "print(p2)"
   ]
  },
  {
   "cell_type": "code",
   "execution_count": 16,
   "id": "99f8896b",
   "metadata": {},
   "outputs": [
    {
     "name": "stdout",
     "output_type": "stream",
     "text": [
      "60.612210063326174\n"
     ]
    }
   ],
   "source": [
    "b3 = Barometric(273)\n",
    "p3 = b3.value(4000)\n",
    "print(p3)"
   ]
  },
  {
   "cell_type": "code",
   "execution_count": 21,
   "id": "1d0d4ce7",
   "metadata": {},
   "outputs": [
    {
     "name": "stdout",
     "output_type": "stream",
     "text": [
      "0.0 0.0\n",
      "0.6283185307179586 0.31357643221701403\n",
      "1.2566370614359172 0.27067976078951855\n",
      "1.8849555921538759 0.1444044288805967\n",
      "2.5132741228718345 0.047612129067900924\n",
      "3.141592653589793 5.292178668034404e-18\n",
      "3.7699111843077517 -0.013550866311271363\n",
      "4.39822971502571 -0.01169713305841568\n",
      "5.026548245743669 -0.006240281186572821\n",
      "5.654866776461628 -0.002057506653904446\n",
      "6.283185307179586 -4.573915527954357e-19\n",
      "None\n"
     ]
    }
   ],
   "source": [
    "from numpy import linspace\n",
    "from math import pi, sin, exp\n",
    "\n",
    "def make_table(f, tstop, n):\n",
    "    for t in linspace(0, tstop, n):\n",
    "        print(t, f(t))\n",
    "\n",
    "def g(t):\n",
    "    return sin(t)*exp(-t)\n",
    "\n",
    "print(make_table(g, 2*pi, 11))"
   ]
  },
  {
   "cell_type": "code",
   "execution_count": 24,
   "id": "5f12f08d",
   "metadata": {},
   "outputs": [
    {
     "name": "stdout",
     "output_type": "stream",
     "text": [
      "0.0 100.0\n",
      "0.4487989505128276 99.99374064330846\n",
      "0.8975979010256552 99.98748167841237\n",
      "1.3463968515384828 99.98122310528723\n",
      "1.7951958020513104 99.9749649239085\n",
      "2.243994752564138 99.96870713425167\n",
      "2.6927937030769655 99.96244973629221\n",
      "3.141592653589793 99.95619273000563\n",
      "3.5903916041026207 99.94993611536736\n",
      "4.039190554615448 99.94367989235293\n",
      "4.487989505128276 99.93742406093781\n",
      "4.9367884556411035 99.9311686210975\n",
      "5.385587406153931 99.92491357280748\n",
      "5.834386356666759 99.91865891604324\n",
      "6.283185307179586 99.91240465078029\n",
      "None\n"
     ]
    }
   ],
   "source": [
    "b4 = Barometric(245)\n",
    "print(make_table(b1.value, 2*pi, 15))"
   ]
  },
  {
   "cell_type": "code",
   "execution_count": null,
   "id": "c0cf00da",
   "metadata": {},
   "outputs": [],
   "source": []
  }
 ],
 "metadata": {
  "kernelspec": {
   "display_name": "base",
   "language": "python",
   "name": "python3"
  },
  "language_info": {
   "codemirror_mode": {
    "name": "ipython",
    "version": 3
   },
   "file_extension": ".py",
   "mimetype": "text/x-python",
   "name": "python",
   "nbconvert_exporter": "python",
   "pygments_lexer": "ipython3",
   "version": "3.12.7"
  }
 },
 "nbformat": 4,
 "nbformat_minor": 5
}
