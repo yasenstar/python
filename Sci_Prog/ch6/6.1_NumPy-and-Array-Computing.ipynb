{
 "cells": [
  {
   "cell_type": "markdown",
   "id": "417b3e4a",
   "metadata": {},
   "source": [
    "# 6.1 NumPy and Array Computing"
   ]
  },
  {
   "cell_type": "code",
   "execution_count": 1,
   "id": "b5ccd67b",
   "metadata": {},
   "outputs": [
    {
     "ename": "SyntaxError",
     "evalue": "invalid syntax. Perhaps you forgot a comma? (328407154.py, line 1)",
     "output_type": "error",
     "traceback": [
      "\u001b[1;36m  Cell \u001b[1;32mIn[1], line 1\u001b[1;36m\u001b[0m\n\u001b[1;33m    v = (v0, v1, ... vn-1)\u001b[0m\n\u001b[1;37m                 ^\u001b[0m\n\u001b[1;31mSyntaxError\u001b[0m\u001b[1;31m:\u001b[0m invalid syntax. Perhaps you forgot a comma?\n"
     ]
    }
   ],
   "source": [
    "v = (v0, v1, ... vn-1)"
   ]
  },
  {
   "cell_type": "code",
   "execution_count": 3,
   "id": "f1d6c7b8",
   "metadata": {},
   "outputs": [
    {
     "ename": "TypeError",
     "evalue": "cannot unpack non-iterable int object",
     "output_type": "error",
     "traceback": [
      "\u001b[1;31m---------------------------------------------------------------------------\u001b[0m",
      "\u001b[1;31mTypeError\u001b[0m                                 Traceback (most recent call last)",
      "Cell \u001b[1;32mIn[3], line 1\u001b[0m\n\u001b[1;32m----> 1\u001b[0m v0, v1, v2, v3, v4, v5 \u001b[38;5;241m=\u001b[39m \u001b[38;5;241m1\u001b[39m\n\u001b[0;32m      2\u001b[0m v \u001b[38;5;241m=\u001b[39m [v0, v1, v2, v3, v4, v5]\n",
      "\u001b[1;31mTypeError\u001b[0m: cannot unpack non-iterable int object"
     ]
    }
   ],
   "source": [
    "v0, v1, v2, v3, v4, v5 = 1\n",
    "v = [v0, v1, v2, v3, v4, v5]"
   ]
  },
  {
   "cell_type": "code",
   "execution_count": 4,
   "id": "18f64422",
   "metadata": {},
   "outputs": [],
   "source": [
    "Aij = [\n",
    "    [0, 7, -3, 5],\n",
    "    [-1, -3, 4, 0],\n",
    "    [8, 3, 5, -7]\n",
    "]"
   ]
  },
  {
   "cell_type": "code",
   "execution_count": null,
   "id": "3fbb5e92",
   "metadata": {},
   "outputs": [],
   "source": []
  }
 ],
 "metadata": {
  "kernelspec": {
   "display_name": "base",
   "language": "python",
   "name": "python3"
  },
  "language_info": {
   "codemirror_mode": {
    "name": "ipython",
    "version": 3
   },
   "file_extension": ".py",
   "mimetype": "text/x-python",
   "name": "python",
   "nbconvert_exporter": "python",
   "pygments_lexer": "ipython3",
   "version": "3.12.7"
  }
 },
 "nbformat": 4,
 "nbformat_minor": 5
}
