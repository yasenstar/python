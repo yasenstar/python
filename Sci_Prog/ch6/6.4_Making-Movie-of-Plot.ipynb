{
 "cells": [
  {
   "cell_type": "markdown",
   "id": "b8e9811b",
   "metadata": {},
   "source": [
    "# 6.4 Making a Movie of a Plot"
   ]
  },
  {
   "cell_type": "markdown",
   "id": "664364b0",
   "metadata": {},
   "source": [
    "## Approach 1\n"
   ]
  },
  {
   "cell_type": "code",
   "execution_count": 7,
   "id": "afdd1216",
   "metadata": {},
   "outputs": [
    {
     "data": {
      "image/png": "[encoded data removed]",
      "text/plain": [
       "<Figure size 640x480 with 1 Axes>"
      ]
     },
     "metadata": {},
     "output_type": "display_data"
    },
    {
     "data": {
      "text/plain": [
       "<Figure size 640x480 with 0 Axes>"
      ]
     },
     "metadata": {},
     "output_type": "display_data"
    },
    {
     "data": {
      "text/plain": [
       "<Figure size 640x480 with 0 Axes>"
      ]
     },
     "metadata": {},
     "output_type": "display_data"
    },
    {
     "data": {
      "text/plain": [
       "<Figure size 640x480 with 0 Axes>"
      ]
     },
     "metadata": {},
     "output_type": "display_data"
    },
    {
     "data": {
      "text/plain": [
       "<Figure size 640x480 with 0 Axes>"
      ]
     },
     "metadata": {},
     "output_type": "display_data"
    },
    {
     "data": {
      "text/plain": [
       "<Figure size 640x480 with 0 Axes>"
      ]
     },
     "metadata": {},
     "output_type": "display_data"
    },
    {
     "data": {
      "text/plain": [
       "<Figure size 640x480 with 0 Axes>"
      ]
     },
     "metadata": {},
     "output_type": "display_data"
    },
    {
     "data": {
      "text/plain": [
       "<Figure size 640x480 with 0 Axes>"
      ]
     },
     "metadata": {},
     "output_type": "display_data"
    },
    {
     "data": {
      "text/plain": [
       "<Figure size 640x480 with 0 Axes>"
      ]
     },
     "metadata": {},
     "output_type": "display_data"
    },
    {
     "data": {
      "text/plain": [
       "<Figure size 640x480 with 0 Axes>"
      ]
     },
     "metadata": {},
     "output_type": "display_data"
    },
    {
     "data": {
      "text/plain": [
       "<Figure size 640x480 with 0 Axes>"
      ]
     },
     "metadata": {},
     "output_type": "display_data"
    },
    {
     "data": {
      "text/plain": [
       "<Figure size 640x480 with 0 Axes>"
      ]
     },
     "metadata": {},
     "output_type": "display_data"
    },
    {
     "data": {
      "text/plain": [
       "<Figure size 640x480 with 0 Axes>"
      ]
     },
     "metadata": {},
     "output_type": "display_data"
    },
    {
     "data": {
      "text/plain": [
       "<Figure size 640x480 with 0 Axes>"
      ]
     },
     "metadata": {},
     "output_type": "display_data"
    },
    {
     "data": {
      "text/plain": [
       "<Figure size 640x480 with 0 Axes>"
      ]
     },
     "metadata": {},
     "output_type": "display_data"
    },
    {
     "data": {
      "text/plain": [
       "<Figure size 640x480 with 0 Axes>"
      ]
     },
     "metadata": {},
     "output_type": "display_data"
    },
    {
     "data": {
      "text/plain": [
       "<Figure size 640x480 with 0 Axes>"
      ]
     },
     "metadata": {},
     "output_type": "display_data"
    },
    {
     "data": {
      "text/plain": [
       "<Figure size 640x480 with 0 Axes>"
      ]
     },
     "metadata": {},
     "output_type": "display_data"
    },
    {
     "data": {
      "text/plain": [
       "<Figure size 640x480 with 0 Axes>"
      ]
     },
     "metadata": {},
     "output_type": "display_data"
    },
    {
     "data": {
      "text/plain": [
       "<Figure size 640x480 with 0 Axes>"
      ]
     },
     "metadata": {},
     "output_type": "display_data"
    },
    {
     "data": {
      "text/plain": [
       "<Figure size 640x480 with 0 Axes>"
      ]
     },
     "metadata": {},
     "output_type": "display_data"
    },
    {
     "data": {
      "text/plain": [
       "<Figure size 640x480 with 0 Axes>"
      ]
     },
     "metadata": {},
     "output_type": "display_data"
    },
    {
     "data": {
      "text/plain": [
       "<Figure size 640x480 with 0 Axes>"
      ]
     },
     "metadata": {},
     "output_type": "display_data"
    },
    {
     "data": {
      "text/plain": [
       "<Figure size 640x480 with 0 Axes>"
      ]
     },
     "metadata": {},
     "output_type": "display_data"
    },
    {
     "data": {
      "text/plain": [
       "<Figure size 640x480 with 0 Axes>"
      ]
     },
     "metadata": {},
     "output_type": "display_data"
    },
    {
     "data": {
      "text/plain": [
       "<Figure size 640x480 with 0 Axes>"
      ]
     },
     "metadata": {},
     "output_type": "display_data"
    },
    {
     "data": {
      "text/plain": [
       "<Figure size 640x480 with 0 Axes>"
      ]
     },
     "metadata": {},
     "output_type": "display_data"
    },
    {
     "data": {
      "text/plain": [
       "<Figure size 640x480 with 0 Axes>"
      ]
     },
     "metadata": {},
     "output_type": "display_data"
    },
    {
     "data": {
      "text/plain": [
       "<Figure size 640x480 with 0 Axes>"
      ]
     },
     "metadata": {},
     "output_type": "display_data"
    },
    {
     "data": {
      "text/plain": [
       "<Figure size 640x480 with 0 Axes>"
      ]
     },
     "metadata": {},
     "output_type": "display_data"
    }
   ],
   "source": [
    "import matplotlib.pyplot as plt\n",
    "import numpy as np\n",
    "\n",
    "def f(x, m, s):\n",
    "    return (1.0/(np.sqrt(2*np.pi)))*(1/s)*np.exp(-0.5*((x-m)/s)**2)\n",
    "\n",
    "m = 0\n",
    "s_start = 2\n",
    "s_stop = 0.2\n",
    "s_values = np.linspace(s_start, s_stop, 30)\n",
    "\n",
    "x = np.linspace(m-3*s_start, m+3*s_start, 1000)\n",
    "max_f = f(m, m, s_stop)\n",
    "\n",
    "y = f(x, m, s_stop)\n",
    "\n",
    "lines = plt.plot(x, y)\n",
    "# print(lines)\n",
    "\n",
    "plt.axis([x[0], x[-1], -0.1, max_f])\n",
    "plt.xlabel('x')\n",
    "plt.ylabel('y')\n",
    "\n",
    "for s in s_values:\n",
    "    y = f(x, m, s)\n",
    "    lines[0].set_ydata(y)\n",
    "    plt.draw()\n",
    "    plt.pause(0.1)\n",
    "\n",
    "# plt.show()"
   ]
  },
  {
   "cell_type": "markdown",
   "id": "cad26437",
   "metadata": {},
   "source": [
    "## Approach 2"
   ]
  },
  {
   "cell_type": "code",
   "execution_count": null,
   "id": "1baa89c8",
   "metadata": {},
   "outputs": [],
   "source": [
    "import matplotlib.pyplot as plt\n",
    "import numpy as np\n",
    "\n",
    "def f(x, m, s):\n",
    "    return (1.0/(np.sqrt(2*np.pi)))*(1/s)*np.exp(-0.5*((x-m)/s)**2)\n",
    "\n",
    "m = 0\n",
    "s_start = 2\n",
    "s_stop = 0.2\n",
    "s_values = np.linspace(s_start, s_stop, 30)\n",
    "\n",
    "x = np.linspace(m-3*s_start, m+3*s_start, 1000)\n",
    "max_f = f(m, m, s_stop)\n",
    "\n",
    "y = f(x, m, s_stop)\n",
    "\n",
    "lines = plt.plot(x, y)\n",
    "# print(lines)\n",
    "\n",
    "plt.axis([x[0], x[-1], -0.1, max_f])\n",
    "plt.xlabel('x')\n",
    "plt.ylabel('y')\n",
    "\n",
    "frame_counter = 0\n",
    "\n",
    "for s in s_values:\n",
    "    y = f(x, m, s)\n",
    "    lines[0].set_ydata(y)\n",
    "    plt.draw()\n",
    "    plt.savefig(f'tmp_{frame_counter:04d}.png')\n",
    "    frame_counter += 1"
   ]
  },
  {
   "cell_type": "markdown",
   "id": "2fb2863a",
   "metadata": {},
   "source": [
    "## Approach 3"
   ]
  },
  {
   "cell_type": "code",
   "execution_count": 8,
   "id": "4b63f11e",
   "metadata": {},
   "outputs": [
    {
     "data": {
      "image/png": "[encoded data removed]",
      "text/plain": [
       "<Figure size 640x480 with 1 Axes>"
      ]
     },
     "metadata": {},
     "output_type": "display_data"
    }
   ],
   "source": [
    "import matplotlib.pyplot as plt\n",
    "import numpy as np\n",
    "from matplotlib.animation import FuncAnimation\n",
    "\n",
    "def f(x, m, s):\n",
    "    return (1.0/(np.sqrt(2*np.pi)))*(1/s)*np.exp(-0.5*((x-m)/s)**2)\n",
    "\n",
    "m = 0\n",
    "s_start = 2\n",
    "s_stop = 0.2\n",
    "s_values = np.linspace(s_start, s_stop, 30)\n",
    "\n",
    "x = np.linspace(m-3*s_start, m+3*s_start, 1000)\n",
    "max_f = f(m, m, s_stop)\n",
    "\n",
    "y = f(x, m, s_stop)\n",
    "\n",
    "lines = plt.plot(x, y)\n",
    "# print(lines)\n",
    "\n",
    "plt.axis([x[0], x[-1], -0.1, max_f])\n",
    "plt.xlabel('x')\n",
    "plt.ylabel('y')\n",
    "\n",
    "def next_frame(s):\n",
    "    y = f(x, m, s)\n",
    "    lines[0].set_ydata(y)\n",
    "    return lines\n",
    "\n",
    "ani = FuncAnimation(\n",
    "    plt.gcf(),\n",
    "    next_frame,\n",
    "    frames = s_values,\n",
    "    interval = 100\n",
    ")\n",
    "ani.save('movie3.mp4', fps = 20)\n",
    "plt.show()"
   ]
  }
 ],
 "metadata": {
  "kernelspec": {
   "display_name": "base",
   "language": "python",
   "name": "python3"
  },
  "language_info": {
   "codemirror_mode": {
    "name": "ipython",
    "version": 3
   },
   "file_extension": ".py",
   "mimetype": "text/x-python",
   "name": "python",
   "nbconvert_exporter": "python",
   "pygments_lexer": "ipython3",
   "version": "3.12.7"
  }
 },
 "nbformat": 4,
 "nbformat_minor": 5
}
