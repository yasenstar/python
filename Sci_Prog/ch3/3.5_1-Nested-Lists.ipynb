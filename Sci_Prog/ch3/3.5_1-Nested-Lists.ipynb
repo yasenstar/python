{
 "cells": [
  {
   "cell_type": "markdown",
   "metadata": {},
   "source": [
    "# 3.5 part 1: Nested List"
   ]
  },
  {
   "cell_type": "code",
   "execution_count": 2,
   "metadata": {},
   "outputs": [
    {
     "name": "stdout",
     "output_type": "stream",
     "text": [
      "[100.0, 102.49999999999999, 105.06249999999999, 107.68906249999996, 110.38128906249996, 113.14082128906244, 115.96934182128899, 118.86857536682123, 121.84028975099173, 124.88629699476652, 128.00845441963565]\n",
      "[100.0, 105.0, 110.25, 115.76250000000002, 121.55062500000003, 127.62815625000003, 134.00956406250003, 140.71004226562505, 147.7455443789063, 155.13282159785163, 162.8894626777442]\n"
     ]
    }
   ],
   "source": [
    "P = 100\n",
    "A_low = [P*(1+2.5/100)**n for n in range(11)]\n",
    "print(A_low)\n",
    "A_high = [P*(1+5.0/100)**n for n in range(11)]\n",
    "print(A_high)"
   ]
  },
  {
   "cell_type": "code",
   "execution_count": 3,
   "metadata": {},
   "outputs": [
    {
     "name": "stdout",
     "output_type": "stream",
     "text": [
      "[[100.0, 102.49999999999999, 105.06249999999999, 107.68906249999996, 110.38128906249996, 113.14082128906244, 115.96934182128899, 118.86857536682123, 121.84028975099173, 124.88629699476652, 128.00845441963565], [100.0, 105.0, 110.25, 115.76250000000002, 121.55062500000003, 127.62815625000003, 134.00956406250003, 140.71004226562505, 147.7455443789063, 155.13282159785163, 162.8894626777442]]\n"
     ]
    }
   ],
   "source": [
    "amounts = [A_low, A_high]\n",
    "print(amounts)"
   ]
  },
  {
   "cell_type": "code",
   "execution_count": 7,
   "metadata": {},
   "outputs": [
    {
     "name": "stdout",
     "output_type": "stream",
     "text": [
      "[100.0, 105.0, 110.25, 115.76250000000002, 121.55062500000003, 127.62815625000003, 134.00956406250003, 140.71004226562505, 147.7455443789063, 155.13282159785163, 162.8894626777442]\n",
      "115.76250000000002\n"
     ]
    }
   ],
   "source": [
    "print(amounts[1])\n",
    "print(amounts[1][3])"
   ]
  },
  {
   "cell_type": "code",
   "execution_count": 10,
   "metadata": {},
   "outputs": [
    {
     "name": "stdout",
     "output_type": "stream",
     "text": [
      "100.0\n",
      "102.49999999999999\n",
      "105.06249999999999\n",
      "107.68906249999996\n",
      "110.38128906249996\n",
      "113.14082128906244\n",
      "115.96934182128899\n",
      "118.86857536682123\n",
      "121.84028975099173\n",
      "124.88629699476652\n",
      "128.00845441963565\n",
      "100.0\n",
      "105.0\n",
      "110.25\n",
      "115.76250000000002\n",
      "121.55062500000003\n",
      "127.62815625000003\n",
      "134.00956406250003\n",
      "140.71004226562505\n",
      "147.7455443789063\n",
      "155.13282159785163\n",
      "162.8894626777442\n"
     ]
    }
   ],
   "source": [
    "for i in range(len(amounts)):\n",
    "    for j in range(len(A_low)):\n",
    "        print(amounts[i][j])"
   ]
  },
  {
   "cell_type": "code",
   "execution_count": 13,
   "metadata": {},
   "outputs": [
    {
     "name": "stdout",
     "output_type": "stream",
     "text": [
      "[9, 7] 9 9\n",
      "[9, 7] 7 7\n",
      "[-1, 5, 6] -1 -1\n",
      "[-1, 5, 6] 5 5\n",
      "[-1, 5, 6] 6 6\n"
     ]
    }
   ],
   "source": [
    "L = [[9,7],[-1,5,6]]\n",
    "for row in L:\n",
    "    for column in row:\n",
    "        print(row, column, column)"
   ]
  },
  {
   "cell_type": "markdown",
   "metadata": {},
   "source": [
    "## Creating a Nested List"
   ]
  },
  {
   "cell_type": "code",
   "execution_count": null,
   "metadata": {},
   "outputs": [],
   "source": [
    "L = [\n",
    "    [1,2,3],\n",
    "    [4,5,6],\n",
    "    [7,8,9]\n",
    "]\n",
    "\n",
    "L = [\n",
    "    [1,2],\n",
    "    [3,4,5],\n",
    "    [6,7,8,9]\n",
    "]\n",
    "\n",
    "L = [\n",
    "    [\"Alice\", 30],\n",
    "    [\"Bob\", 25],\n",
    "    [\"Charlie\", 35]\n",
    "]\n",
    "\n",
    "L = [\n",
    "    'a',\n",
    "    'b',\n",
    "    [\n",
    "        'cc',\n",
    "        'dd',\n",
    "        [\n",
    "            'eee',\n",
    "            'fff'\n",
    "        ]\n",
    "    ],\n",
    "    'g',\n",
    "    'h'\n",
    "]"
   ]
  },
  {
   "cell_type": "markdown",
   "metadata": {},
   "source": [
    "## Access Elements in a Nested List"
   ]
  },
  {
   "cell_type": "code",
   "execution_count": 17,
   "metadata": {},
   "outputs": [
    {
     "name": "stdout",
     "output_type": "stream",
     "text": [
      "['cc', 'dd', ['eee', 'fff']]\n",
      "['eee', 'fff']\n",
      "fff\n"
     ]
    }
   ],
   "source": [
    "L = [\n",
    "    'a',\n",
    "    'b',\n",
    "    [\n",
    "        'cc',\n",
    "        'dd',\n",
    "        [\n",
    "            'eee',\n",
    "            'fff'\n",
    "        ]\n",
    "    ],\n",
    "    'g',\n",
    "    'h'\n",
    "]\n",
    "print(L[2])\n",
    "print(L[2][2])\n",
    "print(L[2][2][1])"
   ]
  },
  {
   "cell_type": "markdown",
   "metadata": {},
   "source": [
    "## Negative List Indexing in a Nested List"
   ]
  },
  {
   "cell_type": "code",
   "execution_count": 20,
   "metadata": {},
   "outputs": [
    {
     "name": "stdout",
     "output_type": "stream",
     "text": [
      "['cc', 'dd', ['eee', 'fff']]\n",
      "['eee', 'fff']\n",
      "fff\n"
     ]
    }
   ],
   "source": [
    "L = [\n",
    "    'a',\n",
    "    'b',\n",
    "    [\n",
    "        'cc',\n",
    "        'dd',\n",
    "        [\n",
    "            'eee',\n",
    "            'fff'\n",
    "        ]\n",
    "    ],\n",
    "    'g',\n",
    "    'h'\n",
    "]\n",
    "print(L[-3])\n",
    "print(L[-3][-1])\n",
    "print(L[-3][-1][-1])"
   ]
  },
  {
   "cell_type": "markdown",
   "metadata": {},
   "source": [
    "## Modifying Element in a Nested List"
   ]
  },
  {
   "cell_type": "code",
   "execution_count": 22,
   "metadata": {},
   "outputs": [
    {
     "name": "stdout",
     "output_type": "stream",
     "text": [
      "bb\n",
      "gggg\n"
     ]
    }
   ],
   "source": [
    "L = ['a', ['bb', 'cc'], 'd']\n",
    "print(L[1][0])\n",
    "L[1][0] = 'gggg'\n",
    "print(L[1][0])"
   ]
  },
  {
   "cell_type": "markdown",
   "metadata": {},
   "source": [
    "## Add Elements into a Nested List"
   ]
  },
  {
   "cell_type": "code",
   "execution_count": 24,
   "metadata": {},
   "outputs": [
    {
     "name": "stdout",
     "output_type": "stream",
     "text": [
      "['a', ['bb', 'cc'], 'd', 'e']\n",
      "['a', ['bb', 'cc', 'gggg'], 'd', 'e']\n"
     ]
    }
   ],
   "source": [
    "L = ['a', ['bb', 'cc'], 'd']\n",
    "L.append('e')\n",
    "print(L)\n",
    "L[1].append('gggg')\n",
    "print(L)"
   ]
  },
  {
   "cell_type": "markdown",
   "metadata": {},
   "source": [
    "## Remove Element from a Nested List"
   ]
  },
  {
   "cell_type": "code",
   "execution_count": 26,
   "metadata": {},
   "outputs": [
    {
     "name": "stdout",
     "output_type": "stream",
     "text": [
      "cc\n",
      "['a', ['bb'], 'd']\n"
     ]
    }
   ],
   "source": [
    "L = ['a', ['bb', 'cc'], 'd']\n",
    "x = L[1].pop(1)\n",
    "print(x)\n",
    "print(L)"
   ]
  }
 ],
 "metadata": {
  "kernelspec": {
   "display_name": "base",
   "language": "python",
   "name": "python3"
  },
  "language_info": {
   "codemirror_mode": {
    "name": "ipython",
    "version": 3
   },
   "file_extension": ".py",
   "mimetype": "text/x-python",
   "name": "python",
   "nbconvert_exporter": "python",
   "pygments_lexer": "ipython3",
   "version": "3.12.7"
  }
 },
 "nbformat": 4,
 "nbformat_minor": 2
}
