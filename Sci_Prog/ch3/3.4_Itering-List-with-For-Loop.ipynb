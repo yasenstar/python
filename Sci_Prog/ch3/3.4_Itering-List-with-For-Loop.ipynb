{
 "cells": [
  {
   "cell_type": "markdown",
   "metadata": {},
   "source": [
    "# 3.4 Iterating Over a List with a for Loop"
   ]
  },
  {
   "cell_type": "markdown",
   "metadata": {},
   "source": [
    "## 3.4.1 Overview of **for** Loop"
   ]
  },
  {
   "cell_type": "code",
   "execution_count": 2,
   "metadata": {},
   "outputs": [
    {
     "name": "stdout",
     "output_type": "stream",
     "text": [
      "Year=0, Final_Result is 100.00\n",
      "Year=1, Final_Result is 105.00\n",
      "Year=2, Final_Result is 110.25\n",
      "Year=3, Final_Result is 115.76\n",
      "Year=4, Final_Result is 121.55\n",
      "Year=5, Final_Result is 127.63\n",
      "Year=6, Final_Result is 134.01\n",
      "Year=7, Final_Result is 140.71\n",
      "Year=8, Final_Result is 147.75\n",
      "Year=9, Final_Result is 155.13\n",
      "Year=10, Final_Result is 162.89\n"
     ]
    }
   ],
   "source": [
    "years = [0, 1, 2, 3, 4, 5, 6, 7, 8, 9, 10]\n",
    "r = 5.0\n",
    "P = 100.0\n",
    "for n in years:\n",
    "    A = P * (1 + r / 100)**n\n",
    "    print(f\"Year={n}, Final_Result is {A:.2f}\")"
   ]
  },
  {
   "cell_type": "code",
   "execution_count": 5,
   "metadata": {},
   "outputs": [
    {
     "name": "stdout",
     "output_type": "stream",
     "text": [
      "range(0, 100)\n",
      "Year=0, Final_Result is 100.00\n",
      "Year=1, Final_Result is 105.00\n",
      "Year=2, Final_Result is 110.25\n",
      "Year=3, Final_Result is 115.76\n",
      "Year=4, Final_Result is 121.55\n",
      "Year=5, Final_Result is 127.63\n",
      "Year=6, Final_Result is 134.01\n",
      "Year=7, Final_Result is 140.71\n",
      "Year=8, Final_Result is 147.75\n",
      "Year=9, Final_Result is 155.13\n",
      "Year=10, Final_Result is 162.89\n",
      "Year=11, Final_Result is 171.03\n",
      "Year=12, Final_Result is 179.59\n",
      "Year=13, Final_Result is 188.56\n",
      "Year=14, Final_Result is 197.99\n",
      "Year=15, Final_Result is 207.89\n",
      "Year=16, Final_Result is 218.29\n",
      "Year=17, Final_Result is 229.20\n",
      "Year=18, Final_Result is 240.66\n",
      "Year=19, Final_Result is 252.70\n",
      "Year=20, Final_Result is 265.33\n",
      "Year=21, Final_Result is 278.60\n",
      "Year=22, Final_Result is 292.53\n",
      "Year=23, Final_Result is 307.15\n",
      "Year=24, Final_Result is 322.51\n",
      "Year=25, Final_Result is 338.64\n",
      "Year=26, Final_Result is 355.57\n",
      "Year=27, Final_Result is 373.35\n",
      "Year=28, Final_Result is 392.01\n",
      "Year=29, Final_Result is 411.61\n",
      "Year=30, Final_Result is 432.19\n",
      "Year=31, Final_Result is 453.80\n",
      "Year=32, Final_Result is 476.49\n",
      "Year=33, Final_Result is 500.32\n",
      "Year=34, Final_Result is 525.33\n",
      "Year=35, Final_Result is 551.60\n",
      "Year=36, Final_Result is 579.18\n",
      "Year=37, Final_Result is 608.14\n",
      "Year=38, Final_Result is 638.55\n",
      "Year=39, Final_Result is 670.48\n",
      "Year=40, Final_Result is 704.00\n",
      "Year=41, Final_Result is 739.20\n",
      "Year=42, Final_Result is 776.16\n",
      "Year=43, Final_Result is 814.97\n",
      "Year=44, Final_Result is 855.72\n",
      "Year=45, Final_Result is 898.50\n",
      "Year=46, Final_Result is 943.43\n",
      "Year=47, Final_Result is 990.60\n",
      "Year=48, Final_Result is 1040.13\n",
      "Year=49, Final_Result is 1092.13\n",
      "Year=50, Final_Result is 1146.74\n",
      "Year=51, Final_Result is 1204.08\n",
      "Year=52, Final_Result is 1264.28\n",
      "Year=53, Final_Result is 1327.49\n",
      "Year=54, Final_Result is 1393.87\n",
      "Year=55, Final_Result is 1463.56\n",
      "Year=56, Final_Result is 1536.74\n",
      "Year=57, Final_Result is 1613.58\n",
      "Year=58, Final_Result is 1694.26\n",
      "Year=59, Final_Result is 1778.97\n",
      "Year=60, Final_Result is 1867.92\n",
      "Year=61, Final_Result is 1961.31\n",
      "Year=62, Final_Result is 2059.38\n",
      "Year=63, Final_Result is 2162.35\n",
      "Year=64, Final_Result is 2270.47\n",
      "Year=65, Final_Result is 2383.99\n",
      "Year=66, Final_Result is 2503.19\n",
      "Year=67, Final_Result is 2628.35\n",
      "Year=68, Final_Result is 2759.77\n",
      "Year=69, Final_Result is 2897.75\n",
      "Year=70, Final_Result is 3042.64\n",
      "Year=71, Final_Result is 3194.77\n",
      "Year=72, Final_Result is 3354.51\n",
      "Year=73, Final_Result is 3522.24\n",
      "Year=74, Final_Result is 3698.35\n",
      "Year=75, Final_Result is 3883.27\n",
      "Year=76, Final_Result is 4077.43\n",
      "Year=77, Final_Result is 4281.30\n",
      "Year=78, Final_Result is 4495.37\n",
      "Year=79, Final_Result is 4720.14\n",
      "Year=80, Final_Result is 4956.14\n",
      "Year=81, Final_Result is 5203.95\n",
      "Year=82, Final_Result is 5464.15\n",
      "Year=83, Final_Result is 5737.36\n",
      "Year=84, Final_Result is 6024.22\n",
      "Year=85, Final_Result is 6325.44\n",
      "Year=86, Final_Result is 6641.71\n",
      "Year=87, Final_Result is 6973.79\n",
      "Year=88, Final_Result is 7322.48\n",
      "Year=89, Final_Result is 7688.61\n",
      "Year=90, Final_Result is 8073.04\n",
      "Year=91, Final_Result is 8476.69\n",
      "Year=92, Final_Result is 8900.52\n",
      "Year=93, Final_Result is 9345.55\n",
      "Year=94, Final_Result is 9812.83\n",
      "Year=95, Final_Result is 10303.47\n",
      "Year=96, Final_Result is 10818.64\n",
      "Year=97, Final_Result is 11359.57\n",
      "Year=98, Final_Result is 11927.55\n",
      "Year=99, Final_Result is 12523.93\n"
     ]
    }
   ],
   "source": [
    "# years = [0, 1, 2, 3, 4, 5, 6, 7, 8, 9, 10]\n",
    "r = 5.0\n",
    "P = 100.0\n",
    "print(range(100))\n",
    "for n in range(100):\n",
    "    A = P * (1 + r / 100)**n\n",
    "    print(f\"Year={n}, Final_Result is {A:.2f}\")"
   ]
  },
  {
   "cell_type": "code",
   "execution_count": null,
   "metadata": {},
   "outputs": [],
   "source": []
  }
 ],
 "metadata": {
  "kernelspec": {
   "display_name": "base",
   "language": "python",
   "name": "python3"
  },
  "language_info": {
   "codemirror_mode": {
    "name": "ipython",
    "version": 3
   },
   "file_extension": ".py",
   "mimetype": "text/x-python",
   "name": "python",
   "nbconvert_exporter": "python",
   "pygments_lexer": "ipython3",
   "version": "3.12.7"
  }
 },
 "nbformat": 4,
 "nbformat_minor": 2
}
