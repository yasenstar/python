{
 "cells": [
  {
   "cell_type": "markdown",
   "metadata": {},
   "source": [
    "# 3.4 Iterating Over a List with a `for` Loop"
   ]
  },
  {
   "cell_type": "markdown",
   "metadata": {},
   "source": [
    "## Overview of `for` Loop"
   ]
  },
  {
   "cell_type": "code",
   "execution_count": 11,
   "metadata": {},
   "outputs": [
    {
     "name": "stdout",
     "output_type": "stream",
     "text": [
      "Year=0, Final_Result is 100.00\n",
      "Year=1, Final_Result is 105.00\n",
      "Year=2, Final_Result is 110.25\n",
      "Year=3, Final_Result is 115.76\n",
      "Year=4, Final_Result is 121.55\n",
      "Year=5, Final_Result is 127.63\n",
      "Year=6, Final_Result is 134.01\n",
      "Year=7, Final_Result is 140.71\n",
      "Year=8, Final_Result is 147.75\n",
      "Year=9, Final_Result is 155.13\n",
      "Year=10, Final_Result is 162.89\n"
     ]
    }
   ],
   "source": [
    "years = [0, 1, 2, 3, 4, 5, 6, 7, 8, 9, 10]\n",
    "r = 5.0\n",
    "P = 100.0\n",
    "for n in years:\n",
    "    A = P * (1 + r / 100)**n\n",
    "    print(f\"Year={n}, Final_Result is {A:.2f}\")"
   ]
  },
  {
   "cell_type": "markdown",
   "metadata": {},
   "source": [
    "## Using the function `range` to loop over indices"
   ]
  },
  {
   "cell_type": "code",
   "execution_count": 12,
   "metadata": {},
   "outputs": [
    {
     "name": "stdout",
     "output_type": "stream",
     "text": [
      "range(0, 10)\n",
      "Year=0, Final_Result is 100.00\n",
      "Year=1, Final_Result is 105.00\n",
      "Year=2, Final_Result is 110.25\n",
      "Year=3, Final_Result is 115.76\n",
      "Year=4, Final_Result is 121.55\n",
      "Year=5, Final_Result is 127.63\n",
      "Year=6, Final_Result is 134.01\n",
      "Year=7, Final_Result is 140.71\n",
      "Year=8, Final_Result is 147.75\n",
      "Year=9, Final_Result is 155.13\n"
     ]
    }
   ],
   "source": [
    "# years = [0, 1, 2, 3, 4, 5, 6, 7, 8, 9, 10]\n",
    "r = 5.0\n",
    "P = 100.0\n",
    "print(range(10))\n",
    "for n in range(10):\n",
    "    A = P * (1 + r / 100)**n\n",
    "    print(f\"Year={n}, Final_Result is {A:.2f}\")"
   ]
  },
  {
   "cell_type": "code",
   "execution_count": 16,
   "metadata": {},
   "outputs": [
    {
     "name": "stdout",
     "output_type": "stream",
     "text": [
      "range(0, 11)\n",
      "Year=0, Final_Result is 100.00\n",
      "Year=1, Final_Result is 105.00\n",
      "Year=2, Final_Result is 110.25\n",
      "Year=3, Final_Result is 115.76\n",
      "Year=4, Final_Result is 121.55\n",
      "Year=5, Final_Result is 127.63\n",
      "Year=6, Final_Result is 134.01\n",
      "Year=7, Final_Result is 140.71\n",
      "Year=8, Final_Result is 147.75\n",
      "Year=9, Final_Result is 155.13\n",
      "Year=10, Final_Result is 162.89\n"
     ]
    }
   ],
   "source": [
    "# years = [0, 1, 2, 3, 4, 5, 6, 7, 8, 9, 10]\n",
    "r = 5.0\n",
    "P = 100.0\n",
    "n = 10\n",
    "print(range(n+1))\n",
    "for n in range(n+1):\n",
    "    A = P * (1 + r / 100)**n\n",
    "    print(f\"Year={n}, Final_Result is {A:.2f}\")"
   ]
  },
  {
   "cell_type": "code",
   "execution_count": 18,
   "metadata": {},
   "outputs": [
    {
     "name": "stdout",
     "output_type": "stream",
     "text": [
      "range(0, 11, 2)\n",
      "Year=0, Final_Result is 100.00\n",
      "Year=2, Final_Result is 110.25\n",
      "Year=4, Final_Result is 121.55\n",
      "Year=6, Final_Result is 134.01\n",
      "Year=8, Final_Result is 147.75\n",
      "Year=10, Final_Result is 162.89\n"
     ]
    }
   ],
   "source": [
    "r = 5.0\n",
    "P = 100.0\n",
    "n = 10\n",
    "print(range(0,11,2))\n",
    "for n in range(0,n+2,2):\n",
    "    A = P * (1 + r / 100)**n\n",
    "    print(f\"Year={n}, Final_Result is {A:.2f}\")"
   ]
  },
  {
   "cell_type": "markdown",
   "metadata": {},
   "source": [
    "## Filling a list with values using a `for` loop"
   ]
  },
  {
   "cell_type": "code",
   "execution_count": 20,
   "metadata": {},
   "outputs": [
    {
     "name": "stdout",
     "output_type": "stream",
     "text": [
      "Year=0, Final_Result is 100.00\n",
      "Year=1, Final_Result is 105.00\n",
      "Year=2, Final_Result is 110.25\n",
      "Year=3, Final_Result is 115.76\n",
      "Year=4, Final_Result is 121.55\n",
      "Year=5, Final_Result is 127.63\n",
      "Year=6, Final_Result is 134.01\n",
      "Year=7, Final_Result is 140.71\n",
      "Year=8, Final_Result is 147.75\n",
      "Year=9, Final_Result is 155.13\n",
      "Year=10, Final_Result is 162.89\n",
      "[100.0, 105.0, 110.25, 115.76250000000002, 121.55062500000003, 127.62815625000003, 134.00956406250003, 140.71004226562505, 147.7455443789063, 155.13282159785163, 162.8894626777442]\n",
      "121.55062500000003\n"
     ]
    }
   ],
   "source": [
    "r = 5.0\n",
    "P = 100.0\n",
    "n = 10\n",
    "amounts = []\n",
    "for n in range(n+1):\n",
    "    A = P * (1 + r / 100)**n\n",
    "    amounts.append(A)\n",
    "    print(f\"Year={n}, Final_Result is {A:.2f}\")\n",
    "print(amounts)\n",
    "print(amounts[4])"
   ]
  },
  {
   "cell_type": "markdown",
   "metadata": {},
   "source": [
    "## Mathematical sums are implemented as `for` loops"
   ]
  },
  {
   "cell_type": "code",
   "execution_count": 22,
   "metadata": {},
   "outputs": [
    {
     "name": "stdout",
     "output_type": "stream",
     "text": [
      "924490\n"
     ]
    }
   ],
   "source": [
    "N = 140\n",
    "S = 0\n",
    "for i in range(1, N+1):\n",
    "    S = S + i**2       # same as S += i**2\n",
    "print(S)"
   ]
  },
  {
   "cell_type": "markdown",
   "metadata": {},
   "source": [
    "## Change the Elements in a list"
   ]
  },
  {
   "cell_type": "code",
   "execution_count": 23,
   "metadata": {},
   "outputs": [
    {
     "name": "stdout",
     "output_type": "stream",
     "text": [
      "[-1, 0, 1]\n"
     ]
    }
   ],
   "source": [
    "v = [-1, 0, 1]\n",
    "for e in v:\n",
    "    e += 2\n",
    "print(v)"
   ]
  },
  {
   "cell_type": "code",
   "execution_count": 24,
   "metadata": {},
   "outputs": [
    {
     "ename": "IndexError",
     "evalue": "list index out of range",
     "output_type": "error",
     "traceback": [
      "\u001b[1;31m---------------------------------------------------------------------------\u001b[0m",
      "\u001b[1;31mIndexError\u001b[0m                                Traceback (most recent call last)",
      "Cell \u001b[1;32mIn[24], line 3\u001b[0m\n\u001b[0;32m      1\u001b[0m v \u001b[38;5;241m=\u001b[39m [\u001b[38;5;241m-\u001b[39m\u001b[38;5;241m1\u001b[39m, \u001b[38;5;241m0\u001b[39m, \u001b[38;5;241m1\u001b[39m]\n\u001b[0;32m      2\u001b[0m \u001b[38;5;28;01mfor\u001b[39;00m e \u001b[38;5;129;01min\u001b[39;00m v:\n\u001b[1;32m----> 3\u001b[0m     v[e] \u001b[38;5;241m+\u001b[39m\u001b[38;5;241m=\u001b[39m \u001b[38;5;241m2\u001b[39m\n\u001b[0;32m      4\u001b[0m \u001b[38;5;28mprint\u001b[39m(v)\n",
      "\u001b[1;31mIndexError\u001b[0m: list index out of range"
     ]
    }
   ],
   "source": [
    "v = [-1, 0, 1]\n",
    "for e in v:\n",
    "    v[e] += 2\n",
    "print(v)"
   ]
  },
  {
   "cell_type": "code",
   "execution_count": 25,
   "metadata": {},
   "outputs": [
    {
     "name": "stdout",
     "output_type": "stream",
     "text": [
      "[1, 2, 3]\n"
     ]
    }
   ],
   "source": [
    "v = [-1, 0, 1]\n",
    "for e in range(len(v)):\n",
    "    v[e] += 2\n",
    "print(v)"
   ]
  },
  {
   "cell_type": "code",
   "execution_count": 26,
   "metadata": {},
   "outputs": [
    {
     "name": "stdout",
     "output_type": "stream",
     "text": [
      "[1, 2, 3]\n"
     ]
    }
   ],
   "source": [
    "v = [-1, 0, 1]\n",
    "for e in [0,1,2]:\n",
    "    v[e] += 2\n",
    "print(v)"
   ]
  },
  {
   "cell_type": "code",
   "execution_count": null,
   "metadata": {},
   "outputs": [],
   "source": []
  }
 ],
 "metadata": {
  "kernelspec": {
   "display_name": "base",
   "language": "python",
   "name": "python3"
  },
  "language_info": {
   "codemirror_mode": {
    "name": "ipython",
    "version": 3
   },
   "file_extension": ".py",
   "mimetype": "text/x-python",
   "name": "python",
   "nbconvert_exporter": "python",
   "pygments_lexer": "ipython3",
   "version": "3.12.7"
  }
 },
 "nbformat": 4,
 "nbformat_minor": 2
}
