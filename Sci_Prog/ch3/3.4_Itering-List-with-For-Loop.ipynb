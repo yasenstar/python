{
 "cells": [
  {
   "cell_type": "markdown",
   "metadata": {},
   "source": [
    "# 3.4 Iterating Over a List with a `for` Loop"
   ]
  },
  {
   "cell_type": "markdown",
   "metadata": {},
   "source": [
    "## Overview of `for` Loop"
   ]
  },
  {
   "cell_type": "code",
   "execution_count": 11,
   "metadata": {},
   "outputs": [
    {
     "name": "stdout",
     "output_type": "stream",
     "text": [
      "Year=0, Final_Result is 100.00\n",
      "Year=1, Final_Result is 105.00\n",
      "Year=2, Final_Result is 110.25\n",
      "Year=3, Final_Result is 115.76\n",
      "Year=4, Final_Result is 121.55\n",
      "Year=5, Final_Result is 127.63\n",
      "Year=6, Final_Result is 134.01\n",
      "Year=7, Final_Result is 140.71\n",
      "Year=8, Final_Result is 147.75\n",
      "Year=9, Final_Result is 155.13\n",
      "Year=10, Final_Result is 162.89\n"
     ]
    }
   ],
   "source": [
    "years = [0, 1, 2, 3, 4, 5, 6, 7, 8, 9, 10]\n",
    "r = 5.0\n",
    "P = 100.0\n",
    "for n in years:\n",
    "    A = P * (1 + r / 100)**n\n",
    "    print(f\"Year={n}, Final_Result is {A:.2f}\")"
   ]
  },
  {
   "cell_type": "markdown",
   "metadata": {},
   "source": [
    "## Using the function `range` to loop over indices"
   ]
  },
  {
   "cell_type": "code",
   "execution_count": 12,
   "metadata": {},
   "outputs": [
    {
     "name": "stdout",
     "output_type": "stream",
     "text": [
      "range(0, 10)\n",
      "Year=0, Final_Result is 100.00\n",
      "Year=1, Final_Result is 105.00\n",
      "Year=2, Final_Result is 110.25\n",
      "Year=3, Final_Result is 115.76\n",
      "Year=4, Final_Result is 121.55\n",
      "Year=5, Final_Result is 127.63\n",
      "Year=6, Final_Result is 134.01\n",
      "Year=7, Final_Result is 140.71\n",
      "Year=8, Final_Result is 147.75\n",
      "Year=9, Final_Result is 155.13\n"
     ]
    }
   ],
   "source": [
    "# years = [0, 1, 2, 3, 4, 5, 6, 7, 8, 9, 10]\n",
    "r = 5.0\n",
    "P = 100.0\n",
    "print(range(10))\n",
    "for n in range(10):\n",
    "    A = P * (1 + r / 100)**n\n",
    "    print(f\"Year={n}, Final_Result is {A:.2f}\")"
   ]
  },
  {
   "cell_type": "code",
   "execution_count": 16,
   "metadata": {},
   "outputs": [
    {
     "name": "stdout",
     "output_type": "stream",
     "text": [
      "range(0, 11)\n",
      "Year=0, Final_Result is 100.00\n",
      "Year=1, Final_Result is 105.00\n",
      "Year=2, Final_Result is 110.25\n",
      "Year=3, Final_Result is 115.76\n",
      "Year=4, Final_Result is 121.55\n",
      "Year=5, Final_Result is 127.63\n",
      "Year=6, Final_Result is 134.01\n",
      "Year=7, Final_Result is 140.71\n",
      "Year=8, Final_Result is 147.75\n",
      "Year=9, Final_Result is 155.13\n",
      "Year=10, Final_Result is 162.89\n"
     ]
    }
   ],
   "source": [
    "# years = [0, 1, 2, 3, 4, 5, 6, 7, 8, 9, 10]\n",
    "r = 5.0\n",
    "P = 100.0\n",
    "n = 10\n",
    "print(range(n+1))\n",
    "for n in range(n+1):\n",
    "    A = P * (1 + r / 100)**n\n",
    "    print(f\"Year={n}, Final_Result is {A:.2f}\")"
   ]
  },
  {
   "cell_type": "code",
   "execution_count": 18,
   "metadata": {},
   "outputs": [
    {
     "name": "stdout",
     "output_type": "stream",
     "text": [
      "range(0, 11, 2)\n",
      "Year=0, Final_Result is 100.00\n",
      "Year=2, Final_Result is 110.25\n",
      "Year=4, Final_Result is 121.55\n",
      "Year=6, Final_Result is 134.01\n",
      "Year=8, Final_Result is 147.75\n",
      "Year=10, Final_Result is 162.89\n"
     ]
    }
   ],
   "source": [
    "r = 5.0\n",
    "P = 100.0\n",
    "n = 10\n",
    "print(range(0,11,2))\n",
    "for n in range(0,n+2,2):\n",
    "    A = P * (1 + r / 100)**n\n",
    "    print(f\"Year={n}, Final_Result is {A:.2f}\")"
   ]
  },
  {
   "cell_type": "markdown",
   "metadata": {},
   "source": [
    "## Filling a list with values using a `for` loop"
   ]
  },
  {
   "cell_type": "code",
   "execution_count": 20,
   "metadata": {},
   "outputs": [
    {
     "name": "stdout",
     "output_type": "stream",
     "text": [
      "Year=0, Final_Result is 100.00\n",
      "Year=1, Final_Result is 105.00\n",
      "Year=2, Final_Result is 110.25\n",
      "Year=3, Final_Result is 115.76\n",
      "Year=4, Final_Result is 121.55\n",
      "Year=5, Final_Result is 127.63\n",
      "Year=6, Final_Result is 134.01\n",
      "Year=7, Final_Result is 140.71\n",
      "Year=8, Final_Result is 147.75\n",
      "Year=9, Final_Result is 155.13\n",
      "Year=10, Final_Result is 162.89\n",
      "[100.0, 105.0, 110.25, 115.76250000000002, 121.55062500000003, 127.62815625000003, 134.00956406250003, 140.71004226562505, 147.7455443789063, 155.13282159785163, 162.8894626777442]\n",
      "121.55062500000003\n"
     ]
    }
   ],
   "source": [
    "r = 5.0\n",
    "P = 100.0\n",
    "n = 10\n",
    "amounts = []\n",
    "for n in range(n+1):\n",
    "    A = P * (1 + r / 100)**n\n",
    "    amounts.append(A)\n",
    "    print(f\"Year={n}, Final_Result is {A:.2f}\")\n",
    "print(amounts)\n",
    "print(amounts[4])"
   ]
  },
  {
   "cell_type": "markdown",
   "metadata": {},
   "source": [
    "## Mathematical sums are implemented as `for` loops"
   ]
  },
  {
   "cell_type": "code",
   "execution_count": 22,
   "metadata": {},
   "outputs": [
    {
     "name": "stdout",
     "output_type": "stream",
     "text": [
      "924490\n"
     ]
    }
   ],
   "source": [
    "N = 140\n",
    "S = 0\n",
    "for i in range(1, N+1):\n",
    "    S = S + i**2       # same as S += i**2\n",
    "print(S)"
   ]
  },
  {
   "cell_type": "markdown",
   "metadata": {},
   "source": [
    "## Change the Elements in a list"
   ]
  },
  {
   "cell_type": "code",
   "execution_count": 23,
   "metadata": {},
   "outputs": [
    {
     "name": "stdout",
     "output_type": "stream",
     "text": [
      "[-1, 0, 1]\n"
     ]
    }
   ],
   "source": [
    "v = [-1, 0, 1]\n",
    "for e in v:\n",
    "    e += 2\n",
    "print(v)"
   ]
  },
  {
   "cell_type": "code",
   "execution_count": 24,
   "metadata": {},
   "outputs": [
    {
     "ename": "IndexError",
     "evalue": "list index out of range",
     "output_type": "error",
     "traceback": [
      "\u001b[1;31m---------------------------------------------------------------------------\u001b[0m",
      "\u001b[1;31mIndexError\u001b[0m                                Traceback (most recent call last)",
      "Cell \u001b[1;32mIn[24], line 3\u001b[0m\n\u001b[0;32m      1\u001b[0m v \u001b[38;5;241m=\u001b[39m [\u001b[38;5;241m-\u001b[39m\u001b[38;5;241m1\u001b[39m, \u001b[38;5;241m0\u001b[39m, \u001b[38;5;241m1\u001b[39m]\n\u001b[0;32m      2\u001b[0m \u001b[38;5;28;01mfor\u001b[39;00m e \u001b[38;5;129;01min\u001b[39;00m v:\n\u001b[1;32m----> 3\u001b[0m     v[e] \u001b[38;5;241m+\u001b[39m\u001b[38;5;241m=\u001b[39m \u001b[38;5;241m2\u001b[39m\n\u001b[0;32m      4\u001b[0m \u001b[38;5;28mprint\u001b[39m(v)\n",
      "\u001b[1;31mIndexError\u001b[0m: list index out of range"
     ]
    }
   ],
   "source": [
    "v = [-1, 0, 1]\n",
    "for e in v:\n",
    "    v[e] += 2\n",
    "print(v)"
   ]
  },
  {
   "cell_type": "code",
   "execution_count": 25,
   "metadata": {},
   "outputs": [
    {
     "name": "stdout",
     "output_type": "stream",
     "text": [
      "[1, 2, 3]\n"
     ]
    }
   ],
   "source": [
    "v = [-1, 0, 1]\n",
    "for e in range(len(v)):\n",
    "    v[e] += 2\n",
    "print(v)"
   ]
  },
  {
   "cell_type": "code",
   "execution_count": 26,
   "metadata": {},
   "outputs": [
    {
     "name": "stdout",
     "output_type": "stream",
     "text": [
      "[1, 2, 3]\n"
     ]
    }
   ],
   "source": [
    "v = [-1, 0, 1]\n",
    "for e in [0,1,2]:\n",
    "    v[e] += 2\n",
    "print(v)"
   ]
  },
  {
   "cell_type": "markdown",
   "metadata": {},
   "source": [
    "## List Comprehensions for compact creation of lists"
   ]
  },
  {
   "cell_type": "code",
   "execution_count": null,
   "metadata": {},
   "outputs": [
    {
     "name": "stdout",
     "output_type": "stream",
     "text": [
      "[100.0, 102.49999999999999, 105.06249999999999, 107.68906249999996, 110.38128906249996, 113.14082128906244, 115.96934182128899, 118.86857536682123, 121.84028975099173, 124.88629699476652, 128.00845441963565]\n",
      "[100.0, 105.0, 110.25, 115.76250000000002, 121.55062500000003, 127.62815625000003, 134.00956406250003, 140.71004226562505, 147.7455443789063, 155.13282159785163, 162.8894626777442]\n"
     ]
    }
   ],
   "source": [
    "# Without List Comprehensions\n",
    "P = 100\n",
    "r_low = 2.5\n",
    "r_high = 5.0\n",
    "N = 10\n",
    "A_high = []\n",
    "A_low = []\n",
    "for  n in range(N+1):\n",
    "    A_low.append(P*(1+r_low/100)**n)\n",
    "    A_high.append(P*(1+r_high/100)**n)\n",
    "print(A_low)\n",
    "print(A_high)"
   ]
  },
  {
   "cell_type": "code",
   "execution_count": 29,
   "metadata": {},
   "outputs": [
    {
     "name": "stdout",
     "output_type": "stream",
     "text": [
      "[100.0, 102.49999999999999, 105.06249999999999, 107.68906249999996, 110.38128906249996, 113.14082128906244, 115.96934182128899, 118.86857536682123, 121.84028975099173, 124.88629699476652, 128.00845441963565]\n",
      "[100.0, 105.0, 110.25, 115.76250000000002, 121.55062500000003, 127.62815625000003, 134.00956406250003, 140.71004226562505, 147.7455443789063, 155.13282159785163, 162.8894626777442]\n"
     ]
    }
   ],
   "source": [
    "# With List Comprehensions\n",
    "P = 100\n",
    "r_low = 2.5\n",
    "r_high = 5.0\n",
    "N = 10\n",
    "A_high = [P*(1+r_high/100)**n for n in range(N+1)]\n",
    "A_low = [P*(1+r_low/100)**n for n in range(N+1)]\n",
    "print(A_low)\n",
    "print(A_high)"
   ]
  },
  {
   "cell_type": "markdown",
   "metadata": {},
   "source": [
    "## Traverse Multiple List Simultaneously with `zip`"
   ]
  },
  {
   "cell_type": "code",
   "execution_count": 30,
   "metadata": {},
   "outputs": [
    {
     "name": "stdout",
     "output_type": "stream",
     "text": [
      "[(1, 5), (2, 6), (3, 7), (4, 8)]\n"
     ]
    }
   ],
   "source": [
    "list1 = [1,2,3,4]\n",
    "list2 = [5,6,7,8]\n",
    "result = list(zip(list1, list2))\n",
    "print(result)"
   ]
  },
  {
   "cell_type": "code",
   "execution_count": 34,
   "metadata": {},
   "outputs": [
    {
     "name": "stdout",
     "output_type": "stream",
     "text": [
      "[100.0, 102.49999999999999, 105.06249999999999, 107.68906249999996, 110.38128906249996, 113.14082128906244, 115.96934182128899, 118.86857536682123, 121.84028975099173, 124.88629699476652, 128.00845441963565]\n",
      "[100.0, 105.0, 110.25, 115.76250000000002, 121.55062500000003, 127.62815625000003, 134.00956406250003, 140.71004226562505, 147.7455443789063, 155.13282159785163, 162.8894626777442, 171.0339358116314, 179.585632602213, 188.56491423232367, 197.99315994393987, 207.89281794113688]\n"
     ]
    }
   ],
   "source": [
    "P = 100\n",
    "r_low = 2.5\n",
    "r_high = 5.0\n",
    "N_low = 10\n",
    "N_high = 15\n",
    "A_high = [P*(1+r_high/100)**n for n in range(N_high+1)]\n",
    "A_low = [P*(1+r_low/100)**n for n in range(N_low+1)]\n",
    "print(A_low)\n",
    "print(A_high)"
   ]
  },
  {
   "cell_type": "code",
   "execution_count": 36,
   "metadata": {},
   "outputs": [
    {
     "name": "stdout",
     "output_type": "stream",
     "text": [
      "100.0 100.0\n",
      "102.49999999999999 105.0\n",
      "105.06249999999999 110.25\n",
      "107.68906249999996 115.76250000000002\n",
      "110.38128906249996 121.55062500000003\n",
      "113.14082128906244 127.62815625000003\n",
      "115.96934182128899 134.00956406250003\n",
      "118.86857536682123 140.71004226562505\n",
      "121.84028975099173 147.7455443789063\n",
      "124.88629699476652 155.13282159785163\n",
      "128.00845441963565 162.8894626777442\n"
     ]
    },
    {
     "ename": "IndexError",
     "evalue": "list index out of range",
     "output_type": "error",
     "traceback": [
      "\u001b[1;31m---------------------------------------------------------------------------\u001b[0m",
      "\u001b[1;31mIndexError\u001b[0m                                Traceback (most recent call last)",
      "Cell \u001b[1;32mIn[36], line 2\u001b[0m\n\u001b[0;32m      1\u001b[0m \u001b[38;5;28;01mfor\u001b[39;00m i \u001b[38;5;129;01min\u001b[39;00m \u001b[38;5;28mrange\u001b[39m(\u001b[38;5;28mlen\u001b[39m(A_high)):\n\u001b[1;32m----> 2\u001b[0m     \u001b[38;5;28mprint\u001b[39m(A_low[i], A_high[i])\n",
      "\u001b[1;31mIndexError\u001b[0m: list index out of range"
     ]
    }
   ],
   "source": [
    "for i in range(len(A_high)):\n",
    "    print(A_low[i], A_high[i])"
   ]
  },
  {
   "cell_type": "code",
   "execution_count": 37,
   "metadata": {},
   "outputs": [
    {
     "name": "stdout",
     "output_type": "stream",
     "text": [
      "100.0 100.0\n",
      "102.49999999999999 105.0\n",
      "105.06249999999999 110.25\n",
      "107.68906249999996 115.76250000000002\n",
      "110.38128906249996 121.55062500000003\n",
      "113.14082128906244 127.62815625000003\n",
      "115.96934182128899 134.00956406250003\n",
      "118.86857536682123 140.71004226562505\n",
      "121.84028975099173 147.7455443789063\n",
      "124.88629699476652 155.13282159785163\n",
      "128.00845441963565 162.8894626777442\n"
     ]
    }
   ],
   "source": [
    "for low, high in zip(A_low, A_high):\n",
    "    print(low, high)"
   ]
  }
 ],
 "metadata": {
  "kernelspec": {
   "display_name": "base",
   "language": "python",
   "name": "python3"
  },
  "language_info": {
   "codemirror_mode": {
    "name": "ipython",
    "version": 3
   },
   "file_extension": ".py",
   "mimetype": "text/x-python",
   "name": "python",
   "nbconvert_exporter": "python",
   "pygments_lexer": "ipython3",
   "version": "3.12.7"
  }
 },
 "nbformat": 4,
 "nbformat_minor": 2
}
