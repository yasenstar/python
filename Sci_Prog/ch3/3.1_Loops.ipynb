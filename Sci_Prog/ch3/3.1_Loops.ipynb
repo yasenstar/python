{
 "cells": [
  {
   "cell_type": "markdown",
   "metadata": {},
   "source": [
    "# 3.1 Loops for Automating Repetitive Tasks"
   ]
  },
  {
   "cell_type": "code",
   "execution_count": 1,
   "metadata": {},
   "outputs": [
    {
     "name": "stdout",
     "output_type": "stream",
     "text": [
      "7 140.71004226562505\n"
     ]
    }
   ],
   "source": [
    "P = 100\n",
    "r = 5.0\n",
    "n = 7\n",
    "A = P * (1 + r / 100)**n\n",
    "print(n, A)"
   ]
  },
  {
   "cell_type": "code",
   "execution_count": 3,
   "metadata": {},
   "outputs": [
    {
     "name": "stdout",
     "output_type": "stream",
     "text": [
      "0 100.0\n",
      "1 105.0\n",
      "2 110.25\n",
      "3 115.76250000000002\n",
      "4 121.55062500000003\n",
      "5 127.62815625000003\n",
      "6 134.00956406250003\n",
      "7 140.71004226562505\n",
      "8 147.7455443789063\n",
      "9 155.13282159785163\n",
      "10 162.8894626777442\n"
     ]
    }
   ],
   "source": [
    "n = 0\n",
    "print(n, P * (1 + r / 100)**n)\n",
    "n = 1\n",
    "print(n, P * (1 + r / 100)**n)\n",
    "n = 2\n",
    "print(n, P * (1 + r / 100)**n)\n",
    "n = 3\n",
    "print(n, P * (1 + r / 100)**n)\n",
    "n = 4\n",
    "print(n, P * (1 + r / 100)**n)\n",
    "n = 5\n",
    "print(n, P * (1 + r / 100)**n)\n",
    "n = 6\n",
    "print(n, P * (1 + r / 100)**n)\n",
    "n = 7\n",
    "print(n, P * (1 + r / 100)**n)\n",
    "n = 8\n",
    "print(n, P * (1 + r / 100)**n)\n",
    "n = 9\n",
    "print(n, P * (1 + r / 100)**n)\n",
    "n = 10\n",
    "print(n, P * (1 + r / 100)**n)"
   ]
  },
  {
   "cell_type": "code",
   "execution_count": 5,
   "metadata": {},
   "outputs": [
    {
     "name": "stdout",
     "output_type": "stream",
     "text": [
      "Year=0, Final_Result is 100.00\n",
      "Year=1, Final_Result is 105.00\n",
      "Year=2, Final_Result is 110.25\n",
      "Year=3, Final_Result is 115.76\n",
      "Year=4, Final_Result is 121.55\n",
      "Year=5, Final_Result is 127.63\n",
      "Year=6, Final_Result is 134.01\n",
      "Year=7, Final_Result is 140.71\n",
      "Year=8, Final_Result is 147.75\n",
      "Year=9, Final_Result is 155.13\n",
      "Year=10, Final_Result is 162.89\n",
      "now n is 11\n"
     ]
    }
   ],
   "source": [
    "P = 100\n",
    "r = 5.0\n",
    "n = 0\n",
    "while n <= 10:\n",
    "    A = P * (1 + r / 100)**n\n",
    "    print(f\"Year={n}, Final_Result is {A:.2f}\")\n",
    "    n = n + 1\n",
    "print(f\"now n is {n}\")"
   ]
  }
 ],
 "metadata": {
  "kernelspec": {
   "display_name": "base",
   "language": "python",
   "name": "python3"
  },
  "language_info": {
   "codemirror_mode": {
    "name": "ipython",
    "version": 3
   },
   "file_extension": ".py",
   "mimetype": "text/x-python",
   "name": "python",
   "nbconvert_exporter": "python",
   "pygments_lexer": "ipython3",
   "version": "3.12.7"
  }
 },
 "nbformat": 4,
 "nbformat_minor": 2
}
