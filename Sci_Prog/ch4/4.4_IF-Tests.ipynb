{
 "cells": [
  {
   "cell_type": "markdown",
   "metadata": {},
   "source": [
    "# 4.3 If-Tests for Branching the Program Flow"
   ]
  },
  {
   "cell_type": "code",
   "execution_count": 3,
   "metadata": {},
   "outputs": [
    {
     "name": "stdout",
     "output_type": "stream",
     "text": [
      "0.479425538604203\n",
      "0\n",
      "0.3090169943749475\n"
     ]
    }
   ],
   "source": [
    "from math import sin, pi\n",
    "\n",
    "def f(x):\n",
    "    if 0 <= x <= pi:\n",
    "        return sin(x)\n",
    "    else:\n",
    "        return 0\n",
    "\n",
    "print(f(0.5))\n",
    "print(f(4))\n",
    "print(f(0.9*pi))"
   ]
  },
  {
   "cell_type": "code",
   "execution_count": 9,
   "metadata": {},
   "outputs": [
    {
     "name": "stdout",
     "output_type": "stream",
     "text": [
      "0.479425538604203\n"
     ]
    }
   ],
   "source": [
    "from math import sin, pi\n",
    "\n",
    "def f(x):\n",
    "    print(sin(x)) if 0 <= x <= pi else print(0)\n",
    "    # return sin(x) if 0 <= x <= pi else return 0  # SyntaxError: invalid syntax\n",
    "\n",
    "f(0.5)"
   ]
  },
  {
   "cell_type": "code",
   "execution_count": 14,
   "metadata": {},
   "outputs": [
    {
     "name": "stdout",
     "output_type": "stream",
     "text": [
      "0\n",
      "0\n",
      "0.5\n",
      "0.8999999999999999\n"
     ]
    }
   ],
   "source": [
    "def N(x):\n",
    "    if x < 0 or x >= 2:\n",
    "        return 0\n",
    "    elif 0 <= x < 1:\n",
    "        return x\n",
    "    elif 1 <= x < 2:\n",
    "        return 2 - x\n",
    "\n",
    "print(N(-1))\n",
    "print(N(10))\n",
    "print(N(0.5))\n",
    "print(N(1.1))"
   ]
  },
  {
   "cell_type": "code",
   "execution_count": 16,
   "metadata": {},
   "outputs": [
    {
     "name": "stdout",
     "output_type": "stream",
     "text": [
      "0\n",
      "0\n",
      "0.5\n",
      "0.8999999999999999\n"
     ]
    }
   ],
   "source": [
    "def N(x):\n",
    "    if x < 0 or x >= 2:\n",
    "        return 0\n",
    "    elif 0 <= x < 1:\n",
    "        return x\n",
    "    else:\n",
    "        return 2 - x\n",
    "\n",
    "print(N(-1))\n",
    "print(N(10))\n",
    "print(N(0.5))\n",
    "print(N(1.1))"
   ]
  },
  {
   "cell_type": "code",
   "execution_count": 29,
   "metadata": {},
   "outputs": [
    {
     "name": "stdout",
     "output_type": "stream",
     "text": [
      "0\n",
      "3\n"
     ]
    }
   ],
   "source": [
    "def N(x):\n",
    "    print(0) if x<0 else print(x)\n",
    "\n",
    "N(-1)\n",
    "N(3)"
   ]
  },
  {
   "cell_type": "code",
   "execution_count": null,
   "metadata": {},
   "outputs": [],
   "source": []
  }
 ],
 "metadata": {
  "kernelspec": {
   "display_name": "base",
   "language": "python",
   "name": "python3"
  },
  "language_info": {
   "codemirror_mode": {
    "name": "ipython",
    "version": 3
   },
   "file_extension": ".py",
   "mimetype": "text/x-python",
   "name": "python",
   "nbconvert_exporter": "python",
   "pygments_lexer": "ipython3",
   "version": "3.12.7"
  }
 },
 "nbformat": 4,
 "nbformat_minor": 2
}
