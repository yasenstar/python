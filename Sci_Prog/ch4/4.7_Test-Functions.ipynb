{
 "cells": [
  {
   "cell_type": "markdown",
   "id": "297f0126",
   "metadata": {},
   "source": [
    "# 4.7 Writing Test Functions to Verify our Programs\n",
    "\n",
    "## 4.7.1 Basic Test Functions Concept"
   ]
  },
  {
   "cell_type": "code",
   "execution_count": null,
   "id": "11d1e396",
   "metadata": {},
   "outputs": [
    {
     "name": "stdout",
     "output_type": "stream",
     "text": [
      "computed 10.0, expected 8\n"
     ]
    },
    {
     "ename": "AssertionError",
     "evalue": "computed 10.0, expected 8",
     "output_type": "error",
     "traceback": [
      "\u001b[1;31m---------------------------------------------------------------------------\u001b[0m",
      "\u001b[1;31mAssertionError\u001b[0m                            Traceback (most recent call last)",
      "Cell \u001b[1;32mIn[12], line 13\u001b[0m\n\u001b[0;32m     10\u001b[0m     \u001b[38;5;28mprint\u001b[39m(msg)\n\u001b[0;32m     11\u001b[0m     \u001b[38;5;28;01massert\u001b[39;00m success, msg\n\u001b[1;32m---> 13\u001b[0m test_double()\n",
      "Cell \u001b[1;32mIn[12], line 11\u001b[0m, in \u001b[0;36mtest_double\u001b[1;34m()\u001b[0m\n\u001b[0;32m      9\u001b[0m msg \u001b[38;5;241m=\u001b[39m \u001b[38;5;124mf\u001b[39m\u001b[38;5;124m'\u001b[39m\u001b[38;5;124mcomputed \u001b[39m\u001b[38;5;132;01m{\u001b[39;00mcomputed\u001b[38;5;132;01m}\u001b[39;00m\u001b[38;5;124m, expected \u001b[39m\u001b[38;5;132;01m{\u001b[39;00mexpected\u001b[38;5;132;01m}\u001b[39;00m\u001b[38;5;124m'\u001b[39m\n\u001b[0;32m     10\u001b[0m \u001b[38;5;28mprint\u001b[39m(msg)\n\u001b[1;32m---> 11\u001b[0m \u001b[38;5;28;01massert\u001b[39;00m success, msg\n",
      "\u001b[1;31mAssertionError\u001b[0m: computed 10.0, expected 8"
     ]
    }
   ],
   "source": [
    "def double(x):\n",
    "    return 2.5*x\n",
    "\n",
    "def test_double():\n",
    "    x = 4\n",
    "    expected = 8\n",
    "    computed = double(4)\n",
    "    success = computed == expected\n",
    "    msg = f'computed {computed}, expected {expected}'\n",
    "    print(msg)\n",
    "assert success, msg\n",
    "    \n",
    "test_double()"
   ]
  },
  {
   "cell_type": "markdown",
   "id": "c30a87c0",
   "metadata": {},
   "source": [
    "# 4.7.2 A test function can include multiple tests"
   ]
  },
  {
   "cell_type": "code",
   "execution_count": 21,
   "id": "61e12c15",
   "metadata": {},
   "outputs": [],
   "source": [
    "from math import sin, pi\n",
    "\n",
    "def f(x):\n",
    "    if 0 <= x <= pi:\n",
    "        return sin(x)\n",
    "    else:\n",
    "        return 0\n",
    "\n",
    "def test_f():\n",
    "    x1, exp1 = -1.0, 0.0\n",
    "    x2, exp2 = pi/2, 1.0\n",
    "    x3, exp3 = 3.5, 0\n",
    "\n",
    "    tol = 1e-10\n",
    "    assert abs(f(x1)-exp1) < tol, f'Failed for x = {x1}'\n",
    "    assert abs(f(x2)-exp2) < tol, f'Failed for x = {x2}'\n",
    "    assert abs(f(x3)-exp3) < tol, f'Failed for x = {x3}'\n",
    "\n",
    "test_f()"
   ]
  },
  {
   "cell_type": "code",
   "execution_count": 26,
   "id": "df717128",
   "metadata": {},
   "outputs": [],
   "source": [
    "from math import sin, pi\n",
    "\n",
    "def f(x):\n",
    "    if 0 <= x <= pi:\n",
    "        return sin(x)\n",
    "    else:\n",
    "        return 0\n",
    "\n",
    "def test_f():\n",
    "    x_vals = [-1.0, pi/2, 3.5]\n",
    "    exp_vals = [0.0, 1.0, 0.0]\n",
    "\n",
    "    tol = 1e-10\n",
    "\n",
    "    for x, exp in zip(x_vals, exp_vals):\n",
    "        assert abs(f(x)-exp) < tol, f'Failed for x = {x}, expected {exp}, but got {f(x)}'\n",
    "\n",
    "test_f()"
   ]
  },
  {
   "cell_type": "code",
   "execution_count": null,
   "id": "b6f11ea5",
   "metadata": {},
   "outputs": [],
   "source": []
  }
 ],
 "metadata": {
  "kernelspec": {
   "display_name": "base",
   "language": "python",
   "name": "python3"
  },
  "language_info": {
   "codemirror_mode": {
    "name": "ipython",
    "version": 3
   },
   "file_extension": ".py",
   "mimetype": "text/x-python",
   "name": "python",
   "nbconvert_exporter": "python",
   "pygments_lexer": "ipython3",
   "version": "3.12.7"
  }
 },
 "nbformat": 4,
 "nbformat_minor": 5
}
