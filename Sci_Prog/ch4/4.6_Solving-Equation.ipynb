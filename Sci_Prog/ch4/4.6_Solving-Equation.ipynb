{
 "cells": [
  {
   "cell_type": "markdown",
   "metadata": {},
   "source": [
    "# 4.6 Solving Equations wiht Python Functions"
   ]
  },
  {
   "cell_type": "markdown",
   "metadata": {},
   "source": [
    "## 4.6.1 bisection method"
   ]
  },
  {
   "cell_type": "code",
   "execution_count": 9,
   "metadata": {},
   "outputs": [
    {
     "name": "stdout",
     "output_type": "stream",
     "text": [
      "No roots or more than one root in [2, 5]\n",
      "0.213348388671875\n"
     ]
    }
   ],
   "source": [
    "from math import exp\n",
    "\n",
    "def bisection(f, a, b, tol = 1e-5):\n",
    "    if f(a)*f(b) > 0:\n",
    "        print(f\"No roots or more than one root in [{a}, {b}]\")\n",
    "        return\n",
    "    m = (a+b)/2\n",
    "    while abs(f(m)) > tol:\n",
    "        if f(a)*f(m) < 0:\n",
    "            b = m\n",
    "        else:\n",
    "            a = m\n",
    "        m = (a+b)/2\n",
    "    print(m)\n",
    "\n",
    "f1 = lambda x: x**2 + 4 * x + exp(-x)\n",
    "sol1 = bisection(f1, 2, 5)\n",
    "\n",
    "f2 = lambda x: x**2 - 4 * x + exp(-x)\n",
    "sol2 = bisection(f2, -1, 2)"
   ]
  },
  {
   "cell_type": "code",
   "execution_count": null,
   "metadata": {},
   "outputs": [],
   "source": []
  }
 ],
 "metadata": {
  "kernelspec": {
   "display_name": "base",
   "language": "python",
   "name": "python3"
  },
  "language_info": {
   "codemirror_mode": {
    "name": "ipython",
    "version": 3
   },
   "file_extension": ".py",
   "mimetype": "text/x-python",
   "name": "python",
   "nbconvert_exporter": "python",
   "pygments_lexer": "ipython3",
   "version": "3.12.7"
  }
 },
 "nbformat": 4,
 "nbformat_minor": 2
}
