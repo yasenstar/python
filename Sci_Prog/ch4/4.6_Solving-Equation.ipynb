{
 "cells": [
  {
   "cell_type": "markdown",
   "metadata": {},
   "source": [
    "# 4.6 Solving Equations wiht Python Functions"
   ]
  },
  {
   "cell_type": "markdown",
   "metadata": {},
   "source": [
    "## 4.6.1 bisection method"
   ]
  },
  {
   "cell_type": "code",
   "execution_count": 9,
   "metadata": {},
   "outputs": [
    {
     "name": "stdout",
     "output_type": "stream",
     "text": [
      "No roots or more than one root in [2, 5]\n",
      "0.213348388671875\n"
     ]
    }
   ],
   "source": [
    "from math import exp\n",
    "\n",
    "def bisection(f, a, b, tol = 1e-5):\n",
    "    if f(a)*f(b) > 0:\n",
    "        print(f\"No roots or more than one root in [{a}, {b}]\")\n",
    "        return\n",
    "    m = (a+b)/2\n",
    "    while abs(f(m)) > tol:\n",
    "        if f(a)*f(m) < 0:\n",
    "            b = m\n",
    "        else:\n",
    "            a = m\n",
    "        m = (a+b)/2\n",
    "    print(m)\n",
    "\n",
    "f1 = lambda x: x**2 + 4 * x + exp(-x)\n",
    "sol1 = bisection(f1, 2, 5)\n",
    "\n",
    "f2 = lambda x: x**2 - 4 * x + exp(-x)\n",
    "sol2 = bisection(f2, -1, 2)"
   ]
  },
  {
   "cell_type": "markdown",
   "metadata": {},
   "source": [
    "## 4.6.2 Newton's method"
   ]
  },
  {
   "cell_type": "code",
   "execution_count": 11,
   "metadata": {},
   "outputs": [
    {
     "name": "stdout",
     "output_type": "stream",
     "text": [
      "1.0\n",
      "x0:  0 , x1:  0.2\n",
      "0.05873075307798181\n",
      "x0:  0.2 , x1:  0.21329131743025334\n",
      "0.0002486579065678063\n",
      "x0:  0.21329131743025334 , x1:  0.2133480713032742\n",
      "4.522134666729016e-09\n",
      "x = 0.213348 is an approximate root, f(0.213348) = 4.52213e-09\n"
     ]
    }
   ],
   "source": [
    "from math import exp\n",
    "\n",
    "def Newton(f, dfdx, x0, tol = 1e-3):\n",
    "    f0 = f(x0)\n",
    "    print(f0)\n",
    "    while abs(f0) > tol:\n",
    "        x1 = x0 - f0 / dfdx(x0)\n",
    "        print(\"x0: \", x0, \", x1: \",x1)\n",
    "        x0 = x1\n",
    "        f0 = f(x0)\n",
    "        print(f0)\n",
    "    return x0\n",
    "\n",
    "f = lambda x: x**2 - 4*x + exp(-x)\n",
    "dfdx = lambda x: 2*x - 4 - exp(-x)\n",
    "\n",
    "sol = Newton(f, dfdx, 0, 1e-6)\n",
    "\n",
    "print(f\"x = {sol:g} is an approximate root, f({sol:g}) = {f(sol):g}\")"
   ]
  },
  {
   "cell_type": "code",
   "execution_count": 20,
   "metadata": {},
   "outputs": [
    {
     "name": "stdout",
     "output_type": "stream",
     "text": [
      "1.0\n",
      "x0:  0 , x1:  -0.3333333333333333\n",
      "0.06227909203955351\n",
      "x0:  -0.3333333333333333 , x1:  -0.31800226162878387\n",
      "0.10237032315669481\n",
      "x0:  -0.31800226162878387 , x1:  -0.29058965217399646\n",
      "0.1748571390983209\n",
      "x0:  -0.29058965217399646 , x1:  -0.235061976422863\n",
      "0.3247392599917953\n",
      "x0:  -0.235061976422863 , x1:  -0.0699033703681366\n",
      "0.7927910687179414\n",
      "x0:  -0.0699033703681366 , x1:  -0.5882273544447649\n",
      "-0.5520914035330915\n",
      "x0:  -0.5882273544447649 , x1:  -0.6459452582926395\n",
      "-0.675831577834568\n",
      "x0:  -0.6459452582926395 , x1:  -0.7083679640908299\n",
      "-0.8017854424476414\n",
      "x0:  -0.7083679640908299 , x1:  -0.7740986762776747\n",
      "-0.9217887602146684\n",
      "x0:  -0.7740986762776747 , x1:  -0.841625970044981\n",
      "-1.0145707589987536\n",
      "x0:  -0.841625970044981 , x1:  -0.9085825995242349\n",
      "-1.0065364757300919\n",
      "x0:  -0.9085825995242349 , x1:  -0.9690263257559272\n",
      "-0.7077473518919919\n",
      "x0:  -0.9690263257559272 , x1:  -1.0083109135656045\n",
      "-0.1122563126394871\n",
      "x0:  -1.0083109135656045 , x1:  -1.014248143714883\n",
      "0.027338231331837992\n",
      "x0:  -1.014248143714883 , x1:  -1.0128124820742335\n",
      "-0.007942258271294467\n",
      "x0:  -1.0128124820742335 , x1:  -1.013230284930354\n",
      "0.002221667962967633\n",
      "x0:  -1.013230284930354 , x1:  -1.0131134724041986\n",
      "-0.0006285254931652773\n",
      "x0:  -1.0131134724041986 , x1:  -1.0131465241085678\n",
      "0.000177257565590061\n",
      "x0:  -1.0131465241085678 , x1:  -1.013137203193142\n",
      "-5.0034875236804055e-05\n",
      "x0:  -1.013137203193142 , x1:  -1.0131398342573799\n",
      "1.4119913214649671e-05\n",
      "x = -1.01314 is an approximate root, f(-1.01314) = 1.41199e-05\n",
      "The method did not converged\n"
     ]
    }
   ],
   "source": [
    "from math import exp\n",
    "\n",
    "def Newton(f, dfdx, x0, max_it=20, tol = 1e-3):\n",
    "    f0 = f(x0)\n",
    "    print(f0)\n",
    "    iter = 0\n",
    "    while abs(f0) > tol and iter < max_it:\n",
    "        x1 = x0 - f0 / dfdx(x0)\n",
    "        print(\"x0: \", x0, \", x1: \",x1)\n",
    "        x0 = x1\n",
    "        f0 = f(x0)\n",
    "        print(f0)\n",
    "        iter += 1\n",
    "    converged = iter < max_it\n",
    "    return x0, converged, iter\n",
    "\n",
    "f = lambda x: x**20 + 4*x + exp(-x)\n",
    "dfdx = lambda x: 20*x + 4 - exp(-x)\n",
    "\n",
    "sol, converged, iter = Newton(f, dfdx, 0, tol=1e-6)\n",
    "\n",
    "print(f\"x = {sol:g} is an approximate root, f({sol:g}) = {f(sol):g}\")\n",
    "\n",
    "if converged:\n",
    "    print(f'Newtons method converged in {iter} iterations')\n",
    "else:\n",
    "    print(f\"The method did not converged\")"
   ]
  },
  {
   "cell_type": "code",
   "execution_count": null,
   "metadata": {},
   "outputs": [],
   "source": []
  }
 ],
 "metadata": {
  "kernelspec": {
   "display_name": "base",
   "language": "python",
   "name": "python3"
  },
  "language_info": {
   "codemirror_mode": {
    "name": "ipython",
    "version": 3
   },
   "file_extension": ".py",
   "mimetype": "text/x-python",
   "name": "python",
   "nbconvert_exporter": "python",
   "pygments_lexer": "ipython3",
   "version": "3.12.7"
  }
 },
 "nbformat": 4,
 "nbformat_minor": 2
}
