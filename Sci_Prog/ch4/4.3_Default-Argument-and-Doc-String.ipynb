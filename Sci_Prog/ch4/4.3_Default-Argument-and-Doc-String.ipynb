{
 "cells": [
  {
   "cell_type": "markdown",
   "metadata": {},
   "source": [
    "# 4.3 Default Arguments and Doc Strings"
   ]
  },
  {
   "cell_type": "markdown",
   "metadata": {},
   "source": [
    "## 4.3.1 Default Arguments in a Function"
   ]
  },
  {
   "cell_type": "code",
   "execution_count": 2,
   "metadata": {},
   "outputs": [
    {
     "name": "stdout",
     "output_type": "stream",
     "text": [
      "Hello Second\n",
      "Hello First\n"
     ]
    }
   ],
   "source": [
    "def mess(name = \"Second\"):\n",
    "    print(\"Hello\", name)\n",
    "\n",
    "mess()\n",
    "mess(\"First\")"
   ]
  },
  {
   "cell_type": "code",
   "execution_count": 8,
   "metadata": {},
   "outputs": [
    {
     "name": "stdout",
     "output_type": "stream",
     "text": [
      "Hello [1, 2] True 0\n",
      "Hello [1, 2] Hi 0\n",
      "Hello [1, 2] Hi 6.7\n",
      "Hello [1, 2] True Hi\n"
     ]
    }
   ],
   "source": [
    "def somefunc(arg1, arg2, kwarg1 = True, kwarg2 = 0):\n",
    "    print(arg1, arg2, kwarg1, kwarg2)\n",
    "\n",
    "somefunc(\"Hello\", [1,2])\n",
    "somefunc(\"Hello\", [1,2], \"Hi\")\n",
    "somefunc(\"Hello\", [1,2], \"Hi\", 6.7)\n",
    "somefunc(\"Hello\", [1,2], kwarg2 = \"Hi\")\n",
    "# somefunc(kwarg1 = 999, \"Hello\", [1,2], kwarg2 = \"Hi\")  # error: SyntaxError: positional argument follows keyword argument"
   ]
  },
  {
   "cell_type": "code",
   "execution_count": 13,
   "metadata": {},
   "outputs": [
    {
     "name": "stdout",
     "output_type": "stream",
     "text": [
      "(1.3, 5.5)\n"
     ]
    }
   ],
   "source": [
    "def yfunc(t, v0, g):\n",
    "    y = v0*t - 0.5*g*t**2\n",
    "    dydt = v0 - g*t\n",
    "    return y, dydt\n",
    "\n",
    "# print(yfunc(0.2)) # TypeError: yfunc() missing 2 required positional arguments: 'v0' and 'g'\n",
    "print(yfunc(0.2, 7.5, 10.0))"
   ]
  },
  {
   "cell_type": "code",
   "execution_count": 17,
   "metadata": {},
   "outputs": [
    {
     "name": "stdout",
     "output_type": "stream",
     "text": [
      "(0.2, 5, 9.81, 0.8038, 3.038)\n",
      "(0.2, 7.5, 9.81, 1.3037999999999998, 5.538)\n",
      "(0.2, 5, 5.6, 0.888, 3.88)\n",
      "(0.2, 7.5, 10.0, 1.3, 5.5)\n"
     ]
    }
   ],
   "source": [
    "def yfunc(t, v0=5, g=9.81):\n",
    "    y = v0*t - 0.5*g*t**2\n",
    "    dydt = v0 - g*t\n",
    "    return t, v0, g, y, dydt\n",
    "\n",
    "print(yfunc(0.2))\n",
    "print(yfunc(0.2, 7.5))\n",
    "print(yfunc(0.2, g=5.6))\n",
    "print(yfunc(0.2, 7.5, 10.0))"
   ]
  },
  {
   "cell_type": "code",
   "execution_count": null,
   "metadata": {},
   "outputs": [],
   "source": []
  }
 ],
 "metadata": {
  "kernelspec": {
   "display_name": "base",
   "language": "python",
   "name": "python3"
  },
  "language_info": {
   "codemirror_mode": {
    "name": "ipython",
    "version": 3
   },
   "file_extension": ".py",
   "mimetype": "text/x-python",
   "name": "python",
   "nbconvert_exporter": "python",
   "pygments_lexer": "ipython3",
   "version": "3.12.7"
  }
 },
 "nbformat": 4,
 "nbformat_minor": 2
}
