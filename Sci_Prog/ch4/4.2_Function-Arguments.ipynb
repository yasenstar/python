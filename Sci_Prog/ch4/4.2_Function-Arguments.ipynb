{
 "cells": [
  {
   "cell_type": "markdown",
   "metadata": {},
   "source": [
    "# 4.2 Function Argements and Local Variables"
   ]
  },
  {
   "cell_type": "markdown",
   "metadata": {},
   "source": [
    "## 4.2.1 Function Arguments - Positional vs Keyword"
   ]
  },
  {
   "cell_type": "code",
   "execution_count": 6,
   "metadata": {},
   "outputs": [
    {
     "name": "stdout",
     "output_type": "stream",
     "text": [
      "162.8894626777442\n",
      "11.94052296529\n",
      "11.94052296529\n"
     ]
    }
   ],
   "source": [
    "def amount(P, r, n):\n",
    "    return P*(1+r/100.0)**n\n",
    "\n",
    "print(amount(100, 5.0, 10))\n",
    "print(amount(10, r = 3.0, n = 6))\n",
    "# print(amount(r = 3.0, 10, n =6 )) will have SyntaxError: positional argument follows keyword argument\n",
    "print(amount(r = 3.0, P = 10, n = 6))\n",
    "# print(amount(100, 5.0, year = 6)) will have TypeError: amount() got an unexpected keyword argument 'year'"
   ]
  },
  {
   "cell_type": "markdown",
   "metadata": {},
   "source": [
    "## 4.2.2 Local vs. Global Variables"
   ]
  },
  {
   "cell_type": "code",
   "execution_count": 1,
   "metadata": {},
   "outputs": [
    {
     "name": "stdout",
     "output_type": "stream",
     "text": [
      "140.71004226562505\n"
     ]
    }
   ],
   "source": [
    "P = 100\n",
    "r = 5.0\n",
    "def amount(n):\n",
    "    return P*(1+r/100)**n\n",
    "print(amount(7))"
   ]
  },
  {
   "cell_type": "code",
   "execution_count": 5,
   "metadata": {},
   "outputs": [
    {
     "name": "stdout",
     "output_type": "stream",
     "text": [
      "50 4.0\n",
      "65.79658896179201\n",
      "100 5.0\n"
     ]
    }
   ],
   "source": [
    "P = 100\n",
    "r = 5.0\n",
    "def amount(n):\n",
    "    r = 4.0\n",
    "    P = 50\n",
    "    print(P, r)\n",
    "    return P*(1+r/100)**n\n",
    "print(amount(7))\n",
    "print(P, r)"
   ]
  },
  {
   "cell_type": "code",
   "execution_count": 7,
   "metadata": {},
   "outputs": [
    {
     "name": "stdout",
     "output_type": "stream",
     "text": [
      "50 4.0\n",
      "65.79658896179201\n",
      "100 4.0\n"
     ]
    }
   ],
   "source": [
    "P = 100\n",
    "r = 5.0\n",
    "def amount(n):\n",
    "    global r\n",
    "    r = 4.0\n",
    "    P = 50\n",
    "    print(P, r)\n",
    "    return P*(1+r/100)**n\n",
    "print(amount(7))\n",
    "print(P, r)"
   ]
  },
  {
   "cell_type": "code",
   "execution_count": 12,
   "metadata": {},
   "outputs": [
    {
     "name": "stdout",
     "output_type": "stream",
     "text": [
      "5.0\n",
      "4.0\n",
      "131.59317792358402 4.0\n",
      "3.0\n",
      "122.98738654248702 3.0\n"
     ]
    }
   ],
   "source": [
    "P = 100\n",
    "r = 5.0\n",
    "print(r)\n",
    "def amount(n, r):\n",
    "    r = r - 1.0\n",
    "    print(r)\n",
    "    a = P*(1+r/100)**n\n",
    "    return a, r\n",
    "a0, r = amount(7,r)\n",
    "print(a0, r)\n",
    "a0, r = amount(7,r)\n",
    "print(a0, r)"
   ]
  },
  {
   "cell_type": "markdown",
   "metadata": {},
   "source": [
    "## 4.2.3 Multiple return values are returned as a tuple"
   ]
  },
  {
   "cell_type": "code",
   "execution_count": 18,
   "metadata": {},
   "outputs": [
    {
     "name": "stdout",
     "output_type": "stream",
     "text": [
      "3.5658 -2.886\n"
     ]
    }
   ],
   "source": [
    "def yfunc(t, v0):\n",
    "    g = 9.81\n",
    "    y = v0*t + 0.5 * g * t**2\n",
    "    dydt = v0 - g * t\n",
    "    return y, dydt\n",
    "\n",
    "position, velocity = yfunc(0.6, 3)\n",
    "print(position, velocity)"
   ]
  },
  {
   "cell_type": "code",
   "execution_count": 20,
   "metadata": {},
   "outputs": [
    {
     "name": "stdout",
     "output_type": "stream",
     "text": [
      "(3.5658, -2.886)\n",
      "<class 'tuple'>\n",
      "-2.886\n"
     ]
    }
   ],
   "source": [
    "pos_vel = yfunc(0.6, 3)\n",
    "print(pos_vel)\n",
    "print(type(pos_vel))\n",
    "print(pos_vel[1])"
   ]
  },
  {
   "cell_type": "code",
   "execution_count": 22,
   "metadata": {},
   "outputs": [
    {
     "name": "stdout",
     "output_type": "stream",
     "text": [
      "(2, 4, 16) <class 'tuple'>\n",
      "2 4 16\n"
     ]
    }
   ],
   "source": [
    "def f(x):\n",
    "    return x, x**2, x**4\n",
    "\n",
    "s = f(2)\n",
    "print(s, type(s))\n",
    "x, x2, x4 = s\n",
    "print(x, x2, x4)"
   ]
  },
  {
   "cell_type": "code",
   "execution_count": 23,
   "metadata": {},
   "outputs": [
    {
     "name": "stdout",
     "output_type": "stream",
     "text": [
      "1 2 3\n"
     ]
    }
   ],
   "source": [
    "s = [1, 2, 3]\n",
    "a, b, c = s\n",
    "print(a,b,c)"
   ]
  },
  {
   "cell_type": "markdown",
   "metadata": {},
   "source": [
    "## 4.2.4 A function to compute a sum (Example)"
   ]
  },
  {
   "cell_type": "code",
   "execution_count": 6,
   "metadata": {},
   "outputs": [
    {
     "name": "stdout",
     "output_type": "stream",
     "text": [
      "0.6666666666666666 0.6930648561507935 0.6931471805599451 0.6931471805599453\n"
     ]
    }
   ],
   "source": [
    "def L(x,n):\n",
    "    s = 0\n",
    "    for i in range(1, n+1):\n",
    "        s = s + x**i/i\n",
    "    return s\n",
    "\n",
    "x = 0.5\n",
    "from math import log\n",
    "print(L(x, 3), L(x, 10), L(x,100000), -log(1-x))"
   ]
  },
  {
   "cell_type": "code",
   "execution_count": 8,
   "metadata": {},
   "outputs": [
    {
     "name": "stdout",
     "output_type": "stream",
     "text": [
      "1.6094379124263267 7.773781618425346e-12\n"
     ]
    }
   ],
   "source": [
    "from math import log\n",
    "def L2(x,n):\n",
    "    s = 0\n",
    "    for i in range(1, n+1):\n",
    "        s += x**i/i\n",
    "    value_of_sum = s\n",
    "    error = -log(1-x) - value_of_sum\n",
    "    return value_of_sum, error\n",
    "\n",
    "x = 0.8\n",
    "n = 100\n",
    "value, error = L2(x, n)\n",
    "print(value, error)"
   ]
  },
  {
   "cell_type": "markdown",
   "metadata": {},
   "source": [
    "## 4.2.5 Function doesn't need to return value"
   ]
  },
  {
   "cell_type": "code",
   "execution_count": null,
   "metadata": {},
   "outputs": [
    {
     "name": "stdout",
     "output_type": "stream",
     "text": [
      "3.4\n"
     ]
    }
   ],
   "source": [
    "def somefunc(obj):\n",
    "    print(obj)\n",
    "\n",
    "return_value = somefunc(3.4)"
   ]
  },
  {
   "cell_type": "code",
   "execution_count": 11,
   "metadata": {},
   "outputs": [
    {
     "name": "stdout",
     "output_type": "stream",
     "text": [
      "8.9\n"
     ]
    }
   ],
   "source": [
    "def somefunc(obj1, obj2):\n",
    "    print(obj1+obj2)\n",
    "\n",
    "return_value = somefunc(3.4, 5.5)"
   ]
  },
  {
   "cell_type": "code",
   "execution_count": 14,
   "metadata": {},
   "outputs": [
    {
     "name": "stdout",
     "output_type": "stream",
     "text": [
      "x=0.6, -ln(1-x)=0.916290731874155\n",
      "n =    1 approx: 0.600000, error: 0.316291\n",
      "n =    2 approx: 0.780000, error: 0.136291\n",
      "n =   10 approx: 0.915551, error: 0.000740\n",
      "n =  100 approx: 0.916291, error: -0.000000\n",
      "n = 1000 approx: 0.916291, error: -0.000000\n"
     ]
    }
   ],
   "source": [
    "def table(x):\n",
    "    print(f'x={x}, -ln(1-x)={-log(1-x)}')\n",
    "    for n in [1, 2, 10, 100, 1000]:\n",
    "        value, error = L2(x, n)\n",
    "        print(f'n = {n:4d} approx: {value:7.6f}, error: {error:7.6f}')\n",
    "\n",
    "table(0.6)"
   ]
  }
 ],
 "metadata": {
  "kernelspec": {
   "display_name": "base",
   "language": "python",
   "name": "python3"
  },
  "language_info": {
   "codemirror_mode": {
    "name": "ipython",
    "version": 3
   },
   "file_extension": ".py",
   "mimetype": "text/x-python",
   "name": "python",
   "nbconvert_exporter": "python",
   "pygments_lexer": "ipython3",
   "version": "3.12.7"
  }
 },
 "nbformat": 4,
 "nbformat_minor": 2
}
