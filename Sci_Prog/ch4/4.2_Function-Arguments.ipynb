{
 "cells": [
  {
   "cell_type": "markdown",
   "metadata": {},
   "source": [
    "# 4.2 Function Argements and Local Variables"
   ]
  },
  {
   "cell_type": "markdown",
   "metadata": {},
   "source": [
    "## 4.2.1 Function Arguments - Positional vs Keyword"
   ]
  },
  {
   "cell_type": "code",
   "execution_count": 6,
   "metadata": {},
   "outputs": [
    {
     "name": "stdout",
     "output_type": "stream",
     "text": [
      "162.8894626777442\n",
      "11.94052296529\n",
      "11.94052296529\n"
     ]
    }
   ],
   "source": [
    "def amount(P, r, n):\n",
    "    return P*(1+r/100.0)**n\n",
    "\n",
    "print(amount(100, 5.0, 10))\n",
    "print(amount(10, r = 3.0, n = 6))\n",
    "# print(amount(r = 3.0, 10, n =6 )) will have SyntaxError: positional argument follows keyword argument\n",
    "print(amount(r = 3.0, P = 10, n = 6))\n",
    "# print(amount(100, 5.0, year = 6)) will have TypeError: amount() got an unexpected keyword argument 'year'"
   ]
  },
  {
   "cell_type": "markdown",
   "metadata": {},
   "source": [
    "## 4.2.2 Local vs. Global Variables"
   ]
  },
  {
   "cell_type": "code",
   "execution_count": 1,
   "metadata": {},
   "outputs": [
    {
     "name": "stdout",
     "output_type": "stream",
     "text": [
      "140.71004226562505\n"
     ]
    }
   ],
   "source": [
    "P = 100\n",
    "r = 5.0\n",
    "def amount(n):\n",
    "    return P*(1+r/100)**n\n",
    "print(amount(7))"
   ]
  },
  {
   "cell_type": "code",
   "execution_count": 5,
   "metadata": {},
   "outputs": [
    {
     "name": "stdout",
     "output_type": "stream",
     "text": [
      "50 4.0\n",
      "65.79658896179201\n",
      "100 5.0\n"
     ]
    }
   ],
   "source": [
    "P = 100\n",
    "r = 5.0\n",
    "def amount(n):\n",
    "    r = 4.0\n",
    "    P = 50\n",
    "    print(P, r)\n",
    "    return P*(1+r/100)**n\n",
    "print(amount(7))\n",
    "print(P, r)"
   ]
  },
  {
   "cell_type": "code",
   "execution_count": 7,
   "metadata": {},
   "outputs": [
    {
     "name": "stdout",
     "output_type": "stream",
     "text": [
      "50 4.0\n",
      "65.79658896179201\n",
      "100 4.0\n"
     ]
    }
   ],
   "source": [
    "P = 100\n",
    "r = 5.0\n",
    "def amount(n):\n",
    "    global r\n",
    "    r = 4.0\n",
    "    P = 50\n",
    "    print(P, r)\n",
    "    return P*(1+r/100)**n\n",
    "print(amount(7))\n",
    "print(P, r)"
   ]
  },
  {
   "cell_type": "code",
   "execution_count": 12,
   "metadata": {},
   "outputs": [
    {
     "name": "stdout",
     "output_type": "stream",
     "text": [
      "5.0\n",
      "4.0\n",
      "131.59317792358402 4.0\n",
      "3.0\n",
      "122.98738654248702 3.0\n"
     ]
    }
   ],
   "source": [
    "P = 100\n",
    "r = 5.0\n",
    "print(r)\n",
    "def amount(n, r):\n",
    "    r = r - 1.0\n",
    "    print(r)\n",
    "    a = P*(1+r/100)**n\n",
    "    return a, r\n",
    "a0, r = amount(7,r)\n",
    "print(a0, r)\n",
    "a0, r = amount(7,r)\n",
    "print(a0, r)"
   ]
  },
  {
   "cell_type": "code",
   "execution_count": null,
   "metadata": {},
   "outputs": [],
   "source": []
  }
 ],
 "metadata": {
  "kernelspec": {
   "display_name": "base",
   "language": "python",
   "name": "python3"
  },
  "language_info": {
   "codemirror_mode": {
    "name": "ipython",
    "version": 3
   },
   "file_extension": ".py",
   "mimetype": "text/x-python",
   "name": "python",
   "nbconvert_exporter": "python",
   "pygments_lexer": "ipython3",
   "version": "3.12.7"
  }
 },
 "nbformat": 4,
 "nbformat_minor": 2
}
