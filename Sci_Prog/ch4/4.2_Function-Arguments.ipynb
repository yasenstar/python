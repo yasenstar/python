{
 "cells": [
  {
   "cell_type": "markdown",
   "metadata": {},
   "source": [
    "# 4.2 Function Argements and Local Variables"
   ]
  },
  {
   "cell_type": "markdown",
   "metadata": {},
   "source": [
    "## 4.2.1 Function Arguments - Positional vs Keyword"
   ]
  },
  {
   "cell_type": "code",
   "execution_count": 6,
   "metadata": {},
   "outputs": [
    {
     "name": "stdout",
     "output_type": "stream",
     "text": [
      "162.8894626777442\n",
      "11.94052296529\n",
      "11.94052296529\n"
     ]
    }
   ],
   "source": [
    "def amount(P, r, n):\n",
    "    return P*(1+r/100.0)**n\n",
    "\n",
    "print(amount(100, 5.0, 10))\n",
    "print(amount(10, r = 3.0, n = 6))\n",
    "# print(amount(r = 3.0, 10, n =6 )) will have SyntaxError: positional argument follows keyword argument\n",
    "print(amount(r = 3.0, P = 10, n = 6))\n",
    "# print(amount(100, 5.0, year = 6)) will have TypeError: amount() got an unexpected keyword argument 'year'"
   ]
  },
  {
   "cell_type": "code",
   "execution_count": null,
   "metadata": {},
   "outputs": [],
   "source": []
  }
 ],
 "metadata": {
  "kernelspec": {
   "display_name": "base",
   "language": "python",
   "name": "python3"
  },
  "language_info": {
   "codemirror_mode": {
    "name": "ipython",
    "version": 3
   },
   "file_extension": ".py",
   "mimetype": "text/x-python",
   "name": "python",
   "nbconvert_exporter": "python",
   "pygments_lexer": "ipython3",
   "version": "3.12.7"
  }
 },
 "nbformat": 4,
 "nbformat_minor": 2
}
