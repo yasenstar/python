{
 "cells": [
  {
   "cell_type": "markdown",
   "metadata": {},
   "source": [
    "# 4.1 Programming wiht Functions"
   ]
  },
  {
   "cell_type": "code",
   "execution_count": 1,
   "metadata": {},
   "outputs": [
    {
     "name": "stdout",
     "output_type": "stream",
     "text": [
      "-3.3604905728640486\n"
     ]
    }
   ],
   "source": [
    "from math import *\n",
    "x = 30\n",
    "y = sin(x)*log(x)\n",
    "print(y)"
   ]
  },
  {
   "cell_type": "code",
   "execution_count": 2,
   "metadata": {},
   "outputs": [
    {
     "name": "stdout",
     "output_type": "stream",
     "text": [
      "2\n",
      "4\n"
     ]
    }
   ],
   "source": [
    "somelist = [1,2,3,4,5]\n",
    "n = len(somelist)\n",
    "for i in range (1, n, 2):\n",
    "    print(somelist[i])"
   ]
  },
  {
   "cell_type": "code",
   "execution_count": 3,
   "metadata": {},
   "outputs": [
    {
     "name": "stdout",
     "output_type": "stream",
     "text": [
      "[5, 10, 40, 45, 60, 50]\n"
     ]
    }
   ],
   "source": [
    "C = [5, 10, 40, 45, 60]\n",
    "C.append(50)\n",
    "print(C)"
   ]
  },
  {
   "cell_type": "code",
   "execution_count": 6,
   "metadata": {},
   "outputs": [
    {
     "name": "stdout",
     "output_type": "stream",
     "text": [
      "107.72840038843745\n",
      "443.2045649525177\n"
     ]
    }
   ],
   "source": [
    "def amount(n):\n",
    "    P = 100\n",
    "    r = 1.5\n",
    "    return P*(1+r/100)**n\n",
    "\n",
    "print(amount(5))\n",
    "print(amount(100))"
   ]
  }
 ],
 "metadata": {
  "kernelspec": {
   "display_name": "base",
   "language": "python",
   "name": "python3"
  },
  "language_info": {
   "codemirror_mode": {
    "name": "ipython",
    "version": 3
   },
   "file_extension": ".py",
   "mimetype": "text/x-python",
   "name": "python",
   "nbconvert_exporter": "python",
   "pygments_lexer": "ipython3",
   "version": "3.12.7"
  }
 },
 "nbformat": 4,
 "nbformat_minor": 2
}
