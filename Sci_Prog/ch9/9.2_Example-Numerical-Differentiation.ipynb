{
 "cells": [
  {
   "cell_type": "markdown",
   "id": "0f6103fd",
   "metadata": {},
   "source": [
    "# 9.2 Example: Classes of Numerical Differentiation"
   ]
  },
  {
   "cell_type": "code",
   "execution_count": 1,
   "id": "2e76fb32",
   "metadata": {},
   "outputs": [],
   "source": [
    "class Derivative:\n",
    "    def __init__(self, f, h=1E-5):\n",
    "        self.f = f\n",
    "        self.h = float(h)\n",
    "    \n",
    "    def __call__(self, x):\n",
    "        f = self.f\n",
    "        h = self.h\n",
    "        return (f(x+h)-f(x))/h"
   ]
  },
  {
   "cell_type": "code",
   "execution_count": 4,
   "id": "06a8efb7",
   "metadata": {},
   "outputs": [],
   "source": [
    "from math import exp, sin, pi\n",
    "\n",
    "def f(x):\n",
    "    return exp(-x) * sin(4*pi*x)"
   ]
  },
  {
   "cell_type": "code",
   "execution_count": 5,
   "id": "59acb4e7",
   "metadata": {},
   "outputs": [
    {
     "name": "stdout",
     "output_type": "stream",
     "text": [
      "-3.239208844119101\n"
     ]
    }
   ],
   "source": [
    "dfdx = Derivative(f)\n",
    "print(dfdx(1.2))"
   ]
  },
  {
   "cell_type": "code",
   "execution_count": null,
   "id": "dafed7ea",
   "metadata": {},
   "outputs": [],
   "source": [
    "class Forward1:\n",
    "    def __init__(self, f, h=1E-5):\n",
    "        self.f = f\n",
    "        self.h = h\n",
    "    \n",
    "    def __call__(self, x):\n",
    "        f = self.f\n",
    "        h = self.h\n",
    "        return (f(x+h)-f(x))/h"
   ]
  },
  {
   "cell_type": "code",
   "execution_count": null,
   "id": "e5468463",
   "metadata": {},
   "outputs": [],
   "source": [
    "class Backward1:\n",
    "    def __init__(self, f, h=1E-5):\n",
    "        self.f = f\n",
    "        self.h = h\n",
    "    \n",
    "    def __call__(self, x):\n",
    "        f = self.f\n",
    "        h = self.h\n",
    "        return (f(x)-f(x-h))/h"
   ]
  },
  {
   "cell_type": "code",
   "execution_count": null,
   "id": "375d2abc",
   "metadata": {},
   "outputs": [],
   "source": [
    "class Central1:\n",
    "    def __init__(self, f, h=1E-5):\n",
    "        self.f = f\n",
    "        self.h = h\n",
    "    \n",
    "    def __call__(self, x):\n",
    "        f = self.f\n",
    "        h = self.h\n",
    "        return (f(x+h)-f(x-h))/(2*h)"
   ]
  },
  {
   "cell_type": "code",
   "execution_count": null,
   "id": "e10f4a55",
   "metadata": {},
   "outputs": [],
   "source": [
    "class Central2:\n",
    "    def __init__(self, f, h=1E-5):\n",
    "        self.f = f\n",
    "        self.h = h\n",
    "    \n",
    "    def __call__(self, x):\n",
    "        f = self.f\n",
    "        h = self.h\n",
    "        return (4./3)*(f(x+h)-f(x-h))/(2*h) - (1./3)*(f(x+2*h)-f(x-2*h))/(4*h)"
   ]
  },
  {
   "cell_type": "code",
   "execution_count": 26,
   "id": "8c0bab61",
   "metadata": {},
   "outputs": [],
   "source": [
    "class Diff:\n",
    "    def __init__(self, f, h=1E-5):\n",
    "        self.f = f\n",
    "        self.h = h"
   ]
  },
  {
   "cell_type": "code",
   "execution_count": 27,
   "id": "306e8b26",
   "metadata": {},
   "outputs": [],
   "source": [
    "class Forward2(Diff):\n",
    "    def __call__(self, x):\n",
    "        f = self.f\n",
    "        h = self.h\n",
    "        return (f(x)-f(x-h))/h"
   ]
  },
  {
   "cell_type": "code",
   "execution_count": 29,
   "id": "df46c50d",
   "metadata": {},
   "outputs": [],
   "source": [
    "class Backward2(Diff):\n",
    "    def __call__(self, x):\n",
    "        f = self.f\n",
    "        h = self.h\n",
    "        return (f(x)-f(x-h))/h"
   ]
  },
  {
   "cell_type": "code",
   "execution_count": 30,
   "id": "3ae112ba",
   "metadata": {},
   "outputs": [],
   "source": [
    "class Central3(Diff):\n",
    "    def __call__(self, x):\n",
    "        f = self.f\n",
    "        h = self.h\n",
    "        return (f(x+h)-f(x-h))/(2*h)"
   ]
  },
  {
   "cell_type": "code",
   "execution_count": 31,
   "id": "10964f3b",
   "metadata": {},
   "outputs": [],
   "source": [
    "class Central4(Diff):\n",
    "    def __call__(self, x):\n",
    "        f = self.f\n",
    "        h = self.h\n",
    "        return (4./3)*(f(x+h)-f(x-h))/(2*h) - (1./3)*(f(x+2*h)-f(x-2*h))/(4*h)"
   ]
  },
  {
   "cell_type": "code",
   "execution_count": 32,
   "id": "765a6f69",
   "metadata": {},
   "outputs": [
    {
     "name": "stdout",
     "output_type": "stream",
     "text": [
      "-1.0000000000065512\n"
     ]
    }
   ],
   "source": [
    "from math import sin, pi\n",
    "mycos = Central4(sin)\n",
    "print(mycos(pi))"
   ]
  },
  {
   "cell_type": "code",
   "execution_count": 33,
   "id": "ce278cfe",
   "metadata": {},
   "outputs": [
    {
     "name": "stdout",
     "output_type": "stream",
     "text": [
      "      h       Forward2      Backward2       Central3      Central4\n",
      "1.00000000   0.2129584152   0.2129584152    0.1120969417    0.0209220579\n",
      "0.50000000   0.1440277189   0.1440277189    0.0290966823    0.0014299292\n",
      "0.25000000   0.0805862376   0.0805862376    0.0073427121    0.0000913886\n",
      "0.12500000   0.0422966735   0.0422966735    0.0018399858    0.0000057438\n",
      "0.06250000   0.0216296287   0.0216296287    0.0004602661    0.0000003595\n"
     ]
    }
   ],
   "source": [
    "from math import pi, sin, cos\n",
    "import numpy as np\n",
    "\n",
    "h = [1.0/(2**i) for i in range(5)]\n",
    "ref = cos(pi/4)\n",
    "\n",
    "print(f'      h       Forward2      Backward2       Central3      Central4')\n",
    "for h_ in h:\n",
    "    f2 = Forward2(sin, h_)\n",
    "    b2 = Backward2(sin, h_)\n",
    "    c3 = Central3(sin, h_)\n",
    "    c4 = Central4(sin, h_)\n",
    "    e1 = abs(f2(pi/4)-ref)\n",
    "    e2 = abs(b2(pi/4)-ref)\n",
    "    e3 = abs(c3(pi/4)-ref)\n",
    "    e4 = abs(c4(pi/4)-ref)\n",
    "    print(f'{h_:1.8f}   {e1:1.10f}   {e2:1.10f}    {e3:1.10f}    {e4:1.10f}')\n"
   ]
  },
  {
   "cell_type": "code",
   "execution_count": null,
   "id": "24d514cb",
   "metadata": {},
   "outputs": [],
   "source": []
  }
 ],
 "metadata": {
  "kernelspec": {
   "display_name": "base",
   "language": "python",
   "name": "python3"
  },
  "language_info": {
   "codemirror_mode": {
    "name": "ipython",
    "version": 3
   },
   "file_extension": ".py",
   "mimetype": "text/x-python",
   "name": "python",
   "nbconvert_exporter": "python",
   "pygments_lexer": "ipython3",
   "version": "3.12.7"
  }
 },
 "nbformat": 4,
 "nbformat_minor": 5
}
