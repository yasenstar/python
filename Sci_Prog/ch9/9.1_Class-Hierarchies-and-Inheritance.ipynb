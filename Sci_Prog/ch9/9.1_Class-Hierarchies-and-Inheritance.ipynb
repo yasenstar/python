{
 "cells": [
  {
   "cell_type": "markdown",
   "id": "9583896b",
   "metadata": {},
   "source": [
    "# 9.1 Class Hierarchies and Inheritance"
   ]
  },
  {
   "cell_type": "code",
   "execution_count": 30,
   "id": "5c7f6ac1",
   "metadata": {},
   "outputs": [],
   "source": [
    "import numpy as np\n",
    "\n",
    "class Line:\n",
    "    def __init__(self, c0, c1):\n",
    "        self.c0 = c0\n",
    "        self.c1 = c1\n",
    "    \n",
    "    def __call__(self, x):\n",
    "        return self.c0 + self.c1 * x\n",
    "    \n",
    "    def table(self, L, R, n):\n",
    "        s = ''\n",
    "        for x in np.linspace(L, R, n):\n",
    "            y = self(x)\n",
    "            s += f'{x:12g} {y:12g}\\n'\n",
    "        return s"
   ]
  },
  {
   "cell_type": "code",
   "execution_count": 6,
   "id": "01c8e21f",
   "metadata": {},
   "outputs": [
    {
     "name": "stdout",
     "output_type": "stream",
     "text": [
      "17\n",
      "           1            5\n",
      "           2            8\n",
      "           3           11\n",
      "           4           14\n",
      "           5           17\n",
      "           6           20\n",
      "           7           23\n",
      "           8           26\n",
      "           9           29\n",
      "          10           32\n",
      "\n"
     ]
    }
   ],
   "source": [
    "l1 = Line(2, 3)\n",
    "print(l1(5))\n",
    "print(l1.table(1,10,10))"
   ]
  },
  {
   "cell_type": "code",
   "execution_count": 31,
   "id": "e72627da",
   "metadata": {},
   "outputs": [],
   "source": [
    "class Parabola:\n",
    "    def __init__(self, c0, c1, c2):\n",
    "        self.c0 = c0\n",
    "        self.c1 = c1\n",
    "        self.c2 = c2\n",
    "    \n",
    "    def __call__(self, x):\n",
    "        return self.c0 + self.c1 * x + self.c2 * x ** 2\n",
    "    \n",
    "    def table(self, L, R, n):\n",
    "        s = ''\n",
    "        for x in np.linspace(L, R, n):\n",
    "            y = self(x)\n",
    "            s += f'{x:12g} {y:12g}\\n'\n",
    "        return s"
   ]
  },
  {
   "cell_type": "code",
   "execution_count": 11,
   "id": "8eeac666",
   "metadata": {},
   "outputs": [
    {
     "name": "stdout",
     "output_type": "stream",
     "text": [
      "<__main__.Parabola object at 0x000001E4EB2E1220>\n",
      "           1           10\n",
      "           2           28\n",
      "           3           56\n",
      "           4           94\n",
      "           5          142\n",
      "           6          200\n",
      "           7          268\n",
      "           8          346\n",
      "           9          434\n",
      "          10          532\n",
      "\n"
     ]
    }
   ],
   "source": [
    "p1 = Parabola(2,3,5)\n",
    "print(p1)\n",
    "p1(5)\n",
    "print(p1.table(1,10,10))"
   ]
  },
  {
   "cell_type": "code",
   "execution_count": 20,
   "id": "efa8caab",
   "metadata": {},
   "outputs": [],
   "source": [
    "class Parabola_i1(Line):\n",
    "    def __init__(self, c0, c1, c2):\n",
    "        self.c0 = c0\n",
    "        self.c1 = c1\n",
    "        self.c2 = c2\n",
    "    \n",
    "    def __call__(self, x):\n",
    "        return self.c0 + self.c1 * x + self.c2 * x ** 2"
   ]
  },
  {
   "cell_type": "code",
   "execution_count": 21,
   "id": "35c53d36",
   "metadata": {},
   "outputs": [
    {
     "name": "stdout",
     "output_type": "stream",
     "text": [
      "           1           10\n",
      "           2           28\n",
      "           3           56\n",
      "           4           94\n",
      "           5          142\n",
      "           6          200\n",
      "           7          268\n",
      "           8          346\n",
      "           9          434\n",
      "          10          532\n",
      "\n"
     ]
    }
   ],
   "source": [
    "p2 = Parabola_i1(2,3,5)\n",
    "p2(5)\n",
    "print(p2.table(1,10,10))"
   ]
  },
  {
   "cell_type": "code",
   "execution_count": 39,
   "id": "8e132cd0",
   "metadata": {},
   "outputs": [],
   "source": [
    "class Parabola_i2(Line):\n",
    "    def __init__(self, c0, c1, c2):\n",
    "        super().__init__(c0, c1)\n",
    "        self.c2 = c2\n",
    "    \n",
    "    def __call__(self, x):\n",
    "        return super().__call__(x) + self.c2 * x ** 2"
   ]
  },
  {
   "cell_type": "code",
   "execution_count": 23,
   "id": "e225a736",
   "metadata": {},
   "outputs": [
    {
     "name": "stdout",
     "output_type": "stream",
     "text": [
      "           1           10\n",
      "           2           28\n",
      "           3           56\n",
      "           4           94\n",
      "           5          142\n",
      "           6          200\n",
      "           7          268\n",
      "           8          346\n",
      "           9          434\n",
      "          10          532\n",
      "\n"
     ]
    }
   ],
   "source": [
    "p3 = Parabola_i2(2,3,5)\n",
    "p3(5)\n",
    "print(p3.table(1,10,10))"
   ]
  },
  {
   "cell_type": "code",
   "execution_count": 36,
   "id": "1f3eeec0",
   "metadata": {},
   "outputs": [
    {
     "name": "stdout",
     "output_type": "stream",
     "text": [
      "True\n",
      "False\n",
      "<__main__.Line object at 0x000001E4EBB32270>\n"
     ]
    }
   ],
   "source": [
    "l = Line(-1, 1)\n",
    "print(isinstance(l, Line))\n",
    "print(isinstance(l, Parabola))\n",
    "print(l)"
   ]
  },
  {
   "cell_type": "code",
   "execution_count": 42,
   "id": "7af7e57d",
   "metadata": {},
   "outputs": [
    {
     "name": "stdout",
     "output_type": "stream",
     "text": [
      "True\n",
      "True\n"
     ]
    }
   ],
   "source": [
    "p = Parabola_i2(-1, 0, 10)\n",
    "print(isinstance(p, Line))\n",
    "print(isinstance(p, Parabola_i2))"
   ]
  },
  {
   "cell_type": "code",
   "execution_count": 43,
   "id": "dea2fe5d",
   "metadata": {},
   "outputs": [
    {
     "name": "stdout",
     "output_type": "stream",
     "text": [
      "<__main__.Parabola_i2 object at 0x000001E4EB8BCC80>\n"
     ]
    }
   ],
   "source": [
    "print(p)"
   ]
  },
  {
   "cell_type": "code",
   "execution_count": 44,
   "id": "ea2c1020",
   "metadata": {},
   "outputs": [
    {
     "name": "stdout",
     "output_type": "stream",
     "text": [
      "True\n"
     ]
    }
   ],
   "source": [
    "print(issubclass(Parabola_i2, Line))"
   ]
  },
  {
   "cell_type": "code",
   "execution_count": 45,
   "id": "e94651a5",
   "metadata": {},
   "outputs": [
    {
     "name": "stdout",
     "output_type": "stream",
     "text": [
      "False\n"
     ]
    }
   ],
   "source": [
    "print(issubclass(Line, Parabola_i2))"
   ]
  },
  {
   "cell_type": "code",
   "execution_count": 46,
   "id": "e11ab74c",
   "metadata": {},
   "outputs": [
    {
     "data": {
      "text/plain": [
       "True"
      ]
     },
     "execution_count": 46,
     "metadata": {},
     "output_type": "execute_result"
    }
   ],
   "source": [
    "p.__class__ == Parabola_i2"
   ]
  },
  {
   "cell_type": "code",
   "execution_count": 47,
   "id": "66d7b30d",
   "metadata": {},
   "outputs": [
    {
     "data": {
      "text/plain": [
       "'Parabola_i2'"
      ]
     },
     "execution_count": 47,
     "metadata": {},
     "output_type": "execute_result"
    }
   ],
   "source": [
    "p.__class__.__name__"
   ]
  },
  {
   "cell_type": "code",
   "execution_count": 48,
   "id": "4c96d7e9",
   "metadata": {},
   "outputs": [],
   "source": [
    "class Parabola:\n",
    "    def __init__(self, c0, c1, c2):\n",
    "        self.c0 = c0\n",
    "        self.c1 = c1\n",
    "        self.c2 = c2\n",
    "    \n",
    "    def __call__(self, x):\n",
    "        return self.c0 + self.c1 * x + self.c2 * x ** 2\n",
    "    \n",
    "    def table(self, L, R, n):\n",
    "        s = ''\n",
    "        for x in np.linspace(L, R, n):\n",
    "            y = self(x)\n",
    "            s += f'{x:12g} {y:12g}\\n'\n",
    "        return s"
   ]
  },
  {
   "cell_type": "code",
   "execution_count": 49,
   "id": "e60e29ca",
   "metadata": {},
   "outputs": [],
   "source": [
    "class Line(Parabola):\n",
    "    def __init__(self, c0, c1):\n",
    "        super().__init__(c0, c1, 0)"
   ]
  },
  {
   "cell_type": "code",
   "execution_count": null,
   "id": "ada92e76",
   "metadata": {},
   "outputs": [],
   "source": []
  }
 ],
 "metadata": {
  "kernelspec": {
   "display_name": "base",
   "language": "python",
   "name": "python3"
  },
  "language_info": {
   "codemirror_mode": {
    "name": "ipython",
    "version": 3
   },
   "file_extension": ".py",
   "mimetype": "text/x-python",
   "name": "python",
   "nbconvert_exporter": "python",
   "pygments_lexer": "ipython3",
   "version": "3.12.7"
  }
 },
 "nbformat": 4,
 "nbformat_minor": 5
}
