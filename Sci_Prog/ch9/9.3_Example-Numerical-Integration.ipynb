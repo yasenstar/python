{
 "cells": [
  {
   "cell_type": "markdown",
   "id": "9ce96db5",
   "metadata": {},
   "source": [
    "# 9.3 Example: Classes for Numerical Integration"
   ]
  },
  {
   "cell_type": "code",
   "execution_count": 12,
   "id": "ccf73953",
   "metadata": {},
   "outputs": [],
   "source": [
    "class Integrator:\n",
    "    def __init__(self, a, b, n):\n",
    "        self.a = a\n",
    "        self.b = b\n",
    "        self.n = n\n",
    "        self.points, self.weights = self.construct_method()\n",
    "\n",
    "    def construct_method(self):\n",
    "        raise NotImplementedError('no rule in class %s' % self.__class__.__name__)\n",
    "\n",
    "    def integrate(self, f):\n",
    "        s = 0\n",
    "        for i in range(len(self.weights)):\n",
    "            s += self.weights[i] * f(self.points[i])\n",
    "        return s\n",
    "\n",
    "    def vectorized_integrate(self, f):\n",
    "        return dot(self.weights, f(self.points))"
   ]
  },
  {
   "cell_type": "code",
   "execution_count": 18,
   "id": "e96c3df3",
   "metadata": {},
   "outputs": [],
   "source": [
    "def f(x):\n",
    "    return x*x"
   ]
  },
  {
   "cell_type": "code",
   "execution_count": 15,
   "id": "1c435a63",
   "metadata": {},
   "outputs": [],
   "source": [
    "import numpy as np\n",
    "class Trapezoidal(Integrator):\n",
    "    def construct_method(self):\n",
    "        h = (self.b - self.a)/float(self.n - 1)\n",
    "        x = np.linspace(self.a, self.b, self.n)\n",
    "        w = np.zeros(len(x))\n",
    "        w[1:-1] += h\n",
    "        w[0] = h/2\n",
    "        w[-1] = h/2\n",
    "        return x, w"
   ]
  },
  {
   "cell_type": "code",
   "execution_count": 19,
   "id": "a5941df5",
   "metadata": {},
   "outputs": [
    {
     "name": "stdout",
     "output_type": "stream",
     "text": [
      "2.666800000000001\n"
     ]
    }
   ],
   "source": [
    "trapez = Trapezoidal(0, 2, 101)\n",
    "print(trapez.integrate(f))"
   ]
  },
  {
   "cell_type": "code",
   "execution_count": 21,
   "id": "6aea14ae",
   "metadata": {},
   "outputs": [],
   "source": [
    "import numpy as np\n",
    "class Midpoint(Integrator):\n",
    "    def construct_method(self):\n",
    "        h = (self.b - self.a)/float(self.n)\n",
    "        x = np.linspace(self.a + 0.5*h, self.b - 0.5*h, self.n)\n",
    "        w = np.zeros(len(x)) + h\n",
    "        return x, w\n"
   ]
  },
  {
   "cell_type": "code",
   "execution_count": 23,
   "id": "b054d6fa",
   "metadata": {},
   "outputs": [
    {
     "name": "stdout",
     "output_type": "stream",
     "text": [
      "2.6666013135967073\n"
     ]
    }
   ],
   "source": [
    "midp = Midpoint(0, 2, 101)\n",
    "print(midp.integrate(f))"
   ]
  },
  {
   "cell_type": "code",
   "execution_count": 31,
   "id": "88fc9bbf",
   "metadata": {},
   "outputs": [],
   "source": [
    "import numpy as np\n",
    "class Simpson(Integrator):\n",
    "    def construct_method(self):\n",
    "        if self.n % 2 != 1:\n",
    "            print('n=%d must be odd, 1 is added' % self.n)\n",
    "            self.n += 1\n",
    "        x = np.linspace(self.a, self.b, self.n)\n",
    "        h = (self.b - self.a)/float(self.n - 1)*2\n",
    "        w = np.zeros(len(x))\n",
    "        w[0:self.n:2] = h * 1.0 / 3\n",
    "        w[1:self.n-1:2] = h * 2.0 / 3\n",
    "        w[0] /= 2\n",
    "        w[-1] /= 2\n",
    "        return x, w"
   ]
  },
  {
   "cell_type": "code",
   "execution_count": 32,
   "id": "51ce97cd",
   "metadata": {},
   "outputs": [
    {
     "name": "stdout",
     "output_type": "stream",
     "text": [
      "2.6666666666666674\n"
     ]
    }
   ],
   "source": [
    "simp = Simpson(0, 2, 101)\n",
    "print(simp.integrate(f))"
   ]
  },
  {
   "cell_type": "code",
   "execution_count": null,
   "id": "a8b64e9b",
   "metadata": {},
   "outputs": [],
   "source": []
  }
 ],
 "metadata": {
  "kernelspec": {
   "display_name": "base",
   "language": "python",
   "name": "python3"
  },
  "language_info": {
   "codemirror_mode": {
    "name": "ipython",
    "version": 3
   },
   "file_extension": ".py",
   "mimetype": "text/x-python",
   "name": "python",
   "nbconvert_exporter": "python",
   "pygments_lexer": "ipython3",
   "version": "3.12.7"
  }
 },
 "nbformat": 4,
 "nbformat_minor": 5
}
