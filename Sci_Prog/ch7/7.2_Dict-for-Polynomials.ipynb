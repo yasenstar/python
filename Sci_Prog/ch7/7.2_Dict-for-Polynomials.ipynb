{
 "cells": [
  {
   "cell_type": "markdown",
   "id": "5780430f",
   "metadata": {},
   "source": [
    "# 7.2 Example: A Dictionary for Polynomials"
   ]
  },
  {
   "cell_type": "code",
   "execution_count": 11,
   "id": "b478916d",
   "metadata": {},
   "outputs": [
    {
     "name": "stdout",
     "output_type": "stream",
     "text": [
      "3.0\n",
      "387.0\n"
     ]
    }
   ],
   "source": [
    "def eval_poly_dict(poly, x):\n",
    "    sum = 0.0\n",
    "    for power in poly:\n",
    "        sum = sum + poly[power]*(x**power)\n",
    "    return sum\n",
    "\n",
    "p = {0: -1, 2: 1, 7: 3}\n",
    "\n",
    "print(eval_poly_dict(p, 1))\n",
    "print(eval_poly_dict(p, 2))"
   ]
  },
  {
   "cell_type": "code",
   "execution_count": 8,
   "id": "a68c7911",
   "metadata": {},
   "outputs": [
    {
     "name": "stdout",
     "output_type": "stream",
     "text": [
      "387\n"
     ]
    }
   ],
   "source": [
    "def eval_poly_dict2(poly, x):\n",
    "    return sum(poly[power]*x**power for power in poly)\n",
    "\n",
    "print(eval_poly_dict2(p, 2))"
   ]
  },
  {
   "cell_type": "code",
   "execution_count": 10,
   "id": "e41f569b",
   "metadata": {},
   "outputs": [
    {
     "name": "stdout",
     "output_type": "stream",
     "text": [
      "387.0\n"
     ]
    }
   ],
   "source": [
    "p = [-1, 0, 1, 0, 0, 0, 0, 3]\n",
    "\n",
    "def eval_poly_list(poly, x):\n",
    "    sum = 0.0\n",
    "    for power in range(len(poly)):\n",
    "        sum += poly[power]*x**power\n",
    "    return sum\n",
    "\n",
    "print(eval_poly_list(p, 2))"
   ]
  },
  {
   "cell_type": "code",
   "execution_count": 12,
   "id": "7fd250c5",
   "metadata": {},
   "outputs": [
    {
     "name": "stdout",
     "output_type": "stream",
     "text": [
      "<enumerate object at 0x000001FB9B786390>\n"
     ]
    }
   ],
   "source": [
    "print(enumerate(p))"
   ]
  },
  {
   "cell_type": "code",
   "execution_count": 15,
   "id": "1a9c407a",
   "metadata": {},
   "outputs": [
    {
     "name": "stdout",
     "output_type": "stream",
     "text": [
      "Power: 0, Coeff: -1\n",
      "Power: 1, Coeff: 0\n",
      "Power: 2, Coeff: 1\n",
      "Power: 3, Coeff: 0\n",
      "Power: 4, Coeff: 0\n",
      "Power: 5, Coeff: 0\n",
      "Power: 6, Coeff: 0\n",
      "Power: 7, Coeff: 3\n",
      "387\n"
     ]
    }
   ],
   "source": [
    "def eval_poly_list_enum(poly, x):\n",
    "    sum = 0\n",
    "    for power, coeff in enumerate(poly):\n",
    "        print(f\"Power: {power}, Coeff: {coeff}\")\n",
    "        sum += coeff*x**power\n",
    "    return sum\n",
    "\n",
    "p = [-1, 0, 1, 0, 0, 0, 0, 3]\n",
    "\n",
    "print(eval_poly_list_enum(p, 2))"
   ]
  },
  {
   "cell_type": "code",
   "execution_count": null,
   "id": "d4280f12",
   "metadata": {},
   "outputs": [],
   "source": []
  }
 ],
 "metadata": {
  "kernelspec": {
   "display_name": "base",
   "language": "python",
   "name": "python3"
  },
  "language_info": {
   "codemirror_mode": {
    "name": "ipython",
    "version": 3
   },
   "file_extension": ".py",
   "mimetype": "text/x-python",
   "name": "python",
   "nbconvert_exporter": "python",
   "pygments_lexer": "ipython3",
   "version": "3.12.7"
  }
 },
 "nbformat": 4,
 "nbformat_minor": 5
}
