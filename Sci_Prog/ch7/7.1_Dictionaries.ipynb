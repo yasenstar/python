{
 "cells": [
  {
   "cell_type": "markdown",
   "id": "3c15bf09",
   "metadata": {},
   "source": [
    "# 7.1 Dictionaries"
   ]
  },
  {
   "cell_type": "markdown",
   "id": "38a60da4",
   "metadata": {},
   "source": [
    "## 7.1.1 Basic Concepts"
   ]
  },
  {
   "cell_type": "code",
   "execution_count": 1,
   "id": "a4813404",
   "metadata": {},
   "outputs": [
    {
     "name": "stdout",
     "output_type": "stream",
     "text": [
      "Oslo\n"
     ]
    }
   ],
   "source": [
    "def f(x):\n",
    "    if x == 'Norway':\n",
    "        return 'Oslo'\n",
    "    elif x == 'Sweden':\n",
    "        return 'Stockholm'\n",
    "    elif x == 'France':\n",
    "        return 'Paris'\n",
    "\n",
    "print(f('Norway'))"
   ]
  },
  {
   "cell_type": "code",
   "execution_count": 6,
   "id": "74e525c8",
   "metadata": {},
   "outputs": [
    {
     "name": "stdout",
     "output_type": "stream",
     "text": [
      "Oslo\n",
      "Berlin\n",
      "{'Norway': 'Oslo', 'Sweden': 'Stockholm', 'France': 'Paris', 'Germany': 'Berlin'}\n"
     ]
    }
   ],
   "source": [
    "d = {\n",
    "    'Norway': 'Oslo',\n",
    "    'Sweden': 'Stockholm',\n",
    "    'France': 'Paris'\n",
    "}\n",
    "\n",
    "d['Germany'] = 'Berlin'\n",
    "\n",
    "print(d['Norway'])\n",
    "print(d['Germany'])\n",
    "print(d)"
   ]
  },
  {
   "cell_type": "code",
   "execution_count": null,
   "id": "967c759f",
   "metadata": {},
   "outputs": [
    {
     "name": "stdout",
     "output_type": "stream",
     "text": [
      "{'key1': 'value1', 'key2': 'value2'}\n",
      "{'Olso': 13, 'London': 15.4, 'Paris': 17.5}\n",
      "{'key1': 'value1', 'key2': 'value2'}\n",
      "{'Oslo': 13, 'London': 15.4, 'Paris': 17.5}\n"
     ]
    }
   ],
   "source": [
    "mydict = {\n",
    "    'key1': 'value1',\n",
    "    'key2': 'value2'\n",
    "}\n",
    "\n",
    "temps = {\n",
    "    'Oslo': 13,\n",
    "    'London': 15.4,\n",
    "    'Paris': 17.5\n",
    "}\n",
    "\n",
    "print(mydict)\n",
    "print(temps)\n",
    "\n",
    "mydict2 = dict(key1 = \"value1\", key2 = \"value2\")\n",
    "temps2 = dict(Oslo = 13, London = 15.4, Paris = 17.5)\n",
    "\n",
    "print(mydict2)\n",
    "print(temps2)"
   ]
  },
  {
   "cell_type": "code",
   "execution_count": null,
   "id": "688156d4",
   "metadata": {},
   "outputs": [
    {
     "name": "stdout",
     "output_type": "stream",
     "text": [
      "{'Olso': 13, 'London': 15.4, 'Paris': 17.5, 'Madrid': 26}\n"
     ]
    }
   ],
   "source": [
    "temps['Madrid'] = 26\n",
    "print(temps)"
   ]
  },
  {
   "cell_type": "code",
   "execution_count": 18,
   "id": "54e450f1",
   "metadata": {},
   "outputs": [
    {
     "name": "stdout",
     "output_type": "stream",
     "text": [
      "The Olso temperature is 13\n",
      "The London temperature is 15.4\n",
      "The Paris temperature is 17.5\n",
      "The Madrid temperature is 26\n"
     ]
    }
   ],
   "source": [
    "for city in temps:\n",
    "    value = temps[city]\n",
    "    print(f\"The {city} temperature is {value}\")"
   ]
  },
  {
   "cell_type": "code",
   "execution_count": 19,
   "id": "74127345",
   "metadata": {},
   "outputs": [
    {
     "name": "stdout",
     "output_type": "stream",
     "text": [
      "The London temperature is 15.4\n",
      "The Madrid temperature is 26\n",
      "The Olso temperature is 13\n",
      "The Paris temperature is 17.5\n"
     ]
    }
   ],
   "source": [
    "for city in sorted(temps):\n",
    "    value = temps[city]\n",
    "    print(f\"The {city} temperature is {value}\")"
   ]
  },
  {
   "cell_type": "markdown",
   "id": "4f1926b5",
   "metadata": {},
   "source": [
    "## 7.1.2 Dictionaries vs. Lists"
   ]
  },
  {
   "cell_type": "code",
   "execution_count": 26,
   "id": "07905d58",
   "metadata": {},
   "outputs": [
    {
     "name": "stdout",
     "output_type": "stream",
     "text": [
      "{'Oslo': 13, 'London': 15.4, 'Paris': 17.5}\n"
     ]
    }
   ],
   "source": [
    "temps = {\n",
    "    'Oslo': 13,\n",
    "    'London': 15.4,\n",
    "    'Paris': 17.5\n",
    "}\n",
    "print(temps)"
   ]
  },
  {
   "cell_type": "code",
   "execution_count": 30,
   "id": "86752e1e",
   "metadata": {},
   "outputs": [
    {
     "name": "stdout",
     "output_type": "stream",
     "text": [
      "No temperature data for Berlin\n",
      "False\n",
      "True\n"
     ]
    }
   ],
   "source": [
    "if 'Berlin' in temps:\n",
    "    print('Berlin', temps['Berlin'])\n",
    "else:\n",
    "    print('No temperature data for Berlin')\n",
    "\n",
    "print('Berlin' in temps)\n",
    "print('Oslo' in temps)"
   ]
  },
  {
   "cell_type": "code",
   "execution_count": 37,
   "id": "6a4aca08",
   "metadata": {},
   "outputs": [
    {
     "name": "stdout",
     "output_type": "stream",
     "text": [
      "4\n",
      "{'London': 15.4, 'Paris': 17.5, 'Madrid': 26.0}\n",
      "3\n"
     ]
    }
   ],
   "source": [
    "temps = {\n",
    "    'Oslo': 13,\n",
    "    'London': 15.4,\n",
    "    'Paris': 17.5,\n",
    "    'Madrid': 26.0\n",
    "}\n",
    "print(len(temps))\n",
    "del temps['Oslo']\n",
    "print(temps)\n",
    "print(len(temps))"
   ]
  },
  {
   "cell_type": "code",
   "execution_count": 38,
   "id": "7b8cbd48",
   "metadata": {},
   "outputs": [
    {
     "name": "stdout",
     "output_type": "stream",
     "text": [
      "Oslo\n",
      "London\n",
      "Paris\n",
      "Madrid\n",
      "13\n",
      "15.4\n",
      "17.5\n",
      "26.0\n"
     ]
    }
   ],
   "source": [
    "temps = {\n",
    "    'Oslo': 13,\n",
    "    'London': 15.4,\n",
    "    'Paris': 17.5,\n",
    "    'Madrid': 26.0\n",
    "}\n",
    "for key in temps.keys():\n",
    "    print(key)\n",
    "for value in temps.values():\n",
    "    print(value)"
   ]
  },
  {
   "cell_type": "code",
   "execution_count": 41,
   "id": "d72bab8f",
   "metadata": {},
   "outputs": [
    {
     "name": "stdout",
     "output_type": "stream",
     "text": [
      "{'Oslo': 13, 'London': 15.4, 'Paris': 17.5, 'Madrid': 26.0}\n",
      "{'Oslo': 13, 'London': 15.4, 'Paris': 17.5, 'Madrid': 26.0, 'Beijing': 22.5}\n",
      "{'Oslo': 13, 'London': 15.4, 'Paris': 17.5, 'Madrid': 26.0, 'Beijing': 22.5}\n"
     ]
    }
   ],
   "source": [
    "temps = {\n",
    "    'Oslo': 13,\n",
    "    'London': 15.4,\n",
    "    'Paris': 17.5,\n",
    "    'Madrid': 26.0\n",
    "}\n",
    "t1 = temps\n",
    "print(t1)\n",
    "t1['Beijing'] = 22.5\n",
    "print(t1)\n",
    "print(temps)"
   ]
  },
  {
   "cell_type": "code",
   "execution_count": 43,
   "id": "15f54f3c",
   "metadata": {},
   "outputs": [
    {
     "name": "stdout",
     "output_type": "stream",
     "text": [
      "{'Oslo': 13, 'London': 15.4, 'Paris': 17.5, 'Madrid': 26.0}\n",
      "{'Oslo': 13, 'London': 15.4, 'Paris': 17.5, 'Madrid': 26.0, 'New York': 16.0}\n",
      "{'Oslo': 13, 'London': 15.4, 'Paris': 17.5, 'Madrid': 26.0}\n"
     ]
    }
   ],
   "source": [
    "temps = {\n",
    "    'Oslo': 13,\n",
    "    'London': 15.4,\n",
    "    'Paris': 17.5,\n",
    "    'Madrid': 26.0\n",
    "}\n",
    "t2 = temps.copy()\n",
    "print(t2)\n",
    "t2['New York'] = 16.0\n",
    "print(t2)\n",
    "print(temps)"
   ]
  },
  {
   "cell_type": "code",
   "execution_count": null,
   "id": "736f0578",
   "metadata": {},
   "outputs": [],
   "source": []
  }
 ],
 "metadata": {
  "kernelspec": {
   "display_name": "base",
   "language": "python",
   "name": "python3"
  },
  "language_info": {
   "codemirror_mode": {
    "name": "ipython",
    "version": 3
   },
   "file_extension": ".py",
   "mimetype": "text/x-python",
   "name": "python",
   "nbconvert_exporter": "python",
   "pygments_lexer": "ipython3",
   "version": "3.12.7"
  }
 },
 "nbformat": 4,
 "nbformat_minor": 5
}
