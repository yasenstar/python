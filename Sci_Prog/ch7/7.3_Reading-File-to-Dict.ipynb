{
 "cells": [
  {
   "cell_type": "markdown",
   "id": "25eea165",
   "metadata": {},
   "source": [
    "# 7.3 Example: Reading File Data to a Dictionary"
   ]
  },
  {
   "cell_type": "code",
   "execution_count": 1,
   "id": "1ac7c501",
   "metadata": {},
   "outputs": [
    {
     "name": "stdout",
     "output_type": "stream",
     "text": [
      "Oslo:       21.8\n",
      "\n",
      "London:     18.1\n",
      "\n",
      "Berlin:     19\n",
      "\n",
      "Paris:      23\n",
      "\n",
      "Rome:       26\n",
      "\n",
      "Helsinki:   17.8\n"
     ]
    }
   ],
   "source": [
    "with open('deg2.txt', 'r') as infile:\n",
    "    temps = {}\n",
    "    for line in infile:\n",
    "        print(line)"
   ]
  },
  {
   "cell_type": "code",
   "execution_count": 2,
   "id": "bb77d819",
   "metadata": {},
   "outputs": [
    {
     "name": "stdout",
     "output_type": "stream",
     "text": [
      "Oslo: 21.8\n",
      "London: 18.1\n",
      "Berlin: 19\n",
      "Paris: 23\n",
      "Rome: 26\n",
      "Helsinki: 17.8\n"
     ]
    }
   ],
   "source": [
    "with open('deg2.txt', 'r') as infile:\n",
    "    temps = {}\n",
    "    for line in infile:\n",
    "        city, temp = line.split()\n",
    "        print(city, temp)"
   ]
  },
  {
   "cell_type": "code",
   "execution_count": 3,
   "id": "d64673af",
   "metadata": {},
   "outputs": [
    {
     "name": "stdout",
     "output_type": "stream",
     "text": [
      "Oslo 21.8\n",
      "London 18.1\n",
      "Berlin 19\n",
      "Paris 23\n",
      "Rome 26\n",
      "Helsinki 17.8\n"
     ]
    }
   ],
   "source": [
    "with open('deg2.txt', 'r') as infile:\n",
    "    temps = {}\n",
    "    for line in infile:\n",
    "        city, temp = line.split()\n",
    "        city = city[:-1]\n",
    "        print(city, temp)"
   ]
  },
  {
   "cell_type": "code",
   "execution_count": 4,
   "id": "e9661e0d",
   "metadata": {},
   "outputs": [
    {
     "name": "stdout",
     "output_type": "stream",
     "text": [
      "Oslo 21.8\n",
      "London 18.1\n",
      "Berlin 19.0\n",
      "Paris 23.0\n",
      "Rome 26.0\n",
      "Helsinki 17.8\n"
     ]
    }
   ],
   "source": [
    "with open('deg2.txt', 'r') as infile:\n",
    "    temps = {}\n",
    "    for line in infile:\n",
    "        city, temp = line.split()\n",
    "        city = city[:-1]\n",
    "        temps[city] = float(temp)\n",
    "        print(city, temps[city])"
   ]
  },
  {
   "cell_type": "code",
   "execution_count": 5,
   "id": "e7a6b950",
   "metadata": {},
   "outputs": [
    {
     "name": "stdout",
     "output_type": "stream",
     "text": [
      "Oslo 21.8\n",
      "London 18.1\n",
      "Berlin 19.0\n",
      "Paris 23.0\n",
      "Rome 26.0\n",
      "Helsinki 17.8\n",
      "{'Oslo': 21.8, 'London': 18.1, 'Berlin': 19.0, 'Paris': 23.0, 'Rome': 26.0, 'Helsinki': 17.8}\n",
      "<class 'dict'>\n"
     ]
    }
   ],
   "source": [
    "with open('deg2.txt', 'r') as infile:\n",
    "    temps = {}\n",
    "    for line in infile:\n",
    "        city, temp = line.split()\n",
    "        city = city[:-1]\n",
    "        temps[city] = float(temp)\n",
    "        print(city, temps[city])\n",
    "print(temps)\n",
    "print(type(temps))"
   ]
  },
  {
   "cell_type": "code",
   "execution_count": null,
   "id": "9eb62567",
   "metadata": {},
   "outputs": [],
   "source": []
  }
 ],
 "metadata": {
  "kernelspec": {
   "display_name": "base",
   "language": "python",
   "name": "python3"
  },
  "language_info": {
   "codemirror_mode": {
    "name": "ipython",
    "version": 3
   },
   "file_extension": ".py",
   "mimetype": "text/x-python",
   "name": "python",
   "nbconvert_exporter": "python",
   "pygments_lexer": "ipython3",
   "version": "3.12.7"
  }
 },
 "nbformat": 4,
 "nbformat_minor": 5
}
