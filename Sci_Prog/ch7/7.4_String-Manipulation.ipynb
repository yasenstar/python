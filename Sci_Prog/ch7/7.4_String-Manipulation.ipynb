{
 "cells": [
  {
   "cell_type": "markdown",
   "id": "723489d1",
   "metadata": {},
   "source": [
    "# 7.4 String Manipulation"
   ]
  },
  {
   "cell_type": "markdown",
   "id": "d4eb3158",
   "metadata": {},
   "source": [
    "## 7.4.1 String Slicing, String Find, String Replace"
   ]
  },
  {
   "cell_type": "code",
   "execution_count": 3,
   "id": "7d1146e1",
   "metadata": {},
   "outputs": [
    {
     "name": "stdout",
     "output_type": "stream",
     "text": [
      "This is a string This is also a string\n",
      "<class 'str'> <class 'str'>\n"
     ]
    }
   ],
   "source": [
    "s1 = \"This is a string\"\n",
    "s2 = 'This is also a string'\n",
    "print(s1, s2)\n",
    "print(type(s1), type(s2))"
   ]
  },
  {
   "cell_type": "code",
   "execution_count": 4,
   "id": "4863be3c",
   "metadata": {},
   "outputs": [
    {
     "data": {
      "text/plain": [
       "['This', 'is', 'a', 'string']"
      ]
     },
     "execution_count": 4,
     "metadata": {},
     "output_type": "execute_result"
    }
   ],
   "source": [
    "s1.split()"
   ]
  },
  {
   "cell_type": "code",
   "execution_count": 5,
   "id": "f3f02650",
   "metadata": {},
   "outputs": [
    {
     "data": {
      "text/plain": [
       "['A', 'B', 'C', 'D']"
      ]
     },
     "execution_count": 5,
     "metadata": {},
     "output_type": "execute_result"
    }
   ],
   "source": [
    "s3 = \"A;B;C;D\"\n",
    "s3.split(\";\")"
   ]
  },
  {
   "cell_type": "code",
   "execution_count": 6,
   "id": "79654e92",
   "metadata": {},
   "outputs": [
    {
     "data": {
      "text/plain": [
       "['Hello', 'World']"
      ]
     },
     "execution_count": 6,
     "metadata": {},
     "output_type": "execute_result"
    }
   ],
   "source": [
    "\"Hello World\".split()"
   ]
  },
  {
   "cell_type": "code",
   "execution_count": 10,
   "id": "1b199b3b",
   "metadata": {},
   "outputs": [
    {
     "name": "stdout",
     "output_type": "stream",
     "text": [
      "B\n",
      "e\n",
      "m\n",
      " \n"
     ]
    }
   ],
   "source": [
    "s4 = \"Berlin: 18.4 C at 4 pm\"\n",
    "print(s4[0])\n",
    "print(s4[1])\n",
    "print(s4[-1])\n",
    "print(s4[7])"
   ]
  },
  {
   "cell_type": "code",
   "execution_count": 16,
   "id": "5c517134",
   "metadata": {},
   "outputs": [
    {
     "name": "stdout",
     "output_type": "stream",
     "text": [
      "18.4 C at 4 pm\n",
      "Berlin\n",
      "18.4 C\n",
      "18.4 C at 4\n"
     ]
    }
   ],
   "source": [
    "s5 = \"Berlin: 18.4 C at 4 pm\"\n",
    "print(s5[8:])\n",
    "print(s5[:6])\n",
    "print(s5[8:14])\n",
    "print(s5[8:-3])"
   ]
  },
  {
   "cell_type": "code",
   "execution_count": null,
   "id": "36bb745e",
   "metadata": {},
   "outputs": [
    {
     "name": "stdout",
     "output_type": "stream",
     "text": [
      "B~e~r~l~i~n~:~ ~1~8~.~4~ ~C~ ~a~t~ ~4~ ~p~m~"
     ]
    }
   ],
   "source": [
    "s6 = \"Berlin: 18.4 C at 4 pm\"\n",
    "for s_ in s6:\n",
    "    print(s_, end='~')"
   ]
  },
  {
   "cell_type": "code",
   "execution_count": 23,
   "id": "5d09c1bd",
   "metadata": {},
   "outputs": [
    {
     "name": "stdout",
     "output_type": "stream",
     "text": [
      "0\n",
      "20\n",
      "-1\n",
      "True\n"
     ]
    }
   ],
   "source": [
    "print(s6.find('Berlin'))\n",
    "print(s6.find(\"pm\"))\n",
    "print(s6.find(\"Oslo\"))\n",
    "print(\"Berlin\" in s6)"
   ]
  },
  {
   "cell_type": "code",
   "execution_count": 26,
   "id": "5c470233",
   "metadata": {},
   "outputs": [
    {
     "name": "stdout",
     "output_type": "stream",
     "text": [
      "C found\n"
     ]
    }
   ],
   "source": [
    "if 'C' in s6:\n",
    "    print('C found')\n",
    "else:\n",
    "    print('no C')"
   ]
  },
  {
   "cell_type": "code",
   "execution_count": 29,
   "id": "3c64f9ec",
   "metadata": {},
   "outputs": [
    {
     "name": "stdout",
     "output_type": "stream",
     "text": [
      "Berlin: 18.4 C at 4 pm\n",
      "Berlin:__18.4__C__at__4__pm\n"
     ]
    }
   ],
   "source": [
    "s7 = \"Berlin: 18.4 C at 4 pm\"\n",
    "s7.replace(' ', '__')\n",
    "print(s7)\n",
    "s7 = s7.replace(' ', '__')\n",
    "print(s7)"
   ]
  },
  {
   "cell_type": "markdown",
   "id": "99e2f1b0",
   "metadata": {},
   "source": [
    "## 7.4.2 String Splitting and Joining; Immutable Objects"
   ]
  },
  {
   "cell_type": "code",
   "execution_count": 33,
   "id": "8cd31822",
   "metadata": {},
   "outputs": [
    {
     "name": "stdout",
     "output_type": "stream",
     "text": [
      "['Berlin:', '18.4', 'C', 'at', '4', 'pm']\n",
      "['Berlin', ' 18.4 C at 4 pm']\n",
      "['Berlin: ', '.4 C at 4 pm']\n"
     ]
    }
   ],
   "source": [
    "s8 = \"Berlin: 18.4 C at 4 pm\"\n",
    "print(s8.split())\n",
    "print(s8.split(':'))\n",
    "print(s8.split('18'))"
   ]
  },
  {
   "cell_type": "code",
   "execution_count": 34,
   "id": "ecb55479",
   "metadata": {},
   "outputs": [
    {
     "data": {
      "text/plain": [
       "'Newton, Secant, Bisection'"
      ]
     },
     "execution_count": 34,
     "metadata": {},
     "output_type": "execute_result"
    }
   ],
   "source": [
    "strings = ['Newton', 'Secant', 'Bisection']\n",
    "', '.join(strings)"
   ]
  },
  {
   "cell_type": "code",
   "execution_count": 37,
   "id": "271911cc",
   "metadata": {},
   "outputs": [
    {
     "data": {
      "text/plain": [
       "'I, Like, Learning, Python'"
      ]
     },
     "execution_count": 37,
     "metadata": {},
     "output_type": "execute_result"
    }
   ],
   "source": [
    "', '.join([\"I\", \"Like\", \"Learning\", \"Python\"])"
   ]
  },
  {
   "cell_type": "code",
   "execution_count": 40,
   "id": "9a005178",
   "metadata": {},
   "outputs": [
    {
     "name": "stdout",
     "output_type": "stream",
     "text": [
      "['Oslo:', '8.4', 'C', 'at', '5', 'pm']\n",
      "Oslo: 8.4 C at 5 pm\n",
      "True\n"
     ]
    }
   ],
   "source": [
    "l1 = 'Oslo: 8.4 C at 5 pm'\n",
    "words = l1.split()\n",
    "print(words)\n",
    "l2 = \" \".join(words)\n",
    "print(l2)\n",
    "print(l1 == l2)"
   ]
  },
  {
   "cell_type": "code",
   "execution_count": 48,
   "id": "a966d0fa",
   "metadata": {},
   "outputs": [
    {
     "name": "stdout",
     "output_type": "stream",
     "text": [
      "Tromso Norway 69.6351 18.9920 52436\n",
      " <class 'str'>\n",
      "['Tromso', 'Norway', '69.6351', '18.9920', '52436'] <class 'list'>\n",
      "Tromso, Norway <class 'str'>\n",
      "\n",
      "{'lat': 69.6351, 'long': 18.992} <class 'dict'>\n",
      "Molde Norway 62.7483 7.1833 18594\n",
      " <class 'str'>\n",
      "['Molde', 'Norway', '62.7483', '7.1833', '18594'] <class 'list'>\n",
      "Molde, Norway <class 'str'>\n",
      "\n",
      "{'lat': 62.7483, 'long': 7.1833} <class 'dict'>\n",
      "Oslo Norway 59.9167 10.7500 835000\n",
      " <class 'str'>\n",
      "['Oslo', 'Norway', '59.9167', '10.7500', '835000'] <class 'list'>\n",
      "Oslo, Norway <class 'str'>\n",
      "\n",
      "{'lat': 59.9167, 'long': 10.75} <class 'dict'>\n",
      "Stockhold Sweden 59.3508 18.0973 1264000\n",
      " <class 'str'>\n",
      "['Stockhold', 'Sweden', '59.3508', '18.0973', '1264000'] <class 'list'>\n",
      "Stockhold, Sweden <class 'str'>\n",
      "\n",
      "{'lat': 59.3508, 'long': 18.0973} <class 'dict'>\n",
      "Uppsala Sweden 59.8601 17.6400 133117 <class 'str'>\n",
      "['Uppsala', 'Sweden', '59.8601', '17.6400', '133117'] <class 'list'>\n",
      "Uppsala, Sweden <class 'str'>\n",
      "\n",
      "{'lat': 59.8601, 'long': 17.64} <class 'dict'>\n",
      "\n",
      "{'Tromso, Norway': {'lat': 69.6351, 'long': 18.992, 'pop': 52436}, 'Molde, Norway': {'lat': 62.7483, 'long': 7.1833, 'pop': 18594}, 'Oslo, Norway': {'lat': 59.9167, 'long': 10.75, 'pop': 835000}, 'Stockhold, Sweden': {'lat': 59.3508, 'long': 18.0973, 'pop': 1264000}, 'Uppsala, Sweden': {'lat': 59.8601, 'long': 17.64, 'pop': 133117}}\n"
     ]
    }
   ],
   "source": [
    "cities = {}\n",
    "with open('cities.txt') as infile:\n",
    "    for line in infile:\n",
    "        print(line, type(line))\n",
    "        words = line.split()\n",
    "        print(words, type(words))\n",
    "        name = ', '.join(words[:2])\n",
    "        print(name, type(name))\n",
    "        print()\n",
    "        data = {'lat': float(words[2]), 'long': float(words[3])}\n",
    "        print(data, type(data))\n",
    "        data['pop'] = int(words[4])\n",
    "        cities[name] = data\n",
    "\n",
    "print()\n",
    "print(cities)"
   ]
  },
  {
   "cell_type": "code",
   "execution_count": 50,
   "id": "46f7cf29",
   "metadata": {},
   "outputs": [
    {
     "name": "stdout",
     "output_type": "stream",
     "text": [
      "1st line\n",
      "2nd line\n",
      "3rd line\n",
      "['1st line', '2nd line', '3rd line']\n"
     ]
    }
   ],
   "source": [
    "t = '1st line\\n2nd line\\n3rd line'\n",
    "print(t)\n",
    "print(t.split('\\n'))\n"
   ]
  },
  {
   "cell_type": "code",
   "execution_count": 52,
   "id": "4c9f2508",
   "metadata": {},
   "outputs": [
    {
     "name": "stdout",
     "output_type": "stream",
     "text": [
      "1st line\n",
      "2nd line\n",
      "3rd line\n",
      "['1st line', '2nd line', '3rd line']\n"
     ]
    }
   ],
   "source": [
    "t = '1st line\\n2nd line\\n3rd line'\n",
    "print(t)\n",
    "print(t.splitlines(''))"
   ]
  },
  {
   "cell_type": "code",
   "execution_count": 56,
   "id": "35d06db1",
   "metadata": {},
   "outputs": [
    {
     "name": "stdout",
     "output_type": "stream",
     "text": [
      "4\n"
     ]
    },
    {
     "ename": "TypeError",
     "evalue": "'str' object does not support item assignment",
     "output_type": "error",
     "traceback": [
      "\u001b[1;31m---------------------------------------------------------------------------\u001b[0m",
      "\u001b[1;31mTypeError\u001b[0m                                 Traceback (most recent call last)",
      "Cell \u001b[1;32mIn[56], line 3\u001b[0m\n\u001b[0;32m      1\u001b[0m s9 \u001b[38;5;241m=\u001b[39m \u001b[38;5;124m\"\u001b[39m\u001b[38;5;124mBerlin: 18.4 C at 4 pm\u001b[39m\u001b[38;5;124m\"\u001b[39m\n\u001b[0;32m      2\u001b[0m \u001b[38;5;28mprint\u001b[39m(s9[\u001b[38;5;241m18\u001b[39m])\n\u001b[1;32m----> 3\u001b[0m s9[\u001b[38;5;241m18\u001b[39m] \u001b[38;5;241m=\u001b[39m \u001b[38;5;241m5\u001b[39m\n",
      "\u001b[1;31mTypeError\u001b[0m: 'str' object does not support item assignment"
     ]
    }
   ],
   "source": [
    "s9 = \"Berlin: 18.4 C at 4 pm\"\n",
    "print(s9[18])\n",
    "s9[18] = 5"
   ]
  },
  {
   "cell_type": "code",
   "execution_count": 62,
   "id": "a858c408",
   "metadata": {},
   "outputs": [
    {
     "name": "stdout",
     "output_type": "stream",
     "text": [
      "Berlin: 18.4 C at 4 pm\n",
      "Berlin: 18.4 C at 5 pm\n",
      "Berlin: 18.4 C at 6 pm\n"
     ]
    }
   ],
   "source": [
    "s10 = \"Berlin: 18.4 C at 4 pm\"\n",
    "s11 = s10[:18] + '5' + s10[19:]\n",
    "print(s10)\n",
    "print(s11)\n",
    "s12 = s11.replace(s11[18], '6')\n",
    "print(s12)"
   ]
  },
  {
   "cell_type": "markdown",
   "id": "f1509d35",
   "metadata": {},
   "source": [
    "## 7.4.3 Other Convenient String Methods in Python"
   ]
  },
  {
   "cell_type": "code",
   "execution_count": 65,
   "id": "0d61a6f0",
   "metadata": {},
   "outputs": [
    {
     "name": "stdout",
     "output_type": "stream",
     "text": [
      "     text with leading & trailing spaces       \n",
      "\n",
      "text with leading & trailing spaces\n",
      "text with leading & trailing spaces       \n",
      "\n",
      "     text with leading & trailing spaces\n"
     ]
    }
   ],
   "source": [
    "s = '     text with leading & trailing spaces       \\n'\n",
    "print(s)\n",
    "print(s.strip())\n",
    "print(s.lstrip())\n",
    "print(s.rstrip())"
   ]
  },
  {
   "cell_type": "code",
   "execution_count": 70,
   "id": "c955f5cd",
   "metadata": {},
   "outputs": [
    {
     "name": "stdout",
     "output_type": "stream",
     "text": [
      "True\n",
      "False\n",
      "True\n",
      "True\n",
      "False\n"
     ]
    }
   ],
   "source": [
    "print('214'.isdigit())\n",
    "print('    214'.isdigit())\n",
    "print('    214'.strip().isdigit())\n",
    "print('214'.isnumeric())\n",
    "print(\"2.14\".isdigit())"
   ]
  },
  {
   "cell_type": "code",
   "execution_count": 75,
   "id": "e1a70ff0",
   "metadata": {},
   "outputs": [
    {
     "name": "stdout",
     "output_type": "stream",
     "text": [
      "True\n",
      "True\n",
      "True\n",
      "False\n"
     ]
    }
   ],
   "source": [
    "print(\"      \".isspace())\n",
    "print(\"        \\n\".isspace())\n",
    "print(\"   \\t     \\n\".isspace())\n",
    "print(\"\".isspace())"
   ]
  },
  {
   "cell_type": "code",
   "execution_count": 80,
   "id": "b880e2ba",
   "metadata": {},
   "outputs": [
    {
     "name": "stdout",
     "output_type": "stream",
     "text": [
      "True\n",
      "True\n",
      "True\n"
     ]
    }
   ],
   "source": [
    "s13 = \"Berlin: 18.4 C at 4 pm\"\n",
    "print(s13.startswith(\"Berlin\"))\n",
    "print(s13.startswith(\"Be\"))\n",
    "print(s13.endswith(\"pm\"))"
   ]
  },
  {
   "cell_type": "code",
   "execution_count": 84,
   "id": "321757cb",
   "metadata": {},
   "outputs": [
    {
     "name": "stdout",
     "output_type": "stream",
     "text": [
      "berlin: 18.4 c at 4 pm\n",
      "BERLIN: 18.4 C AT 4 PM\n",
      "Hello world\n",
      "Hello World\n"
     ]
    }
   ],
   "source": [
    "print(s13.lower())\n",
    "print(s13.upper())\n",
    "s14 = \"hello world\"\n",
    "print(s14.capitalize())\n",
    "print(s14.title())"
   ]
  },
  {
   "cell_type": "markdown",
   "id": "84047479",
   "metadata": {},
   "source": [
    "## Example: read pairs of numbers `(x,y)` from a file"
   ]
  },
  {
   "cell_type": "code",
   "execution_count": 94,
   "id": "826dd142",
   "metadata": {},
   "outputs": [
    {
     "name": "stdout",
     "output_type": "stream",
     "text": [
      "[(1.3, 0.0), (-1.0, 2.0), (3.0, -1.5), (0.0, 1.0), (1.0, 0.0), (1.0, 1.0), (0.0, -0.01), (10.5, 1.0), (2.5, -2.5)]\n"
     ]
    }
   ],
   "source": [
    "pairs = []\n",
    "with open('pairs.txt', 'r') as lines:\n",
    "    for line in lines:\n",
    "        # print(line)\n",
    "        words = line.split()\n",
    "        # print(words)\n",
    "        for word in words:\n",
    "            word = word[1:-1]\n",
    "            # print(word)\n",
    "            n1, n2 = word.split(',') \n",
    "            # print(n1, n2)\n",
    "            n1 = float(n1)\n",
    "            n2 = float(n2)\n",
    "            # print(n1, n2)\n",
    "            pair = (n1, n2)\n",
    "            # print(pair)\n",
    "            pairs.append(pair)\n",
    "print(pairs)"
   ]
  },
  {
   "cell_type": "code",
   "execution_count": null,
   "id": "186ffa67",
   "metadata": {},
   "outputs": [],
   "source": []
  }
 ],
 "metadata": {
  "kernelspec": {
   "display_name": "base",
   "language": "python",
   "name": "python3"
  },
  "language_info": {
   "codemirror_mode": {
    "name": "ipython",
    "version": 3
   },
   "file_extension": ".py",
   "mimetype": "text/x-python",
   "name": "python",
   "nbconvert_exporter": "python",
   "pygments_lexer": "ipython3",
   "version": "3.12.7"
  }
 },
 "nbformat": 4,
 "nbformat_minor": 5
}
