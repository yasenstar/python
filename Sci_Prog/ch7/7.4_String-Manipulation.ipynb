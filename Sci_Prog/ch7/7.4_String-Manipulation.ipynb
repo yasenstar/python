{
 "cells": [
  {
   "cell_type": "markdown",
   "id": "723489d1",
   "metadata": {},
   "source": [
    "# 7.4 String Manipulation"
   ]
  },
  {
   "cell_type": "markdown",
   "id": "d4eb3158",
   "metadata": {},
   "source": [
    "# 7.4.1 String Slicing, String Find, String Replace"
   ]
  },
  {
   "cell_type": "code",
   "execution_count": 3,
   "id": "7d1146e1",
   "metadata": {},
   "outputs": [
    {
     "name": "stdout",
     "output_type": "stream",
     "text": [
      "This is a string This is also a string\n",
      "<class 'str'> <class 'str'>\n"
     ]
    }
   ],
   "source": [
    "s1 = \"This is a string\"\n",
    "s2 = 'This is also a string'\n",
    "print(s1, s2)\n",
    "print(type(s1), type(s2))"
   ]
  },
  {
   "cell_type": "code",
   "execution_count": 4,
   "id": "4863be3c",
   "metadata": {},
   "outputs": [
    {
     "data": {
      "text/plain": [
       "['This', 'is', 'a', 'string']"
      ]
     },
     "execution_count": 4,
     "metadata": {},
     "output_type": "execute_result"
    }
   ],
   "source": [
    "s1.split()"
   ]
  },
  {
   "cell_type": "code",
   "execution_count": 5,
   "id": "f3f02650",
   "metadata": {},
   "outputs": [
    {
     "data": {
      "text/plain": [
       "['A', 'B', 'C', 'D']"
      ]
     },
     "execution_count": 5,
     "metadata": {},
     "output_type": "execute_result"
    }
   ],
   "source": [
    "s3 = \"A;B;C;D\"\n",
    "s3.split(\";\")"
   ]
  },
  {
   "cell_type": "code",
   "execution_count": 6,
   "id": "79654e92",
   "metadata": {},
   "outputs": [
    {
     "data": {
      "text/plain": [
       "['Hello', 'World']"
      ]
     },
     "execution_count": 6,
     "metadata": {},
     "output_type": "execute_result"
    }
   ],
   "source": [
    "\"Hello World\".split()"
   ]
  },
  {
   "cell_type": "code",
   "execution_count": 10,
   "id": "1b199b3b",
   "metadata": {},
   "outputs": [
    {
     "name": "stdout",
     "output_type": "stream",
     "text": [
      "B\n",
      "e\n",
      "m\n",
      " \n"
     ]
    }
   ],
   "source": [
    "s4 = \"Berlin: 18.4 C at 4 pm\"\n",
    "print(s4[0])\n",
    "print(s4[1])\n",
    "print(s4[-1])\n",
    "print(s4[7])"
   ]
  },
  {
   "cell_type": "code",
   "execution_count": 16,
   "id": "5c517134",
   "metadata": {},
   "outputs": [
    {
     "name": "stdout",
     "output_type": "stream",
     "text": [
      "18.4 C at 4 pm\n",
      "Berlin\n",
      "18.4 C\n",
      "18.4 C at 4\n"
     ]
    }
   ],
   "source": [
    "s5 = \"Berlin: 18.4 C at 4 pm\"\n",
    "print(s5[8:])\n",
    "print(s5[:6])\n",
    "print(s5[8:14])\n",
    "print(s5[8:-3])"
   ]
  },
  {
   "cell_type": "code",
   "execution_count": null,
   "id": "36bb745e",
   "metadata": {},
   "outputs": [
    {
     "name": "stdout",
     "output_type": "stream",
     "text": [
      "B~e~r~l~i~n~:~ ~1~8~.~4~ ~C~ ~a~t~ ~4~ ~p~m~"
     ]
    }
   ],
   "source": [
    "s6 = \"Berlin: 18.4 C at 4 pm\"\n",
    "for s_ in s6:\n",
    "    print(s_, end='~')"
   ]
  },
  {
   "cell_type": "code",
   "execution_count": 23,
   "id": "5d09c1bd",
   "metadata": {},
   "outputs": [
    {
     "name": "stdout",
     "output_type": "stream",
     "text": [
      "0\n",
      "20\n",
      "-1\n",
      "True\n"
     ]
    }
   ],
   "source": [
    "print(s6.find('Berlin'))\n",
    "print(s6.find(\"pm\"))\n",
    "print(s6.find(\"Oslo\"))\n",
    "print(\"Berlin\" in s6)"
   ]
  },
  {
   "cell_type": "code",
   "execution_count": 26,
   "id": "5c470233",
   "metadata": {},
   "outputs": [
    {
     "name": "stdout",
     "output_type": "stream",
     "text": [
      "C found\n"
     ]
    }
   ],
   "source": [
    "if 'C' in s6:\n",
    "    print('C found')\n",
    "else:\n",
    "    print('no C')"
   ]
  },
  {
   "cell_type": "code",
   "execution_count": 29,
   "id": "3c64f9ec",
   "metadata": {},
   "outputs": [
    {
     "name": "stdout",
     "output_type": "stream",
     "text": [
      "Berlin: 18.4 C at 4 pm\n",
      "Berlin:__18.4__C__at__4__pm\n"
     ]
    }
   ],
   "source": [
    "s7 = \"Berlin: 18.4 C at 4 pm\"\n",
    "s7.replace(' ', '__')\n",
    "print(s7)\n",
    "s7 = s7.replace(' ', '__')\n",
    "print(s7)"
   ]
  },
  {
   "cell_type": "code",
   "execution_count": null,
   "id": "8cd31822",
   "metadata": {},
   "outputs": [],
   "source": []
  }
 ],
 "metadata": {
  "kernelspec": {
   "display_name": "base",
   "language": "python",
   "name": "python3"
  },
  "language_info": {
   "codemirror_mode": {
    "name": "ipython",
    "version": 3
   },
   "file_extension": ".py",
   "mimetype": "text/x-python",
   "name": "python",
   "nbconvert_exporter": "python",
   "pygments_lexer": "ipython3",
   "version": "3.12.7"
  }
 },
 "nbformat": 4,
 "nbformat_minor": 5
}
