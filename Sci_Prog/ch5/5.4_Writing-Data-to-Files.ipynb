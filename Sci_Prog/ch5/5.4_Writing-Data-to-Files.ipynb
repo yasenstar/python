{
 "cells": [
  {
   "cell_type": "markdown",
   "id": "90363c28",
   "metadata": {},
   "source": [
    "# 5.4 Writing Data to Files"
   ]
  },
  {
   "cell_type": "code",
   "execution_count": 1,
   "id": "d2bd7076",
   "metadata": {},
   "outputs": [
    {
     "name": "stdout",
     "output_type": "stream",
     "text": [
      "Done Writing\n"
     ]
    }
   ],
   "source": [
    "text = \"This is new content\"\n",
    "fp = open(\"write_demo.txt\", 'w')\n",
    "fp.write(text)\n",
    "print(\"Done Writing\")\n",
    "fp.close()"
   ]
  },
  {
   "cell_type": "code",
   "execution_count": 2,
   "id": "0487538a",
   "metadata": {},
   "outputs": [],
   "source": [
    "data = \\\n",
    "    [\n",
    "        [ 0.75,         0.29619813,    -0.29619813, -0.75],\n",
    "        [ 0.29689813,   0.11697778,    -0.11697778, -0.29619813],\n",
    "        [-0.29689813,  -0.11697778,    0.11697778,  0.29619813],\n",
    "        [ -0.75,         -0.29619813,    0.29619813, 0.75]\n",
    "    ]"
   ]
  },
  {
   "cell_type": "code",
   "execution_count": 3,
   "id": "e5c53294",
   "metadata": {},
   "outputs": [],
   "source": [
    "with open(\"tmp_table.txt\", 'w') as outfile:\n",
    "    for row in data:\n",
    "        for column in row:\n",
    "            outfile.write(f'{column:14.8f}')\n",
    "        outfile.write('\\n')"
   ]
  }
 ],
 "metadata": {
  "kernelspec": {
   "display_name": "base",
   "language": "python",
   "name": "python3"
  },
  "language_info": {
   "codemirror_mode": {
    "name": "ipython",
    "version": 3
   },
   "file_extension": ".py",
   "mimetype": "text/x-python",
   "name": "python",
   "nbconvert_exporter": "python",
   "pygments_lexer": "ipython3",
   "version": "3.12.7"
  }
 },
 "nbformat": 4,
 "nbformat_minor": 5
}
