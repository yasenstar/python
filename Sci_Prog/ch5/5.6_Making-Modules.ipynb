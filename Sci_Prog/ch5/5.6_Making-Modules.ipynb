{
 "cells": [
  {
   "cell_type": "markdown",
   "id": "48d8216e",
   "metadata": {},
   "source": [
    "# 5.6 Making Modules"
   ]
  },
  {
   "cell_type": "code",
   "execution_count": 1,
   "id": "dd43448f",
   "metadata": {},
   "outputs": [
    {
     "name": "stdout",
     "output_type": "stream",
     "text": [
      "1.791759469228055\n"
     ]
    }
   ],
   "source": [
    "from math import log\n",
    "r = log(6)\n",
    "print(r)"
   ]
  },
  {
   "cell_type": "code",
   "execution_count": 2,
   "id": "4c1cd687",
   "metadata": {},
   "outputs": [
    {
     "ename": "SyntaxError",
     "evalue": "invalid syntax (<string>, line 1)",
     "output_type": "error",
     "traceback": [
      "Traceback \u001b[1;36m(most recent call last)\u001b[0m:\n",
      "\u001b[0m  File \u001b[0;32mc:\\ProgramData\\anaconda3\\Lib\\site-packages\\IPython\\core\\interactiveshell.py:3577\u001b[0m in \u001b[0;35mrun_code\u001b[0m\n    exec(code_obj, self.user_global_ns, self.user_ns)\u001b[0m\n",
      "\u001b[1;36m  Cell \u001b[1;32mIn[2], line 2\u001b[1;36m\n\u001b[1;33m    x = eval(sys.argv[1])\u001b[1;36m\n",
      "\u001b[1;36m  File \u001b[1;32m<string>:1\u001b[1;36m\u001b[0m\n\u001b[1;33m    --f=c:\\Users\\v0cn037\\AppData\\Roaming\\Code\\User\\globalStorage\\ms-toolsai.jupyter\\version-2025.3.0\\jupyter\\runtime\\kernel-v3b45aa9e7556d26f2189294c2b2f2bb1e6c710f73.json\u001b[0m\n\u001b[1;37m       ^\u001b[0m\n\u001b[1;31mSyntaxError\u001b[0m\u001b[1;31m:\u001b[0m invalid syntax\n"
     ]
    }
   ],
   "source": [
    "import sys\n",
    "x = eval(sys.argv[1])\n",
    "print(x)"
   ]
  },
  {
   "cell_type": "code",
   "execution_count": 6,
   "id": "9602683a",
   "metadata": {},
   "outputs": [
    {
     "name": "stdout",
     "output_type": "stream",
     "text": [
      "Money has doubled after 14.206699082890463 years\n"
     ]
    }
   ],
   "source": [
    "from interest import years\n",
    "P = 1; r = 5\n",
    "n = years(P, 2*P, r)\n",
    "print(f'Money has doubled after {n} years')"
   ]
  },
  {
   "cell_type": "code",
   "execution_count": null,
   "id": "2f0e37d3",
   "metadata": {},
   "outputs": [],
   "source": []
  }
 ],
 "metadata": {
  "kernelspec": {
   "display_name": "base",
   "language": "python",
   "name": "python3"
  },
  "language_info": {
   "codemirror_mode": {
    "name": "ipython",
    "version": 3
   },
   "file_extension": ".py",
   "mimetype": "text/x-python",
   "name": "python",
   "nbconvert_exporter": "python",
   "pygments_lexer": "ipython3",
   "version": "3.12.7"
  }
 },
 "nbformat": 4,
 "nbformat_minor": 5
}
