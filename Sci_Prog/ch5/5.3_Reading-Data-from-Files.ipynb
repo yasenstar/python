{
 "cells": [
  {
   "cell_type": "markdown",
   "id": "7fa1f37d",
   "metadata": {},
   "source": [
    "# 5.3 Reading Data from Files"
   ]
  },
  {
   "cell_type": "code",
   "execution_count": 5,
   "id": "35a1bb38",
   "metadata": {},
   "outputs": [
    {
     "name": "stdout",
     "output_type": "stream",
     "text": [
      "21.8\n",
      "\n",
      "18.1\n",
      "\n",
      "19\n",
      "\n",
      "23\n",
      "\n",
      "26\n",
      "\n",
      "17.8\n",
      "\n",
      "67\n",
      "\n",
      "34.6\n"
     ]
    }
   ],
   "source": [
    "infile = open('data.txt', 'r')\n",
    "for line in infile:\n",
    "    print(line)\n",
    "infile.close()"
   ]
  },
  {
   "cell_type": "code",
   "execution_count": 4,
   "id": "7f2016f0",
   "metadata": {},
   "outputs": [
    {
     "name": "stdout",
     "output_type": "stream",
     "text": [
      "The mean value is: 28.412499999999998\n"
     ]
    }
   ],
   "source": [
    "infile = open('data.txt', 'r')\n",
    "mean = 0\n",
    "lines = 0\n",
    "for line in infile:\n",
    "    number = float(line)\n",
    "    mean = mean + number\n",
    "    lines = lines + 1\n",
    "mean = mean / lines\n",
    "print(f\"The mean value is: {mean}\")"
   ]
  },
  {
   "cell_type": "code",
   "execution_count": 7,
   "id": "3a156e4c",
   "metadata": {},
   "outputs": [
    {
     "name": "stdout",
     "output_type": "stream",
     "text": [
      "21.8\n",
      "\n",
      "18.1\n",
      "\n",
      "19\n",
      "\n",
      "23\n",
      "\n",
      "26\n",
      "\n",
      "17.8\n",
      "\n",
      "67\n",
      "\n",
      "34.6\n"
     ]
    }
   ],
   "source": [
    "with open('data.txt', 'r') as infile:\n",
    "    for line in infile:\n",
    "        print(line)"
   ]
  },
  {
   "cell_type": "code",
   "execution_count": 13,
   "id": "2f653f48",
   "metadata": {},
   "outputs": [
    {
     "name": "stdout",
     "output_type": "stream",
     "text": [
      "21.8\n",
      "\n",
      "18.1\n",
      "\n",
      "19\n",
      "\n",
      "23\n",
      "\n",
      "26\n",
      "\n",
      "17.8\n",
      "\n",
      "67\n",
      "\n",
      "34.6\n",
      "['21.8\\n', '18.1\\n', '19\\n', '23\\n', '26\\n', '17.8\\n', '67\\n', '34.6']\n",
      "21.8\n",
      "18.1\n",
      "19\n",
      "23\n",
      "26\n",
      "17.8\n",
      "67\n",
      "34.6\n"
     ]
    }
   ],
   "source": [
    "infile = open('data.txt', 'r')\n",
    "lines = infile.readlines()\n",
    "infile.close()\n",
    "infile = open('data.txt', 'r')\n",
    "text = infile.read()\n",
    "infile.close()\n",
    "for line in lines:\n",
    "    print(line)\n",
    "print(lines)\n",
    "print(text)"
   ]
  },
  {
   "cell_type": "markdown",
   "id": "73788ddb",
   "metadata": {},
   "source": [
    "## using `split()`"
   ]
  },
  {
   "cell_type": "code",
   "execution_count": 16,
   "id": "01423e9d",
   "metadata": {},
   "outputs": [
    {
     "name": "stdout",
     "output_type": "stream",
     "text": [
      "['This', 'is', 'a', 'typical', 'string']\n",
      "['Excel;sheets;oftern;use;semicolon;as;separator']\n",
      "['Excel', 'sheets', 'oftern', 'use', 'semicolon', 'as', 'separator']\n"
     ]
    }
   ],
   "source": [
    "s = 'This is a typical string'\n",
    "print(s.split())\n",
    "csvline = \"Excel;sheets;oftern;use;semicolon;as;separator\"\n",
    "print(csvline.split())\n",
    "print(csvline.split(\";\"))"
   ]
  },
  {
   "cell_type": "code",
   "execution_count": 29,
   "id": "501bcd42",
   "metadata": {},
   "outputs": [
    {
     "name": "stdout",
     "output_type": "stream",
     "text": [
      "The average rainfall for the month:\n",
      "Jan 81.2\n",
      "Feb 63.2\n",
      "Mar 70.3\n",
      "Apr 55.7\n",
      "May 53.0\n",
      "Jun 36.4\n",
      "Jul 17.5\n",
      "Aug 27.5\n",
      "Sep 60.9\n",
      "Oct 117.7\n",
      "Nov 111.0\n",
      "Dec 97.9\n",
      "The avage rainfall for the tyear: 792.9\n"
     ]
    }
   ],
   "source": [
    "def extract_data(filename):\n",
    "    infile = open(filename, 'r')\n",
    "    infile.readline()\n",
    "    months = []\n",
    "    rainfall = []\n",
    "    for line in infile:\n",
    "        words = line.split()\n",
    "        # print(words)\n",
    "        months.append(words[0])\n",
    "        rainfall.append(float(words[1]))\n",
    "    infile.close()\n",
    "    months = months[:-1]\n",
    "    annual_avg = rainfall[-1]\n",
    "    rainfall = rainfall[:-1]\n",
    "    return months, rainfall, annual_avg\n",
    "\n",
    "months, values, avg = extract_data('rainfall.txt')\n",
    "\n",
    "print('The average rainfall for the month:')\n",
    "for month, value, in zip(months, values):\n",
    "    print(month, value)\n",
    "print(f'The avage rainfall for the tyear: {avg}')"
   ]
  }
 ],
 "metadata": {
  "kernelspec": {
   "display_name": "base",
   "language": "python",
   "name": "python3"
  },
  "language_info": {
   "codemirror_mode": {
    "name": "ipython",
    "version": 3
   },
   "file_extension": ".py",
   "mimetype": "text/x-python",
   "name": "python",
   "nbconvert_exporter": "python",
   "pygments_lexer": "ipython3",
   "version": "3.12.7"
  }
 },
 "nbformat": 4,
 "nbformat_minor": 5
}
