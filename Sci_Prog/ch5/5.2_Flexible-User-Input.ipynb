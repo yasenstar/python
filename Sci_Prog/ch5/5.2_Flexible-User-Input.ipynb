{
 "cells": [
  {
   "cell_type": "markdown",
   "id": "eab7a394",
   "metadata": {},
   "source": [
    "# 5.2 Flexible User Input"
   ]
  },
  {
   "cell_type": "markdown",
   "id": "cb975d8f",
   "metadata": {},
   "source": [
    "## 5.2.1 `eval` method"
   ]
  },
  {
   "cell_type": "code",
   "execution_count": 14,
   "id": "d22a9b79",
   "metadata": {},
   "outputs": [
    {
     "name": "stdout",
     "output_type": "stream",
     "text": [
      "[1, 3, 5, 7, 9] ['a', 'b', 'c', 'd', 'e']\n",
      "[1, 3, 5, 7, 9, 11]\n",
      "None\n",
      "[1, 3, 5, 7, 9, 11, 13]\n"
     ]
    },
    {
     "data": {
      "text/plain": [
       "[1, 3, 5, 7, 9, 11, 13, 'a', 'b', 'c', 'd', 'e']"
      ]
     },
     "execution_count": 14,
     "metadata": {},
     "output_type": "execute_result"
    }
   ],
   "source": [
    "List1 = [1,3,5,7,9]\n",
    "List2 = ['a', 'b', 'c', 'd', 'e']\n",
    "print(List1, List2)\n",
    "List1.append(11)\n",
    "print(List1)\n",
    "print(eval(\"List1.append(13)\"))\n",
    "print(List1)\n",
    "eval('List1 + List2')\n"
   ]
  },
  {
   "cell_type": "code",
   "execution_count": 19,
   "id": "fc6a1c56",
   "metadata": {},
   "outputs": [
    {
     "name": "stdout",
     "output_type": "stream",
     "text": [
      "1+2 <class 'str'>\n",
      "3 <class 'str'> <class 'int'>\n"
     ]
    }
   ],
   "source": [
    "s = '1+2'\n",
    "print(s, type(s))\n",
    "r = eval(s)\n",
    "print(r, type(s), type(r))"
   ]
  },
  {
   "cell_type": "code",
   "execution_count": 20,
   "id": "d5cabac4",
   "metadata": {},
   "outputs": [
    {
     "name": "stdout",
     "output_type": "stream",
     "text": [
      "[1, 6, 7.5, 1, 2] <class 'list'>\n"
     ]
    }
   ],
   "source": [
    "r = eval('[1, 6, 7.5] + [1, 2]')\n",
    "print(r, type(r))"
   ]
  },
  {
   "cell_type": "code",
   "execution_count": 21,
   "id": "f313e30a",
   "metadata": {},
   "outputs": [
    {
     "ename": "TypeError",
     "evalue": "can only concatenate tuple (not \"list\") to tuple",
     "output_type": "error",
     "traceback": [
      "\u001b[1;31m---------------------------------------------------------------------------\u001b[0m",
      "\u001b[1;31mTypeError\u001b[0m                                 Traceback (most recent call last)",
      "Cell \u001b[1;32mIn[21], line 1\u001b[0m\n\u001b[1;32m----> 1\u001b[0m r \u001b[38;5;241m=\u001b[39m \u001b[38;5;28meval\u001b[39m(\u001b[38;5;124m'\u001b[39m\u001b[38;5;124m(1, 6, 7.5) + [1, 2]\u001b[39m\u001b[38;5;124m'\u001b[39m)\n\u001b[0;32m      2\u001b[0m \u001b[38;5;28mprint\u001b[39m(r, \u001b[38;5;28mtype\u001b[39m(r))\n",
      "File \u001b[1;32m<string>:1\u001b[0m\n",
      "\u001b[1;31mTypeError\u001b[0m: can only concatenate tuple (not \"list\") to tuple"
     ]
    }
   ],
   "source": [
    "r = eval('(1, 6, 7.5) + [1, 2]')\n",
    "print(r, type(r))"
   ]
  },
  {
   "cell_type": "code",
   "execution_count": 26,
   "id": "c07dae74",
   "metadata": {},
   "outputs": [
    {
     "name": "stdout",
     "output_type": "stream",
     "text": [
      "4 <class 'int'> 6 <class 'int'>\n",
      "10 <class 'int'>\n"
     ]
    }
   ],
   "source": [
    "i1 = eval(input(\"operand 1: \"))\n",
    "i2 = eval(input(\"operand 2: \"))\n",
    "print(i1, type(i1), i2, type(i2))\n",
    "r = i1 + i2\n",
    "print(r, type(r))"
   ]
  },
  {
   "cell_type": "code",
   "execution_count": 27,
   "id": "7d44faec",
   "metadata": {},
   "outputs": [
    {
     "ename": "NameError",
     "evalue": "name 'one' is not defined",
     "output_type": "error",
     "traceback": [
      "\u001b[1;31m---------------------------------------------------------------------------\u001b[0m",
      "\u001b[1;31mNameError\u001b[0m                                 Traceback (most recent call last)",
      "Cell \u001b[1;32mIn[27], line 1\u001b[0m\n\u001b[1;32m----> 1\u001b[0m i1 \u001b[38;5;241m=\u001b[39m \u001b[38;5;28meval\u001b[39m(\u001b[38;5;28minput\u001b[39m(\u001b[38;5;124m\"\u001b[39m\u001b[38;5;124moperand 1: \u001b[39m\u001b[38;5;124m\"\u001b[39m))\n\u001b[0;32m      2\u001b[0m i2 \u001b[38;5;241m=\u001b[39m \u001b[38;5;28meval\u001b[39m(\u001b[38;5;28minput\u001b[39m(\u001b[38;5;124m\"\u001b[39m\u001b[38;5;124moperand 2: \u001b[39m\u001b[38;5;124m\"\u001b[39m))\n\u001b[0;32m      3\u001b[0m \u001b[38;5;28mprint\u001b[39m(i1, \u001b[38;5;28mtype\u001b[39m(i1), i2, \u001b[38;5;28mtype\u001b[39m(i2))\n",
      "File \u001b[1;32m<string>:1\u001b[0m\n",
      "\u001b[1;31mNameError\u001b[0m: name 'one' is not defined"
     ]
    }
   ],
   "source": [
    "i1 = eval(input(\"operand 1: \"))\n",
    "i2 = eval(input(\"operand 2: \"))\n",
    "print(i1, type(i1), i2, type(i2))\n",
    "r = i1 + i2\n",
    "print(r, type(r))"
   ]
  },
  {
   "cell_type": "code",
   "execution_count": 28,
   "id": "81b2c53a",
   "metadata": {},
   "outputs": [
    {
     "name": "stdout",
     "output_type": "stream",
     "text": [
      "one <class 'str'> 1+1 <class 'str'>\n",
      "one1+1 <class 'str'>\n"
     ]
    }
   ],
   "source": [
    "i1 = eval(input(\"operand 1: \"))\n",
    "i2 = eval(input(\"operand 2: \"))\n",
    "print(i1, type(i1), i2, type(i2))\n",
    "r = i1 + i2\n",
    "print(r, type(r))"
   ]
  },
  {
   "cell_type": "code",
   "execution_count": null,
   "id": "0d0ec995",
   "metadata": {},
   "outputs": [],
   "source": []
  }
 ],
 "metadata": {
  "kernelspec": {
   "display_name": "base",
   "language": "python",
   "name": "python3"
  },
  "language_info": {
   "codemirror_mode": {
    "name": "ipython",
    "version": 3
   },
   "file_extension": ".py",
   "mimetype": "text/x-python",
   "name": "python",
   "nbconvert_exporter": "python",
   "pygments_lexer": "ipython3",
   "version": "3.12.7"
  }
 },
 "nbformat": 4,
 "nbformat_minor": 5
}
