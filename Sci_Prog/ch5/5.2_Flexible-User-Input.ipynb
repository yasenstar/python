{
 "cells": [
  {
   "cell_type": "markdown",
   "id": "eab7a394",
   "metadata": {},
   "source": [
    "# 5.2 Flexible User Input"
   ]
  },
  {
   "cell_type": "markdown",
   "id": "cb975d8f",
   "metadata": {},
   "source": [
    "## 5.2.1 `eval` method"
   ]
  },
  {
   "cell_type": "code",
   "execution_count": 14,
   "id": "d22a9b79",
   "metadata": {},
   "outputs": [
    {
     "name": "stdout",
     "output_type": "stream",
     "text": [
      "[1, 3, 5, 7, 9] ['a', 'b', 'c', 'd', 'e']\n",
      "[1, 3, 5, 7, 9, 11]\n",
      "None\n",
      "[1, 3, 5, 7, 9, 11, 13]\n"
     ]
    },
    {
     "data": {
      "text/plain": [
       "[1, 3, 5, 7, 9, 11, 13, 'a', 'b', 'c', 'd', 'e']"
      ]
     },
     "execution_count": 14,
     "metadata": {},
     "output_type": "execute_result"
    }
   ],
   "source": [
    "List1 = [1,3,5,7,9]\n",
    "List2 = ['a', 'b', 'c', 'd', 'e']\n",
    "print(List1, List2)\n",
    "List1.append(11)\n",
    "print(List1)\n",
    "print(eval(\"List1.append(13)\"))\n",
    "print(List1)\n",
    "eval('List1 + List2')\n"
   ]
  },
  {
   "cell_type": "code",
   "execution_count": 19,
   "id": "fc6a1c56",
   "metadata": {},
   "outputs": [
    {
     "name": "stdout",
     "output_type": "stream",
     "text": [
      "1+2 <class 'str'>\n",
      "3 <class 'str'> <class 'int'>\n"
     ]
    }
   ],
   "source": [
    "s = '1+2'\n",
    "print(s, type(s))\n",
    "r = eval(s)\n",
    "print(r, type(s), type(r))"
   ]
  },
  {
   "cell_type": "code",
   "execution_count": 20,
   "id": "d5cabac4",
   "metadata": {},
   "outputs": [
    {
     "name": "stdout",
     "output_type": "stream",
     "text": [
      "[1, 6, 7.5, 1, 2] <class 'list'>\n"
     ]
    }
   ],
   "source": [
    "r = eval('[1, 6, 7.5] + [1, 2]')\n",
    "print(r, type(r))"
   ]
  },
  {
   "cell_type": "code",
   "execution_count": 21,
   "id": "f313e30a",
   "metadata": {},
   "outputs": [
    {
     "ename": "TypeError",
     "evalue": "can only concatenate tuple (not \"list\") to tuple",
     "output_type": "error",
     "traceback": [
      "\u001b[1;31m---------------------------------------------------------------------------\u001b[0m",
      "\u001b[1;31mTypeError\u001b[0m                                 Traceback (most recent call last)",
      "Cell \u001b[1;32mIn[21], line 1\u001b[0m\n\u001b[1;32m----> 1\u001b[0m r \u001b[38;5;241m=\u001b[39m \u001b[38;5;28meval\u001b[39m(\u001b[38;5;124m'\u001b[39m\u001b[38;5;124m(1, 6, 7.5) + [1, 2]\u001b[39m\u001b[38;5;124m'\u001b[39m)\n\u001b[0;32m      2\u001b[0m \u001b[38;5;28mprint\u001b[39m(r, \u001b[38;5;28mtype\u001b[39m(r))\n",
      "File \u001b[1;32m<string>:1\u001b[0m\n",
      "\u001b[1;31mTypeError\u001b[0m: can only concatenate tuple (not \"list\") to tuple"
     ]
    }
   ],
   "source": [
    "r = eval('(1, 6, 7.5) + [1, 2]')\n",
    "print(r, type(r))"
   ]
  },
  {
   "cell_type": "code",
   "execution_count": 26,
   "id": "c07dae74",
   "metadata": {},
   "outputs": [
    {
     "name": "stdout",
     "output_type": "stream",
     "text": [
      "4 <class 'int'> 6 <class 'int'>\n",
      "10 <class 'int'>\n"
     ]
    }
   ],
   "source": [
    "i1 = eval(input(\"operand 1: \"))\n",
    "i2 = eval(input(\"operand 2: \"))\n",
    "print(i1, type(i1), i2, type(i2))\n",
    "r = i1 + i2\n",
    "print(r, type(r))"
   ]
  },
  {
   "cell_type": "code",
   "execution_count": 27,
   "id": "7d44faec",
   "metadata": {},
   "outputs": [
    {
     "ename": "NameError",
     "evalue": "name 'one' is not defined",
     "output_type": "error",
     "traceback": [
      "\u001b[1;31m---------------------------------------------------------------------------\u001b[0m",
      "\u001b[1;31mNameError\u001b[0m                                 Traceback (most recent call last)",
      "Cell \u001b[1;32mIn[27], line 1\u001b[0m\n\u001b[1;32m----> 1\u001b[0m i1 \u001b[38;5;241m=\u001b[39m \u001b[38;5;28meval\u001b[39m(\u001b[38;5;28minput\u001b[39m(\u001b[38;5;124m\"\u001b[39m\u001b[38;5;124moperand 1: \u001b[39m\u001b[38;5;124m\"\u001b[39m))\n\u001b[0;32m      2\u001b[0m i2 \u001b[38;5;241m=\u001b[39m \u001b[38;5;28meval\u001b[39m(\u001b[38;5;28minput\u001b[39m(\u001b[38;5;124m\"\u001b[39m\u001b[38;5;124moperand 2: \u001b[39m\u001b[38;5;124m\"\u001b[39m))\n\u001b[0;32m      3\u001b[0m \u001b[38;5;28mprint\u001b[39m(i1, \u001b[38;5;28mtype\u001b[39m(i1), i2, \u001b[38;5;28mtype\u001b[39m(i2))\n",
      "File \u001b[1;32m<string>:1\u001b[0m\n",
      "\u001b[1;31mNameError\u001b[0m: name 'one' is not defined"
     ]
    }
   ],
   "source": [
    "i1 = eval(input(\"operand 1: \"))\n",
    "i2 = eval(input(\"operand 2: \"))\n",
    "print(i1, type(i1), i2, type(i2))\n",
    "r = i1 + i2\n",
    "print(r, type(r))"
   ]
  },
  {
   "cell_type": "code",
   "execution_count": 28,
   "id": "81b2c53a",
   "metadata": {},
   "outputs": [
    {
     "name": "stdout",
     "output_type": "stream",
     "text": [
      "one <class 'str'> 1+1 <class 'str'>\n",
      "one1+1 <class 'str'>\n"
     ]
    }
   ],
   "source": [
    "i1 = eval(input(\"operand 1: \"))\n",
    "i2 = eval(input(\"operand 2: \"))\n",
    "print(i1, type(i1), i2, type(i2))\n",
    "r = i1 + i2\n",
    "print(r, type(r))"
   ]
  },
  {
   "cell_type": "markdown",
   "id": "dfdb257c",
   "metadata": {},
   "source": [
    "# 5.5.2 `exec` method"
   ]
  },
  {
   "cell_type": "code",
   "execution_count": 32,
   "id": "0d0ec995",
   "metadata": {},
   "outputs": [
    {
     "name": "stdout",
     "output_type": "stream",
     "text": [
      "2 2 None\n"
     ]
    }
   ],
   "source": [
    "expression = '1+1'\n",
    "statement = 'r = 1 + 1'\n",
    "q = eval(expression)\n",
    "# q = eval(statement)  # SyntaxError: invalid syntax\n",
    "exec(statement)\n",
    "a = exec(expression)\n",
    "\n",
    "print(q, r, a)"
   ]
  },
  {
   "cell_type": "code",
   "execution_count": 33,
   "id": "f6a60359",
   "metadata": {},
   "outputs": [
    {
     "name": "stdout",
     "output_type": "stream",
     "text": [
      "Sum =  21\n"
     ]
    }
   ],
   "source": [
    "Example = 'x=6\\ny=15\\nprint(\"Sum = \", x+y)'\n",
    "exec(Example)"
   ]
  },
  {
   "cell_type": "code",
   "execution_count": 34,
   "id": "e8d397a8",
   "metadata": {},
   "outputs": [],
   "source": [
    "somecode = \"\"\"\n",
    "def f(t):\n",
    "    term1 = exp(-a*t)*sin(w1*x)\n",
    "    test2 = 2*sin(w2*x)\n",
    "    return term1 + term2\n",
    "\"\"\"\n",
    "exec(somecode)"
   ]
  },
  {
   "cell_type": "code",
   "execution_count": 35,
   "id": "67b8aa0a",
   "metadata": {},
   "outputs": [
    {
     "name": "stdout",
     "output_type": "stream",
     "text": [
      "21\n"
     ]
    }
   ],
   "source": [
    "somecode = 'def f():\\n  x=6\\ny=15\\nprint(x+y)'\n",
    "exec(somecode)"
   ]
  },
  {
   "cell_type": "code",
   "execution_count": 39,
   "id": "df7cdded",
   "metadata": {},
   "outputs": [
    {
     "name": "stdout",
     "output_type": "stream",
     "text": [
      "f(5) = 26.666666666666668\n",
      "f(3) = 10.0\n",
      "f(2) = 4.666666666666667\n",
      "f(1) = 1.3333333333333333\n"
     ]
    }
   ],
   "source": [
    "formula = input('Write a formul involving x: ')\n",
    "code = f\"\"\"\n",
    "def f(x):\n",
    "    return {formula}\n",
    "\"\"\"\n",
    "\n",
    "from math import *\n",
    "exec(code)\n",
    "\n",
    "x = 0\n",
    "while x is not None:\n",
    "    x = eval(input('Give x (None to quit): '))\n",
    "    if x is not None:\n",
    "        y = f(x)\n",
    "        print(f'f({x}) = {y}')"
   ]
  },
  {
   "cell_type": "code",
   "execution_count": 40,
   "id": "9e94d0eb",
   "metadata": {},
   "outputs": [
    {
     "ename": "SyntaxError",
     "evalue": "invalid syntax (<string>, line 3)",
     "output_type": "error",
     "traceback": [
      "Traceback \u001b[1;36m(most recent call last)\u001b[0m:\n",
      "\u001b[0m  File \u001b[0;32mc:\\ProgramData\\anaconda3\\Lib\\site-packages\\IPython\\core\\interactiveshell.py:3577\u001b[0m in \u001b[0;35mrun_code\u001b[0m\n    exec(code_obj, self.user_global_ns, self.user_ns)\u001b[0m\n",
      "\u001b[1;36m  Cell \u001b[1;32mIn[40], line 10\u001b[1;36m\n\u001b[1;33m    exec(code)\u001b[1;36m\n",
      "\u001b[1;36m  File \u001b[1;32m<string>:3\u001b[1;36m\u001b[0m\n\u001b[1;33m    return --f=c:\\Users\\v0cn037\\AppData\\Roaming\\Code\\User\\globalStorage\\ms-toolsai.jupyter\\version-2025.3.0\\jupyter\\runtime\\kernel-v3507a56a81b96d783d8912d2d5d727ec3e004a046.json\u001b[0m\n\u001b[1;37m              ^\u001b[0m\n\u001b[1;31mSyntaxError\u001b[0m\u001b[1;31m:\u001b[0m invalid syntax\n"
     ]
    }
   ],
   "source": [
    "from math import *\n",
    "import sys\n",
    "\n",
    "formula = sys.argv[1]\n",
    "code = f\"\"\"\n",
    "def f(x):\n",
    "    return {formula}\n",
    "\"\"\"\n",
    "\n",
    "exec(code)\n",
    "x = float(sys.argv[2])\n",
    "\n",
    "def numerical_derivative(f, x, h=1E-5):\n",
    "    return (f(x+h)-f(x-h))/(2*h)\n",
    "\n",
    "print(f'Numerical derivative: {numerical_derivative(f, x)}')"
   ]
  },
  {
   "cell_type": "code",
   "execution_count": null,
   "id": "e9e84dbf",
   "metadata": {},
   "outputs": [],
   "source": []
  }
 ],
 "metadata": {
  "kernelspec": {
   "display_name": "base",
   "language": "python",
   "name": "python3"
  },
  "language_info": {
   "codemirror_mode": {
    "name": "ipython",
    "version": 3
   },
   "file_extension": ".py",
   "mimetype": "text/x-python",
   "name": "python",
   "nbconvert_exporter": "python",
   "pygments_lexer": "ipython3",
   "version": "3.12.7"
  }
 },
 "nbformat": 4,
 "nbformat_minor": 5
}
