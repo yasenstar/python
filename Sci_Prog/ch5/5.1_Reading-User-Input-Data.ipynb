{
 "cells": [
  {
   "cell_type": "markdown",
   "id": "df483c5c",
   "metadata": {},
   "source": [
    "# 5.1 Reading User Input Data"
   ]
  },
  {
   "cell_type": "code",
   "execution_count": 1,
   "id": "0e242cc0",
   "metadata": {},
   "outputs": [
    {
     "name": "stdout",
     "output_type": "stream",
     "text": [
      "34.8773231887747\n"
     ]
    }
   ],
   "source": [
    "from math import exp\n",
    "p0 = 100.0\n",
    "h0 = 8400\n",
    "\n",
    "h = 8848\n",
    "p = p0 * exp(-h/h0)\n",
    "print(p)"
   ]
  },
  {
   "cell_type": "code",
   "execution_count": 4,
   "id": "6830925d",
   "metadata": {},
   "outputs": [
    {
     "name": "stdout",
     "output_type": "stream",
     "text": [
      "95.34969548334767\n"
     ]
    }
   ],
   "source": [
    "from math import exp\n",
    "h = input('Please input the altitude (in meters): ')\n",
    "h = float(h)\n",
    "\n",
    "p0 = 100.0\n",
    "h0 = 8400\n",
    "\n",
    "p = p0 * exp(-h/h0)\n",
    "print(p)"
   ]
  },
  {
   "cell_type": "code",
   "execution_count": 5,
   "id": "0a7a792c",
   "metadata": {},
   "outputs": [
    {
     "name": "stdout",
     "output_type": "stream",
     "text": [
      "62.11451576154515\n"
     ]
    }
   ],
   "source": [
    "from math import exp\n",
    "h = float(input('Please input the altitude (in meters): '))\n",
    "\n",
    "p0 = 100.0\n",
    "h0 = 8400\n",
    "\n",
    "p = p0 * exp(-h/h0)\n",
    "print(p)"
   ]
  },
  {
   "cell_type": "code",
   "execution_count": 6,
   "id": "6e5628e3",
   "metadata": {},
   "outputs": [
    {
     "name": "stdout",
     "output_type": "stream",
     "text": [
      "2\n",
      "4\n",
      "6\n",
      "8\n",
      "10\n",
      "12\n",
      "14\n",
      "16\n",
      "18\n",
      "20\n"
     ]
    }
   ],
   "source": [
    "n = input(\"n=? \")\n",
    "n = int(n)\n",
    "for i in range(1, n+1):\n",
    "    print(2*i)"
   ]
  },
  {
   "cell_type": "code",
   "execution_count": 9,
   "id": "9fa75c21",
   "metadata": {},
   "outputs": [
    {
     "name": "stdout",
     "output_type": "stream",
     "text": [
      "a1 + a2 = 50\n"
     ]
    }
   ],
   "source": [
    "a1 = int(input(\"please input first number: \"))\n",
    "a2 = int(input(\"please input second number: \"))\n",
    "print(f\"a1 + a2 = {a1+a2}\")"
   ]
  },
  {
   "cell_type": "markdown",
   "id": "03760c88",
   "metadata": {},
   "source": [
    "# 5.1.2 Command Line Arguments Input"
   ]
  },
  {
   "cell_type": "code",
   "execution_count": 10,
   "id": "33667061",
   "metadata": {},
   "outputs": [
    {
     "ename": "ValueError",
     "evalue": "could not convert string to float: '--f=c:\\\\Users\\\\v0cn037\\\\AppData\\\\Roaming\\\\Code\\\\User\\\\globalStorage\\\\ms-toolsai.jupyter\\\\version-2025.3.0\\\\jupyter\\\\runtime\\\\kernel-v3e46d0dcfdb90dcb9c71ead9c6020fbb4aebad71a.json'",
     "output_type": "error",
     "traceback": [
      "\u001b[1;31m---------------------------------------------------------------------------\u001b[0m",
      "\u001b[1;31mValueError\u001b[0m                                Traceback (most recent call last)",
      "Cell \u001b[1;32mIn[10], line 5\u001b[0m\n\u001b[0;32m      2\u001b[0m \u001b[38;5;28;01mfrom\u001b[39;00m \u001b[38;5;21;01mmath\u001b[39;00m \u001b[38;5;28;01mimport\u001b[39;00m exp\n\u001b[0;32m      4\u001b[0m h \u001b[38;5;241m=\u001b[39m sys\u001b[38;5;241m.\u001b[39margv[\u001b[38;5;241m1\u001b[39m]\n\u001b[1;32m----> 5\u001b[0m h \u001b[38;5;241m=\u001b[39m \u001b[38;5;28mfloat\u001b[39m(h)\n\u001b[0;32m      7\u001b[0m p0 \u001b[38;5;241m=\u001b[39m \u001b[38;5;241m100.0\u001b[39m\n\u001b[0;32m      8\u001b[0m h0 \u001b[38;5;241m=\u001b[39m \u001b[38;5;241m8400\u001b[39m\n",
      "\u001b[1;31mValueError\u001b[0m: could not convert string to float: '--f=c:\\\\Users\\\\v0cn037\\\\AppData\\\\Roaming\\\\Code\\\\User\\\\globalStorage\\\\ms-toolsai.jupyter\\\\version-2025.3.0\\\\jupyter\\\\runtime\\\\kernel-v3e46d0dcfdb90dcb9c71ead9c6020fbb4aebad71a.json'"
     ]
    }
   ],
   "source": [
    "import sys\n",
    "from math import exp\n",
    "\n",
    "h = sys.argv[1]\n",
    "h = float(h)\n",
    "\n",
    "p0 = 100.0\n",
    "h0 = 8400\n",
    "\n",
    "p = p0 * exp(-h/h0)\n",
    "print(p)"
   ]
  },
  {
   "cell_type": "code",
   "execution_count": null,
   "id": "7799a4c0",
   "metadata": {},
   "outputs": [],
   "source": []
  }
 ],
 "metadata": {
  "kernelspec": {
   "display_name": "base",
   "language": "python",
   "name": "python3"
  },
  "language_info": {
   "codemirror_mode": {
    "name": "ipython",
    "version": 3
   },
   "file_extension": ".py",
   "mimetype": "text/x-python",
   "name": "python",
   "nbconvert_exporter": "python",
   "pygments_lexer": "ipython3",
   "version": "3.12.7"
  }
 },
 "nbformat": 4,
 "nbformat_minor": 5
}
