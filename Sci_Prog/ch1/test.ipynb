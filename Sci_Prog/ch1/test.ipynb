{
 "cells": [
  {
   "cell_type": "code",
   "execution_count": 1,
   "id": "829757f4-7186-4a69-bda5-eb947dab1dca",
   "metadata": {},
   "outputs": [
    {
     "name": "stdout",
     "output_type": "stream",
     "text": [
      "hello world!\n"
     ]
    }
   ],
   "source": [
    "print(\"hello world!\")"
   ]
  },
  {
   "cell_type": "code",
   "execution_count": 2,
   "id": "09123af6-aaa2-4232-98c2-e337460aba61",
   "metadata": {},
   "outputs": [],
   "source": [
    "greeting = \"Yasen\""
   ]
  },
  {
   "cell_type": "code",
   "execution_count": 3,
   "id": "8910f2e6-01b2-4c8c-b837-f15d8b3e45d9",
   "metadata": {},
   "outputs": [
    {
     "name": "stdout",
     "output_type": "stream",
     "text": [
      "hello  Yasen\n"
     ]
    }
   ],
   "source": [
    "print(\"hello \", greeting)"
   ]
  },
  {
   "cell_type": "code",
   "execution_count": 1,
   "id": "906d5e84-f26c-4677-b2c0-6331ebdedeae",
   "metadata": {},
   "outputs": [
    {
     "name": "stdout",
     "output_type": "stream",
     "text": [
      "new hello\n"
     ]
    }
   ],
   "source": [
    "print(\"new hello\")"
   ]
  },
  {
   "cell_type": "code",
   "execution_count": null,
   "id": "72faba0a",
   "metadata": {},
   "outputs": [],
   "source": []
  }
 ],
 "metadata": {
  "kernelspec": {
   "display_name": "base",
   "language": "python",
   "name": "python3"
  },
  "language_info": {
   "codemirror_mode": {
    "name": "ipython",
    "version": 3
   },
   "file_extension": ".py",
   "mimetype": "text/x-python",
   "name": "python",
   "nbconvert_exporter": "python",
   "pygments_lexer": "ipython3",
   "version": "3.12.7"
  }
 },
 "nbformat": 4,
 "nbformat_minor": 5
}
