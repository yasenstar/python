{
 "cells": [
  {
   "cell_type": "markdown",
   "metadata": {},
   "source": [
    "# 2.3 Formatting Text Output"
   ]
  },
  {
   "cell_type": "code",
   "execution_count": 1,
   "metadata": {},
   "outputs": [
    {
     "name": "stdout",
     "output_type": "stream",
     "text": [
      "140.71004226562505\n"
     ]
    }
   ],
   "source": [
    "initial_amount = 100\n",
    "interest_rate = 5.0\n",
    "number_of_years = 7\n",
    "final_amount = initial_amount * (1 + interest_rate / 100)**number_of_years\n",
    "print(final_amount)"
   ]
  },
  {
   "cell_type": "code",
   "execution_count": 2,
   "metadata": {},
   "outputs": [
    {
     "name": "stdout",
     "output_type": "stream",
     "text": [
      "100 140.71004226562505\n"
     ]
    }
   ],
   "source": [
    "print(initial_amount, final_amount)"
   ]
  },
  {
   "cell_type": "code",
   "execution_count": 3,
   "metadata": {},
   "outputs": [
    {
     "name": "stdout",
     "output_type": "stream",
     "text": [
      "After 7 years, 100 EUR has grown to 140.71004226562505 EUR with interest as 5.0\n"
     ]
    }
   ],
   "source": [
    "print(f\"After {number_of_years} years, {initial_amount} EUR has grown to {final_amount} EUR with interest as {interest_rate}\")"
   ]
  },
  {
   "cell_type": "code",
   "execution_count": 4,
   "metadata": {},
   "outputs": [
    {
     "name": "stdout",
     "output_type": "stream",
     "text": [
      "2+2 = 4\n"
     ]
    }
   ],
   "source": [
    "print(f\"2+2 = {2+2}\")"
   ]
  },
  {
   "cell_type": "code",
   "execution_count": 5,
   "metadata": {},
   "outputs": [
    {
     "name": "stdout",
     "output_type": "stream",
     "text": [
      "After 7 years, 100 EUR has grown to 1.4e+02 EUR with interest as 5.0\n"
     ]
    }
   ],
   "source": [
    "print(f\"After {number_of_years} years, {initial_amount} EUR has grown to {final_amount:.2} EUR with interest as {interest_rate}\")"
   ]
  },
  {
   "cell_type": "code",
   "execution_count": 6,
   "metadata": {},
   "outputs": [
    {
     "name": "stdout",
     "output_type": "stream",
     "text": [
      "After 7 years, 100 EUR has grown to 140.71 EUR with interest as 5.0\n"
     ]
    }
   ],
   "source": [
    "print(f\"After {number_of_years} years, {initial_amount} EUR has grown to {final_amount:.2f} EUR with interest as {interest_rate}\")"
   ]
  },
  {
   "cell_type": "code",
   "execution_count": 8,
   "metadata": {},
   "outputs": [
    {
     "name": "stdout",
     "output_type": "stream",
     "text": [
      "After 7 years, 100 EUR has grown to 140.7100 EUR with interest as 5.0\n"
     ]
    }
   ],
   "source": [
    "print(f\"After {number_of_years} years, {initial_amount} EUR has grown to {final_amount:8.4f} EUR with interest as {interest_rate}\")"
   ]
  },
  {
   "cell_type": "code",
   "execution_count": 9,
   "metadata": {},
   "outputs": [
    {
     "name": "stdout",
     "output_type": "stream",
     "text": [
      "Integer set to occupy exactuly 8 chars of space:\n",
      "r =       87\n"
     ]
    }
   ],
   "source": [
    "r = 87\n",
    "print(f\"Integer set to occupy exactuly 8 chars of space:\\nr = {r:8d}\")"
   ]
  },
  {
   "cell_type": "code",
   "execution_count": 11,
   "metadata": {},
   "outputs": [
    {
     "name": "stdout",
     "output_type": "stream",
     "text": [
      "Without the formate specifier: a = 7653224124.122, b = 1.2345\n",
      "With the format specifier: a = 7.65322e+09, b = 1.2345\n"
     ]
    }
   ],
   "source": [
    "a = 7653224124.122\n",
    "b = 1.2345\n",
    "print(f\"Without the formate specifier: a = {a}, b = {b}\")\n",
    "print(f\"With the format specifier: a = {a:g}, b = {b:g}\")"
   ]
  }
 ],
 "metadata": {
  "kernelspec": {
   "display_name": "base",
   "language": "python",
   "name": "python3"
  },
  "language_info": {
   "codemirror_mode": {
    "name": "ipython",
    "version": 3
   },
   "file_extension": ".py",
   "mimetype": "text/x-python",
   "name": "python",
   "nbconvert_exporter": "python",
   "pygments_lexer": "ipython3",
   "version": "3.12.7"
  }
 },
 "nbformat": 4,
 "nbformat_minor": 2
}
